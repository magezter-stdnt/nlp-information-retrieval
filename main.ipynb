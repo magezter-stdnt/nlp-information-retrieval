{
 "cells": [
  {
   "attachments": {},
   "cell_type": "markdown",
   "metadata": {},
   "source": [
    "# Modeling (otw)\n",
    "- masih belum fine-tuning pretrained model"
   ]
  },
  {
   "attachments": {},
   "cell_type": "markdown",
   "metadata": {},
   "source": [
    "## Import Library & Datasets"
   ]
  },
  {
   "cell_type": "code",
   "execution_count": 8,
   "metadata": {},
   "outputs": [
    {
     "data": {
      "text/plain": [
       "['[CLS]',\n",
       " '“',\n",
       " 'infeksi',\n",
       " 'co',\n",
       " '##vid',\n",
       " '-',\n",
       " '19',\n",
       " 'adalah',\n",
       " 'salah',\n",
       " 'satu',\n",
       " 'penyakit',\n",
       " 'yang',\n",
       " 'perlu',\n",
       " 'diwaspadai',\n",
       " '.']"
      ]
     },
     "execution_count": 8,
     "metadata": {},
     "output_type": "execute_result"
    }
   ],
   "source": [
    "import torch\n",
    "from transformers import BertTokenizer, BertModel\n",
    "from sklearn.metrics.pairwise import cosine_similarity\n",
    "\n",
    "# load content_tokens\n",
    "content_tokens = []\n",
    "with open('content_tokens.txt', 'r') as f:\n",
    "    for line in f:\n",
    "        content_tokens.append(line.strip())\n",
    "\n",
    "content_tokens[:15]"
   ]
  },
  {
   "attachments": {},
   "cell_type": "markdown",
   "metadata": {},
   "source": [
    "## Feature Extraction \n",
    "(small preprocessing) sebelum dataset digunakan"
   ]
  },
  {
   "cell_type": "code",
   "execution_count": null,
   "metadata": {},
   "outputs": [],
   "source": [
    "# Load the pre-trained model and tokenizer\n",
    "model_name = 'indobenchmark/indobert-base-p2'\n",
    "tokenizer = BertTokenizer.from_pretrained(model_name)\n",
    "model = BertModel.from_pretrained(model_name)"
   ]
  },
  {
   "cell_type": "code",
   "execution_count": null,
   "metadata": {},
   "outputs": [],
   "source": [
    "# Get the embeddings of the content\n",
    "content_embeddings = []\n",
    "batch_size = 8\n",
    "\n",
    "for i in range(0, len(content_tokens), batch_size):\n",
    "    batch = content_tokens[i:i+batch_size]\n",
    "    encoded_inputs = tokenizer.batch_encode_plus(batch, padding=True, truncation=True, max_length=max_sequence_length, return_tensors='pt')\n",
    "    input_ids = encoded_inputs['input_ids']\n",
    "    attention_mask = encoded_inputs['attention_mask']\n",
    "    with torch.no_grad():\n",
    "        outputs = model(input_ids=input_ids, attention_mask=attention_mask)\n",
    "        embeddings = outputs.last_hidden_state[:, 0, :]\n",
    "        content_embeddings.append(embeddings)\n",
    "\n",
    "content_embeddings = torch.cat(content_embeddings)"
   ]
  },
  {
   "attachments": {},
   "cell_type": "markdown",
   "metadata": {},
   "source": [
    "## Modeling"
   ]
  },
  {
   "cell_type": "code",
   "execution_count": null,
   "metadata": {},
   "outputs": [],
   "source": [
    "# Function to perform information retrieval\n",
    "def retrieve_documents(query, k=3):\n",
    "    query_tokens = tokenizer.tokenize(query)\n",
    "    query_tokens = ['[CLS]'] + query_tokens + ['[SEP]']\n",
    "    encoded_query = tokenizer.encode_plus(query_tokens, padding=True, truncation=True, max_length=max_sequence_length, return_tensors='pt')\n",
    "    input_ids = encoded_query['input_ids']\n",
    "    attention_mask = encoded_query['attention_mask']\n",
    "    with torch.no_grad():\n",
    "        query_outputs = model(input_ids=input_ids, attention_mask=attention_mask)\n",
    "        query_embedding = query_outputs.last_hidden_state[:, 0, :]\n",
    "    similarities = cosine_similarity(query_embedding, content_embeddings)[0]\n",
    "    top_indices = similarities.argsort()[::-1][:k]\n",
    "    top_documents = df.loc[top_indices]\n",
    "    return top_documents\n",
    "\n",
    "# Example usage\n",
    "query = 'Your query here...'\n",
    "top_docs = retrieve_documents(query, k=3)\n",
    "print(top_docs[['title', 'content']])"
   ]
  },
  {
   "cell_type": "code",
   "execution_count": 3,
   "metadata": {},
   "outputs": [
    {
     "data": {
      "text/plain": [
       "0    {'id': 3721, 'text': 'Liputan6 . com , Jakarta...\n",
       "Name: 0, dtype: object"
      ]
     },
     "execution_count": 3,
     "metadata": {},
     "output_type": "execute_result"
    }
   ],
   "source": [
    "# read valid.json\n",
    "\n",
    "import json\n",
    "import os\n",
    "import sys\n",
    "import time\n",
    "\n",
    "import numpy as np\n",
    "import pandas as pd\n",
    "\n",
    "from sklearn.model_selection import train_test_split\n",
    "from sklearn.metrics import accuracy_score, f1_score, precision_score, recall_score, classification_report, confusion_matrix\n",
    "\n",
    "validation = pd.read_json('valid.json', lines=True)"
   ]
  }
 ],
 "metadata": {
  "kernelspec": {
   "display_name": "Python 3",
   "language": "python",
   "name": "python3"
  },
  "language_info": {
   "codemirror_mode": {
    "name": "ipython",
    "version": 3
   },
   "file_extension": ".py",
   "mimetype": "text/x-python",
   "name": "python",
   "nbconvert_exporter": "python",
   "pygments_lexer": "ipython3",
   "version": "3.10.7"
  },
  "orig_nbformat": 4
 },
 "nbformat": 4,
 "nbformat_minor": 2
}
