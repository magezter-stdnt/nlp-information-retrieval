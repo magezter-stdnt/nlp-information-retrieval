{
 "cells": [
  {
   "attachments": {},
   "cell_type": "markdown",
   "metadata": {},
   "source": [
    "# TF-IDF with KNN"
   ]
  },
  {
   "cell_type": "code",
   "execution_count": 1,
   "metadata": {},
   "outputs": [
    {
     "name": "stdout",
     "output_type": "stream",
     "text": [
      "(9979, 16)\n"
     ]
    },
    {
     "data": {
      "text/html": [
       "<div>\n",
       "<style scoped>\n",
       "    .dataframe tbody tr th:only-of-type {\n",
       "        vertical-align: middle;\n",
       "    }\n",
       "\n",
       "    .dataframe tbody tr th {\n",
       "        vertical-align: top;\n",
       "    }\n",
       "\n",
       "    .dataframe thead th {\n",
       "        text-align: right;\n",
       "    }\n",
       "</style>\n",
       "<table border=\"1\" class=\"dataframe\">\n",
       "  <thead>\n",
       "    <tr style=\"text-align: right;\">\n",
       "      <th></th>\n",
       "      <th>url</th>\n",
       "      <th>title</th>\n",
       "      <th>title_count</th>\n",
       "      <th>content</th>\n",
       "      <th>content_count</th>\n",
       "      <th>title_tokens</th>\n",
       "      <th>content_tokens</th>\n",
       "      <th>title_tokens_stopwords</th>\n",
       "      <th>title_tokens_stopwords_count</th>\n",
       "      <th>content_tokens_stopwords</th>\n",
       "      <th>content_tokens_stopwords_count</th>\n",
       "      <th>title_tokens_stopwords_stemmed</th>\n",
       "      <th>title_tokens_stopwords_stemmed_count</th>\n",
       "      <th>content_tokens_stopwords_stemmed</th>\n",
       "      <th>content_tokens_stopwords_stemmed_count</th>\n",
       "      <th>document_id</th>\n",
       "    </tr>\n",
       "  </thead>\n",
       "  <tbody>\n",
       "    <tr>\n",
       "      <th>0</th>\n",
       "      <td>https://www.halodoc.com/ibu-perhatikan-5-hal-i...</td>\n",
       "      <td>ibu, perhatikan 5 hal ini saat memilih car se...</td>\n",
       "      <td>11</td>\n",
       "      <td>bagi orang tua yang memiliki kendaraan, memili...</td>\n",
       "      <td>575</td>\n",
       "      <td>['ibu', ',', 'perhatikan', '5', 'hal', 'ini', ...</td>\n",
       "      <td>['bagi', 'orang', 'tua', 'yang', 'memiliki', '...</td>\n",
       "      <td>[',', 'perhatikan', '5', 'memilih', 'car', 'se...</td>\n",
       "      <td>7</td>\n",
       "      <td>['orang', 'tua', 'memiliki', 'kendaraan', ',',...</td>\n",
       "      <td>339</td>\n",
       "      <td>['', 'perhati', '5', 'pilih', 'car', 'seat', '...</td>\n",
       "      <td>7</td>\n",
       "      <td>['orang', 'tua', 'milik', 'kendara', '', 'memi...</td>\n",
       "      <td>339</td>\n",
       "      <td>0</td>\n",
       "    </tr>\n",
       "    <tr>\n",
       "      <th>1</th>\n",
       "      <td>https://www.halodoc.com/catat-ini-6-tips-menyi...</td>\n",
       "      <td>catat, ini 6 tips menyimpan beras agar tidak ...</td>\n",
       "      <td>10</td>\n",
       "      <td>sebagai makanan pokok beras harus disimpan den...</td>\n",
       "      <td>617</td>\n",
       "      <td>['catat', ',', 'ini', '6', 'tips', 'menyimpan'...</td>\n",
       "      <td>['sebagai', 'makanan', 'pokok', 'beras', 'haru...</td>\n",
       "      <td>['catat', ',', '6', 'tips', 'menyimpan', 'bera...</td>\n",
       "      <td>7</td>\n",
       "      <td>['makanan', 'pokok', 'beras', 'disimpan', 'kua...</td>\n",
       "      <td>347</td>\n",
       "      <td>['catat', '', '6', 'tips', 'simpan', 'beras', ...</td>\n",
       "      <td>7</td>\n",
       "      <td>['makan', 'pokok', 'beras', 'simpan', 'kualita...</td>\n",
       "      <td>347</td>\n",
       "      <td>1</td>\n",
       "    </tr>\n",
       "    <tr>\n",
       "      <th>2</th>\n",
       "      <td>https://www.halodoc.com/waspada-ini-6-bahaya-a...</td>\n",
       "      <td>waspada, ini 6 bahaya asap rokok bagi kesehat...</td>\n",
       "      <td>10</td>\n",
       "      <td>merokok tidak hanya berbahaya untuk dirimu sen...</td>\n",
       "      <td>708</td>\n",
       "      <td>['waspada', ',', 'ini', '6', 'bahaya', 'asap',...</td>\n",
       "      <td>['merokok', 'tidak', 'hanya', 'berbahaya', 'un...</td>\n",
       "      <td>['waspada', ',', '6', 'bahaya', 'asap', 'rokok...</td>\n",
       "      <td>8</td>\n",
       "      <td>['merokok', 'berbahaya', 'dirimu', 'orang-oran...</td>\n",
       "      <td>438</td>\n",
       "      <td>['waspada', '', '6', 'bahaya', 'asap', 'rokok'...</td>\n",
       "      <td>8</td>\n",
       "      <td>['rokok', 'bahaya', 'diri', 'orang', 'sekitar'...</td>\n",
       "      <td>438</td>\n",
       "      <td>2</td>\n",
       "    </tr>\n",
       "    <tr>\n",
       "      <th>3</th>\n",
       "      <td>https://www.halodoc.com/sering-terkena-polusi-...</td>\n",
       "      <td>sering terkena polusi, ketahui berbagi cara b...</td>\n",
       "      <td>9</td>\n",
       "      <td>sehari-hari, manusia terpapar polusi dalam jum...</td>\n",
       "      <td>569</td>\n",
       "      <td>['sering', 'terkena', 'polusi', ',', 'ketahui'...</td>\n",
       "      <td>['sehari-hari', ',', 'manusia', 'terpapar', 'p...</td>\n",
       "      <td>['terkena', 'polusi', ',', 'ketahui', 'berbagi...</td>\n",
       "      <td>7</td>\n",
       "      <td>['sehari-hari', ',', 'manusia', 'terpapar', 'p...</td>\n",
       "      <td>342</td>\n",
       "      <td>['kena', 'polusi', '', 'tahu', 'bagi', 'sih', ...</td>\n",
       "      <td>7</td>\n",
       "      <td>['hari', '', 'manusia', 'papar', 'polusi', 'as...</td>\n",
       "      <td>342</td>\n",
       "      <td>3</td>\n",
       "    </tr>\n",
       "    <tr>\n",
       "      <th>4</th>\n",
       "      <td>https://www.halodoc.com/ini-risiko-dan-manfaat...</td>\n",
       "      <td>ini risiko dan manfaat implan payudara yang p...</td>\n",
       "      <td>9</td>\n",
       "      <td>implan payudara adalah prosedur bedah kosmetik...</td>\n",
       "      <td>613</td>\n",
       "      <td>['ini', 'risiko', 'dan', 'manfaat', 'implan', ...</td>\n",
       "      <td>['implan', 'payudara', 'adalah', 'prosedur', '...</td>\n",
       "      <td>['risiko', 'manfaat', 'implan', 'payudara']</td>\n",
       "      <td>4</td>\n",
       "      <td>['implan', 'payudara', 'prosedur', 'bedah', 'k...</td>\n",
       "      <td>362</td>\n",
       "      <td>['risiko', 'manfaat', 'implan', 'payudara']</td>\n",
       "      <td>4</td>\n",
       "      <td>['implan', 'payudara', 'prosedur', 'bedah', 'k...</td>\n",
       "      <td>362</td>\n",
       "      <td>4</td>\n",
       "    </tr>\n",
       "  </tbody>\n",
       "</table>\n",
       "</div>"
      ],
      "text/plain": [
       "                                                 url  \\\n",
       "0  https://www.halodoc.com/ibu-perhatikan-5-hal-i...   \n",
       "1  https://www.halodoc.com/catat-ini-6-tips-menyi...   \n",
       "2  https://www.halodoc.com/waspada-ini-6-bahaya-a...   \n",
       "3  https://www.halodoc.com/sering-terkena-polusi-...   \n",
       "4  https://www.halodoc.com/ini-risiko-dan-manfaat...   \n",
       "\n",
       "                                               title  title_count  \\\n",
       "0   ibu, perhatikan 5 hal ini saat memilih car se...           11   \n",
       "1   catat, ini 6 tips menyimpan beras agar tidak ...           10   \n",
       "2   waspada, ini 6 bahaya asap rokok bagi kesehat...           10   \n",
       "3   sering terkena polusi, ketahui berbagi cara b...            9   \n",
       "4   ini risiko dan manfaat implan payudara yang p...            9   \n",
       "\n",
       "                                             content  content_count  \\\n",
       "0  bagi orang tua yang memiliki kendaraan, memili...            575   \n",
       "1  sebagai makanan pokok beras harus disimpan den...            617   \n",
       "2  merokok tidak hanya berbahaya untuk dirimu sen...            708   \n",
       "3  sehari-hari, manusia terpapar polusi dalam jum...            569   \n",
       "4  implan payudara adalah prosedur bedah kosmetik...            613   \n",
       "\n",
       "                                        title_tokens  \\\n",
       "0  ['ibu', ',', 'perhatikan', '5', 'hal', 'ini', ...   \n",
       "1  ['catat', ',', 'ini', '6', 'tips', 'menyimpan'...   \n",
       "2  ['waspada', ',', 'ini', '6', 'bahaya', 'asap',...   \n",
       "3  ['sering', 'terkena', 'polusi', ',', 'ketahui'...   \n",
       "4  ['ini', 'risiko', 'dan', 'manfaat', 'implan', ...   \n",
       "\n",
       "                                      content_tokens  \\\n",
       "0  ['bagi', 'orang', 'tua', 'yang', 'memiliki', '...   \n",
       "1  ['sebagai', 'makanan', 'pokok', 'beras', 'haru...   \n",
       "2  ['merokok', 'tidak', 'hanya', 'berbahaya', 'un...   \n",
       "3  ['sehari-hari', ',', 'manusia', 'terpapar', 'p...   \n",
       "4  ['implan', 'payudara', 'adalah', 'prosedur', '...   \n",
       "\n",
       "                              title_tokens_stopwords  \\\n",
       "0  [',', 'perhatikan', '5', 'memilih', 'car', 'se...   \n",
       "1  ['catat', ',', '6', 'tips', 'menyimpan', 'bera...   \n",
       "2  ['waspada', ',', '6', 'bahaya', 'asap', 'rokok...   \n",
       "3  ['terkena', 'polusi', ',', 'ketahui', 'berbagi...   \n",
       "4        ['risiko', 'manfaat', 'implan', 'payudara']   \n",
       "\n",
       "   title_tokens_stopwords_count  \\\n",
       "0                             7   \n",
       "1                             7   \n",
       "2                             8   \n",
       "3                             7   \n",
       "4                             4   \n",
       "\n",
       "                            content_tokens_stopwords  \\\n",
       "0  ['orang', 'tua', 'memiliki', 'kendaraan', ',',...   \n",
       "1  ['makanan', 'pokok', 'beras', 'disimpan', 'kua...   \n",
       "2  ['merokok', 'berbahaya', 'dirimu', 'orang-oran...   \n",
       "3  ['sehari-hari', ',', 'manusia', 'terpapar', 'p...   \n",
       "4  ['implan', 'payudara', 'prosedur', 'bedah', 'k...   \n",
       "\n",
       "   content_tokens_stopwords_count  \\\n",
       "0                             339   \n",
       "1                             347   \n",
       "2                             438   \n",
       "3                             342   \n",
       "4                             362   \n",
       "\n",
       "                      title_tokens_stopwords_stemmed  \\\n",
       "0  ['', 'perhati', '5', 'pilih', 'car', 'seat', '...   \n",
       "1  ['catat', '', '6', 'tips', 'simpan', 'beras', ...   \n",
       "2  ['waspada', '', '6', 'bahaya', 'asap', 'rokok'...   \n",
       "3  ['kena', 'polusi', '', 'tahu', 'bagi', 'sih', ...   \n",
       "4        ['risiko', 'manfaat', 'implan', 'payudara']   \n",
       "\n",
       "   title_tokens_stopwords_stemmed_count  \\\n",
       "0                                     7   \n",
       "1                                     7   \n",
       "2                                     8   \n",
       "3                                     7   \n",
       "4                                     4   \n",
       "\n",
       "                    content_tokens_stopwords_stemmed  \\\n",
       "0  ['orang', 'tua', 'milik', 'kendara', '', 'memi...   \n",
       "1  ['makan', 'pokok', 'beras', 'simpan', 'kualita...   \n",
       "2  ['rokok', 'bahaya', 'diri', 'orang', 'sekitar'...   \n",
       "3  ['hari', '', 'manusia', 'papar', 'polusi', 'as...   \n",
       "4  ['implan', 'payudara', 'prosedur', 'bedah', 'k...   \n",
       "\n",
       "   content_tokens_stopwords_stemmed_count  document_id  \n",
       "0                                     339            0  \n",
       "1                                     347            1  \n",
       "2                                     438            2  \n",
       "3                                     342            3  \n",
       "4                                     362            4  "
      ]
     },
     "execution_count": 1,
     "metadata": {},
     "output_type": "execute_result"
    }
   ],
   "source": [
    "# import\n",
    "import pandas as pd\n",
    "import numpy as np\n",
    "from nltk.corpus import stopwords\n",
    "from nltk.tokenize import word_tokenize\n",
    "from nltk.stem import PorterStemmer\n",
    "from Sastrawi.Stemmer.StemmerFactory import StemmerFactory\n",
    "\n",
    "# load dataset\n",
    "df = pd.read_csv('tf-idf_halodocnew_1.csv')\n",
    "print(df.shape)\n",
    "\n",
    "# check dataset\n",
    "df.head()"
   ]
  },
  {
   "cell_type": "code",
   "execution_count": 2,
   "metadata": {},
   "outputs": [],
   "source": [
    "import ast\n",
    "\n",
    "df['title_tokens'] = df['title_tokens'].apply(ast.literal_eval)\n",
    "df['content_tokens'] = df['content_tokens'].apply(ast.literal_eval)\n",
    "df['title_tokens_stopwords'] = df['title_tokens_stopwords'].apply(ast.literal_eval)\n",
    "df['content_tokens_stopwords'] = df['content_tokens_stopwords'].apply(ast.literal_eval)\n",
    "df['content_tokens_stopwords_stemmed'] = df['content_tokens_stopwords_stemmed'].apply(ast.literal_eval)\n",
    "df['title_tokens_stopwords_stemmed'] = df['title_tokens_stopwords_stemmed'].apply(ast.literal_eval)\n"
   ]
  },
  {
   "cell_type": "code",
   "execution_count": 3,
   "metadata": {},
   "outputs": [],
   "source": [
    "from sklearn.feature_extraction.text import TfidfVectorizer\n",
    "from sklearn.neighbors import NearestNeighbors\n",
    "\n",
    "# # defining the TF-IDF\n",
    "# tfidf_configs = {\n",
    "#     'lowercase': True,\n",
    "#     'analyzer': 'word',\n",
    "#     'stop_words': 'english',\n",
    "#     'binary': True,\n",
    "#     'max_df': 0.9,\n",
    "#     'max_features': 10_000\n",
    "# }\n",
    "# defining the number of documents to retrieve\n",
    "retriever_configs = {\n",
    "    'n_neighbors': 10,\n",
    "    'metric': 'cosine'\n",
    "}\n",
    "\n",
    "# defining our pipeline\n",
    "embedding = TfidfVectorizer()\n",
    "retriever = NearestNeighbors(**retriever_configs)"
   ]
  },
  {
   "cell_type": "code",
   "execution_count": 4,
   "metadata": {},
   "outputs": [],
   "source": [
    "df['document_id'] = range(len(df))"
   ]
  },
  {
   "cell_type": "code",
   "execution_count": 5,
   "metadata": {},
   "outputs": [
    {
     "data": {
      "text/html": [
       "<style>#sk-container-id-1 {color: black;background-color: white;}#sk-container-id-1 pre{padding: 0;}#sk-container-id-1 div.sk-toggleable {background-color: white;}#sk-container-id-1 label.sk-toggleable__label {cursor: pointer;display: block;width: 100%;margin-bottom: 0;padding: 0.3em;box-sizing: border-box;text-align: center;}#sk-container-id-1 label.sk-toggleable__label-arrow:before {content: \"▸\";float: left;margin-right: 0.25em;color: #696969;}#sk-container-id-1 label.sk-toggleable__label-arrow:hover:before {color: black;}#sk-container-id-1 div.sk-estimator:hover label.sk-toggleable__label-arrow:before {color: black;}#sk-container-id-1 div.sk-toggleable__content {max-height: 0;max-width: 0;overflow: hidden;text-align: left;background-color: #f0f8ff;}#sk-container-id-1 div.sk-toggleable__content pre {margin: 0.2em;color: black;border-radius: 0.25em;background-color: #f0f8ff;}#sk-container-id-1 input.sk-toggleable__control:checked~div.sk-toggleable__content {max-height: 200px;max-width: 100%;overflow: auto;}#sk-container-id-1 input.sk-toggleable__control:checked~label.sk-toggleable__label-arrow:before {content: \"▾\";}#sk-container-id-1 div.sk-estimator input.sk-toggleable__control:checked~label.sk-toggleable__label {background-color: #d4ebff;}#sk-container-id-1 div.sk-label input.sk-toggleable__control:checked~label.sk-toggleable__label {background-color: #d4ebff;}#sk-container-id-1 input.sk-hidden--visually {border: 0;clip: rect(1px 1px 1px 1px);clip: rect(1px, 1px, 1px, 1px);height: 1px;margin: -1px;overflow: hidden;padding: 0;position: absolute;width: 1px;}#sk-container-id-1 div.sk-estimator {font-family: monospace;background-color: #f0f8ff;border: 1px dotted black;border-radius: 0.25em;box-sizing: border-box;margin-bottom: 0.5em;}#sk-container-id-1 div.sk-estimator:hover {background-color: #d4ebff;}#sk-container-id-1 div.sk-parallel-item::after {content: \"\";width: 100%;border-bottom: 1px solid gray;flex-grow: 1;}#sk-container-id-1 div.sk-label:hover label.sk-toggleable__label {background-color: #d4ebff;}#sk-container-id-1 div.sk-serial::before {content: \"\";position: absolute;border-left: 1px solid gray;box-sizing: border-box;top: 0;bottom: 0;left: 50%;z-index: 0;}#sk-container-id-1 div.sk-serial {display: flex;flex-direction: column;align-items: center;background-color: white;padding-right: 0.2em;padding-left: 0.2em;position: relative;}#sk-container-id-1 div.sk-item {position: relative;z-index: 1;}#sk-container-id-1 div.sk-parallel {display: flex;align-items: stretch;justify-content: center;background-color: white;position: relative;}#sk-container-id-1 div.sk-item::before, #sk-container-id-1 div.sk-parallel-item::before {content: \"\";position: absolute;border-left: 1px solid gray;box-sizing: border-box;top: 0;bottom: 0;left: 50%;z-index: -1;}#sk-container-id-1 div.sk-parallel-item {display: flex;flex-direction: column;z-index: 1;position: relative;background-color: white;}#sk-container-id-1 div.sk-parallel-item:first-child::after {align-self: flex-end;width: 50%;}#sk-container-id-1 div.sk-parallel-item:last-child::after {align-self: flex-start;width: 50%;}#sk-container-id-1 div.sk-parallel-item:only-child::after {width: 0;}#sk-container-id-1 div.sk-dashed-wrapped {border: 1px dashed gray;margin: 0 0.4em 0.5em 0.4em;box-sizing: border-box;padding-bottom: 0.4em;background-color: white;}#sk-container-id-1 div.sk-label label {font-family: monospace;font-weight: bold;display: inline-block;line-height: 1.2em;}#sk-container-id-1 div.sk-label-container {text-align: center;}#sk-container-id-1 div.sk-container {/* jupyter's `normalize.less` sets `[hidden] { display: none; }` but bootstrap.min.css set `[hidden] { display: none !important; }` so we also need the `!important` here to be able to override the default hidden behavior on the sphinx rendered scikit-learn.org. See: https://github.com/scikit-learn/scikit-learn/issues/21755 */display: inline-block !important;position: relative;}#sk-container-id-1 div.sk-text-repr-fallback {display: none;}</style><div id=\"sk-container-id-1\" class=\"sk-top-container\"><div class=\"sk-text-repr-fallback\"><pre>NearestNeighbors(metric=&#x27;cosine&#x27;, n_neighbors=10)</pre><b>In a Jupyter environment, please rerun this cell to show the HTML representation or trust the notebook. <br />On GitHub, the HTML representation is unable to render, please try loading this page with nbviewer.org.</b></div><div class=\"sk-container\" hidden><div class=\"sk-item\"><div class=\"sk-estimator sk-toggleable\"><input class=\"sk-toggleable__control sk-hidden--visually\" id=\"sk-estimator-id-1\" type=\"checkbox\" checked><label for=\"sk-estimator-id-1\" class=\"sk-toggleable__label sk-toggleable__label-arrow\">NearestNeighbors</label><div class=\"sk-toggleable__content\"><pre>NearestNeighbors(metric=&#x27;cosine&#x27;, n_neighbors=10)</pre></div></div></div></div></div>"
      ],
      "text/plain": [
       "NearestNeighbors(metric='cosine', n_neighbors=10)"
      ]
     },
     "execution_count": 5,
     "metadata": {},
     "output_type": "execute_result"
    }
   ],
   "source": [
    "X = embedding.fit_transform(df['content_tokens_stopwords_stemmed'].apply(lambda tokens: ' '.join(tokens)))\n",
    "retriever.fit(X, df['document_id'])"
   ]
  },
  {
   "cell_type": "code",
   "execution_count": 23,
   "metadata": {},
   "outputs": [],
   "source": [
    "# question/query as input\n",
    "question = 'bagaimana covid-19 sekarang?'"
   ]
  },
  {
   "cell_type": "code",
   "execution_count": 24,
   "metadata": {},
   "outputs": [
    {
     "name": "stdout",
     "output_type": "stream",
     "text": [
      "Text: bagaimana covid-19 sekarang?\n",
      "Vect: [array(['sekarang', 'covid', 'bagaimana', '19'], dtype='<U72')]\n"
     ]
    }
   ],
   "source": [
    "def transform_text(vectorizer, text):\n",
    "    print('Text:', text)\n",
    "    vector = vectorizer.transform([text])\n",
    "    vector = vectorizer.inverse_transform(vector)\n",
    "    print('Vect:', vector)\n",
    "\n",
    "# vectorize the question\n",
    "transform_text(embedding, question)"
   ]
  },
  {
   "cell_type": "code",
   "execution_count": 25,
   "metadata": {},
   "outputs": [
    {
     "data": {
      "text/plain": [
       "'kondisipandemi covid-19kini sudah terlihat membaik di beberapa negara. bahkan di indonesia, kasus aktif covid-19 terus menunjukkan angka penurunan. menurut juru bicara vaksinasi covid-19, dr. siti nadia tarmizi m. epid, kasus aktif covid-19 mengalami penurunan sejak februari lalu. hal ini membuat presiden indonesia, joko widodo optimis dapat menghentikan pandemi covid-19 dalam waktu dekat. hal serupa juga dirasakan oleh direktur jenderal organisasi kesehatan dunia (who), tedros adhanom, yang mengatakan bahwa akhir pandemi sudah di depan mata. benarkah demikian? yuk, simak ulasannya berikut ini!  benarkah pandemi covid-19 segera berakhir? presiden joko widodo menyampaikan bahwa pemerintah memiliki kesempatan untuk menyatakan pandemi covid-19 di indonesia akan berakhir. hal ini terjadi karena kasus aktif covid-19 di indonesia mengalami angka penurunan yang signifikan. hal ini disampaikan oleh juru bicara vaksinasi covi-19, dr. siti nadia tarmizi, bahwa angka aktif covid-19 mengalami penurunan sejak februari lalu. bahkan, angka kesembuhan yang dialami oleh pengidap covid-19 di beberapa rumah sakit juga terus menunjukkan angka peningkatan. hal serupa juga disampaikan oleh direktur jenderal who, tedros adhanom, meskipun saat ini masih berada di dalam masa pandemi, tetapi akhir dari pandemi sudah di depan mata. ada beberapa alasan yang bisa membuat kasus aktif covid-19 mengalami penurunan, seperti penanganan yang dilakukan pemerintah sudah tepat sasaran dan proses pemberian vaksinasi pada masyarakat indonesia yang terus meningkat. tedros adhanom juga memberikan pernyataan bahwa pemberian vaksinasi dan pengobatan, seperti terapi yang digunakan untuk proses penyembuhan membuat angka kematian mengalami penurunan. bahkan menurutnya, kematian angka covid-19 secara menyeluruh pada minggu lalu adalah angka kematian yang paling rendah sejak maret 2020. namun, tedros adhanom kembali mengingatkan kepada seluruh negara untuk tetap menjaga ketat penanganan covid-19 dengan menjaga pasokan peralatan dan petugas medis yang memadai. lakukan ini agar kasus covid-19 terus menurun who mengatakan ada dua cara utama yang bisa dilakukan untuk membuat pandemi berakhir, yaitu mencegah dan menurunkan risiko penyebaran serta mendiagnosis dan mengatasi covid-19 secara tepat. mencegah dan menurunkan risiko penyebaran melakukan pencegahan bisa dilakukan untuk membuat angka kasus aktif covid-19 semakin menurun. tentunya, setiap negara perlu memperketat aturan protokol kesehatan sehingga penularan dan penyebaran covid-19 dapat menurun. masyarakat juga dihimbau untuk tetap menggunakan masker dan menghindari kerumunan. jangan lupa untuk menjaga kebersihan diri, seperti tangan dengan rutin mencuci tangan menggunakan air mengalir dan sabun. selain itu, menjaga imunitas tubuh tetap optimal juga bisa dilakukan agar kamu terhindar dari penularan covid-19. ada berbagai jenis makanan yang bisa membantu kamu untuk meningkatkan imun tubuh, seperti makanan yang mengandung vitamin c, paprika merah, brokoli, bawang putih, jahe, bayam, hingga kacang almond. kamu bisa melakukan vaksinasi covid-19 sebagai pencegahan covid-19 yang paling efektif. dengan mendapatkan vaksin covid-19, maka risiko perburukan gejala akan semakin menurun. proses pengobatan dan penyembuhan akan lebih mudah dilakukan. mendiagnosis dan mengatasi covid-19 jika kamu mengalami gejala terkait dengan covid-19, sebaiknya segera lakukan pemeriksaan pada rumah sakit atau klinik kesehatan untuk memastikan kondisi kesehatan. saat didiagnosis covid-19, pastikan kamu untuk menggunakan masker dan melakukan isolasi mandiri untuk mencegah penularan dan penyebaran virus. beberapa jenis obat-obatan akan diberikan untuk menurunkan gejala yang dialami akibat covid-19. pastikan kamu mengonsumsi obat dengan anjuran dan saran dari dokter. who tidak menyarankan kamu mengonsumsi obat antibiotik sebagai pengobatan covid-19'"
      ]
     },
     "execution_count": 25,
     "metadata": {},
     "output_type": "execute_result"
    }
   ],
   "source": [
    "# Stemming (using Sastrawi) => for question/query\n",
    "factory = StemmerFactory()\n",
    "stemmer = factory.create_stemmer()\n",
    "stop_words = set(stopwords.words('indonesian'))\n",
    "\n",
    "# stopwords removal and stemming question\n",
    "question = [stemmer.stem(word) for word in word_tokenize(question) if word not in stop_words]\n",
    "question = ' '.join(question)\n",
    "\n",
    "\n",
    "# predict the most similar document\n",
    "X = embedding.transform([question])\n",
    "document_id = retriever.kneighbors(X, return_distance=False)[0][0]\n",
    "selected = df.iloc[document_id]['content']\n",
    "\n",
    "selected"
   ]
  },
  {
   "cell_type": "code",
   "execution_count": 26,
   "metadata": {},
   "outputs": [
    {
     "name": "stdout",
     "output_type": "stream",
     "text": [
      "Text: kondisipandemi covid-19kini sudah terlihat membaik di beberapa negara. bahkan di indonesia, kasus aktif covid-19 terus menunjukkan angka penurunan. menurut juru bicara vaksinasi covid-19, dr. siti nadia tarmizi m. epid, kasus aktif covid-19 mengalami penurunan sejak februari lalu. hal ini membuat presiden indonesia, joko widodo optimis dapat menghentikan pandemi covid-19 dalam waktu dekat. hal serupa juga dirasakan oleh direktur jenderal organisasi kesehatan dunia (who), tedros adhanom, yang mengatakan bahwa akhir pandemi sudah di depan mata. benarkah demikian? yuk, simak ulasannya berikut ini!  benarkah pandemi covid-19 segera berakhir? presiden joko widodo menyampaikan bahwa pemerintah memiliki kesempatan untuk menyatakan pandemi covid-19 di indonesia akan berakhir. hal ini terjadi karena kasus aktif covid-19 di indonesia mengalami angka penurunan yang signifikan. hal ini disampaikan oleh juru bicara vaksinasi covi-19, dr. siti nadia tarmizi, bahwa angka aktif covid-19 mengalami penurunan sejak februari lalu. bahkan, angka kesembuhan yang dialami oleh pengidap covid-19 di beberapa rumah sakit juga terus menunjukkan angka peningkatan. hal serupa juga disampaikan oleh direktur jenderal who, tedros adhanom, meskipun saat ini masih berada di dalam masa pandemi, tetapi akhir dari pandemi sudah di depan mata. ada beberapa alasan yang bisa membuat kasus aktif covid-19 mengalami penurunan, seperti penanganan yang dilakukan pemerintah sudah tepat sasaran dan proses pemberian vaksinasi pada masyarakat indonesia yang terus meningkat. tedros adhanom juga memberikan pernyataan bahwa pemberian vaksinasi dan pengobatan, seperti terapi yang digunakan untuk proses penyembuhan membuat angka kematian mengalami penurunan. bahkan menurutnya, kematian angka covid-19 secara menyeluruh pada minggu lalu adalah angka kematian yang paling rendah sejak maret 2020. namun, tedros adhanom kembali mengingatkan kepada seluruh negara untuk tetap menjaga ketat penanganan covid-19 dengan menjaga pasokan peralatan dan petugas medis yang memadai. lakukan ini agar kasus covid-19 terus menurun who mengatakan ada dua cara utama yang bisa dilakukan untuk membuat pandemi berakhir, yaitu mencegah dan menurunkan risiko penyebaran serta mendiagnosis dan mengatasi covid-19 secara tepat. mencegah dan menurunkan risiko penyebaran melakukan pencegahan bisa dilakukan untuk membuat angka kasus aktif covid-19 semakin menurun. tentunya, setiap negara perlu memperketat aturan protokol kesehatan sehingga penularan dan penyebaran covid-19 dapat menurun. masyarakat juga dihimbau untuk tetap menggunakan masker dan menghindari kerumunan. jangan lupa untuk menjaga kebersihan diri, seperti tangan dengan rutin mencuci tangan menggunakan air mengalir dan sabun. selain itu, menjaga imunitas tubuh tetap optimal juga bisa dilakukan agar kamu terhindar dari penularan covid-19. ada berbagai jenis makanan yang bisa membantu kamu untuk meningkatkan imun tubuh, seperti makanan yang mengandung vitamin c, paprika merah, brokoli, bawang putih, jahe, bayam, hingga kacang almond. kamu bisa melakukan vaksinasi covid-19 sebagai pencegahan covid-19 yang paling efektif. dengan mendapatkan vaksin covid-19, maka risiko perburukan gejala akan semakin menurun. proses pengobatan dan penyembuhan akan lebih mudah dilakukan. mendiagnosis dan mengatasi covid-19 jika kamu mengalami gejala terkait dengan covid-19, sebaiknya segera lakukan pemeriksaan pada rumah sakit atau klinik kesehatan untuk memastikan kondisi kesehatan. saat didiagnosis covid-19, pastikan kamu untuk menggunakan masker dan melakukan isolasi mandiri untuk mencegah penularan dan penyebaran virus. beberapa jenis obat-obatan akan diberikan untuk menurunkan gejala yang dialami akibat covid-19. pastikan kamu mengonsumsi obat dengan anjuran dan saran dari dokter. who tidak menyarankan kamu mengonsumsi obat antibiotik sebagai pengobatan covid-19\n",
      "Vect: [array(['yuk', 'yang', 'widodo', 'who', 'waktu', 'vitamin', 'virus',\n",
      "       'vaksinasi', 'vaksin', 'utama', 'untuk', 'tubuh', 'tidak',\n",
      "       'tetapi', 'tetap', 'terus', 'terkait', 'terapi', 'tepat', 'tedros',\n",
      "       'tarmizi', 'tangan', 'sudah', 'siti', 'simak', 'signifikan',\n",
      "       'serta', 'seperti', 'seluruh', 'selain', 'sejak', 'segera',\n",
      "       'saran', 'sakit', 'sabun', 'saat', 'rutin', 'rumah', 'risiko',\n",
      "       'rendah', 'putih', 'protokol', 'proses', 'presiden', 'perlu',\n",
      "       'peningkatan', 'pemerintah', 'pemeriksaan', 'paprika', 'pandemi',\n",
      "       'paling', 'pada', 'organisasi', 'optimis', 'optimal', 'oleh',\n",
      "       'obatan', 'obat', 'negara', 'namun', 'nadia', 'mudah', 'minggu',\n",
      "       'merah', 'mengandung', 'mengalami', 'medis', 'mata', 'masyarakat',\n",
      "       'masker', 'masih', 'masa', 'maret', 'mandiri', 'maka', 'lupa',\n",
      "       'lebih', 'lalu', 'kondisipandemi', 'kondisi', 'klinik', 'ketat',\n",
      "       'kepada', 'kembali', 'kasus', 'karena', 'kamu', 'kacang', 'juru',\n",
      "       'juga', 'joko', 'jika', 'jenis', 'jenderal', 'jangan', 'jahe',\n",
      "       'itu', 'isolasi', 'ini', 'indonesia', 'imunitas', 'imun', 'hal',\n",
      "       'gejala', 'februari', 'epid', 'efektif', 'dunia', 'dua', 'dr',\n",
      "       'dokter', 'diri', 'direktur', 'dihimbau', 'di', 'depan', 'dengan',\n",
      "       'demikian', 'dekat', 'dari', 'dapat', 'dan', 'dalam', 'covid',\n",
      "       'covi', 'cara', 'brokoli', 'bisa', 'bicara', 'beberapa', 'bayam',\n",
      "       'bawang', 'bahkan', 'atau', 'antibiotik', 'angka', 'almond',\n",
      "       'aktif', 'akibat', 'akhir', 'akan', 'air', 'agar', 'adhanom',\n",
      "       'adalah', 'ada', '2020', '19kini', '19'], dtype='<U72')]\n"
     ]
    }
   ],
   "source": [
    "# vectorize the document\n",
    "transform_text(embedding, selected)"
   ]
  }
 ],
 "metadata": {
  "kernelspec": {
   "display_name": "Python 3",
   "language": "python",
   "name": "python3"
  },
  "language_info": {
   "codemirror_mode": {
    "name": "ipython",
    "version": 3
   },
   "file_extension": ".py",
   "mimetype": "text/x-python",
   "name": "python",
   "nbconvert_exporter": "python",
   "pygments_lexer": "ipython3",
   "version": "3.10.7"
  },
  "orig_nbformat": 4
 },
 "nbformat": 4,
 "nbformat_minor": 2
}
