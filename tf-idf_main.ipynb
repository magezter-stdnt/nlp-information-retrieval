{
 "cells": [
  {
   "attachments": {},
   "cell_type": "markdown",
   "metadata": {},
   "source": [
    "# TF-IDF with KNN"
   ]
  },
  {
   "cell_type": "code",
   "execution_count": 1,
   "metadata": {},
   "outputs": [
    {
     "name": "stdout",
     "output_type": "stream",
     "text": [
      "(9979, 20)\n"
     ]
    },
    {
     "data": {
      "text/html": [
       "<div>\n",
       "<style scoped>\n",
       "    .dataframe tbody tr th:only-of-type {\n",
       "        vertical-align: middle;\n",
       "    }\n",
       "\n",
       "    .dataframe tbody tr th {\n",
       "        vertical-align: top;\n",
       "    }\n",
       "\n",
       "    .dataframe thead th {\n",
       "        text-align: right;\n",
       "    }\n",
       "</style>\n",
       "<table border=\"1\" class=\"dataframe\">\n",
       "  <thead>\n",
       "    <tr style=\"text-align: right;\">\n",
       "      <th></th>\n",
       "      <th>url</th>\n",
       "      <th>title</th>\n",
       "      <th>title_count</th>\n",
       "      <th>content</th>\n",
       "      <th>content_count</th>\n",
       "      <th>title_tokens</th>\n",
       "      <th>content_tokens</th>\n",
       "      <th>title_tokens_stopwords</th>\n",
       "      <th>title_tokens_stopwords_count</th>\n",
       "      <th>content_tokens_stopwords</th>\n",
       "      <th>content_tokens_stopwords_count</th>\n",
       "      <th>title_tokens_stopwords_stemmed</th>\n",
       "      <th>title_tokens_stopwords_stemmed_count</th>\n",
       "      <th>content_tokens_stopwords_stemmed</th>\n",
       "      <th>content_tokens_stopwords_stemmed_count</th>\n",
       "      <th>document_id</th>\n",
       "      <th>new_query</th>\n",
       "      <th>new_query_tokens</th>\n",
       "      <th>new_query_tokens_stopwords</th>\n",
       "      <th>new_query_tokens_stopwords_stemmed</th>\n",
       "    </tr>\n",
       "  </thead>\n",
       "  <tbody>\n",
       "    <tr>\n",
       "      <th>0</th>\n",
       "      <td>https://www.halodoc.com/ibu-perhatikan-5-hal-i...</td>\n",
       "      <td>ibu, perhatikan 5 hal ini saat memilih car se...</td>\n",
       "      <td>11</td>\n",
       "      <td>bagi orang tua yang memiliki kendaraan, memili...</td>\n",
       "      <td>575</td>\n",
       "      <td>['ibu', ',', 'perhatikan', '5', 'hal', 'ini', ...</td>\n",
       "      <td>['bagi', 'orang', 'tua', 'yang', 'memiliki', '...</td>\n",
       "      <td>[',', 'perhatikan', '5', 'memilih', 'car', 'se...</td>\n",
       "      <td>7</td>\n",
       "      <td>['orang', 'tua', 'memiliki', 'kendaraan', ',',...</td>\n",
       "      <td>339</td>\n",
       "      <td>['', 'perhati', '5', 'pilih', 'car', 'seat', '...</td>\n",
       "      <td>7</td>\n",
       "      <td>['orang', 'tua', 'milik', 'kendara', '', 'memi...</td>\n",
       "      <td>339</td>\n",
       "      <td>0</td>\n",
       "      <td>cara memilih seat bayi baru lahir</td>\n",
       "      <td>['cara', 'memilih', 'seat', 'bayi', 'baru', 'l...</td>\n",
       "      <td>['memilih', 'seat', 'bayi', 'lahir']</td>\n",
       "      <td>['pilih', 'seat', 'bayi', 'lahir']</td>\n",
       "    </tr>\n",
       "    <tr>\n",
       "      <th>1</th>\n",
       "      <td>https://www.halodoc.com/catat-ini-6-tips-menyi...</td>\n",
       "      <td>catat, ini 6 tips menyimpan beras agar tidak ...</td>\n",
       "      <td>10</td>\n",
       "      <td>sebagai makanan pokok beras harus disimpan den...</td>\n",
       "      <td>617</td>\n",
       "      <td>['catat', ',', 'ini', '6', 'tips', 'menyimpan'...</td>\n",
       "      <td>['sebagai', 'makanan', 'pokok', 'beras', 'haru...</td>\n",
       "      <td>['catat', ',', '6', 'tips', 'menyimpan', 'bera...</td>\n",
       "      <td>7</td>\n",
       "      <td>['makanan', 'pokok', 'beras', 'disimpan', 'kua...</td>\n",
       "      <td>347</td>\n",
       "      <td>['catat', '', '6', 'tips', 'simpan', 'beras', ...</td>\n",
       "      <td>7</td>\n",
       "      <td>['makan', 'pokok', 'beras', 'simpan', 'kualita...</td>\n",
       "      <td>347</td>\n",
       "      <td>1</td>\n",
       "      <td>NaN</td>\n",
       "      <td>[]</td>\n",
       "      <td>[]</td>\n",
       "      <td>[]</td>\n",
       "    </tr>\n",
       "    <tr>\n",
       "      <th>2</th>\n",
       "      <td>https://www.halodoc.com/waspada-ini-6-bahaya-a...</td>\n",
       "      <td>waspada, ini 6 bahaya asap rokok bagi kesehat...</td>\n",
       "      <td>10</td>\n",
       "      <td>merokok tidak hanya berbahaya untuk dirimu sen...</td>\n",
       "      <td>708</td>\n",
       "      <td>['waspada', ',', 'ini', '6', 'bahaya', 'asap',...</td>\n",
       "      <td>['merokok', 'tidak', 'hanya', 'berbahaya', 'un...</td>\n",
       "      <td>['waspada', ',', '6', 'bahaya', 'asap', 'rokok...</td>\n",
       "      <td>8</td>\n",
       "      <td>['merokok', 'berbahaya', 'dirimu', 'orang-oran...</td>\n",
       "      <td>438</td>\n",
       "      <td>['waspada', '', '6', 'bahaya', 'asap', 'rokok'...</td>\n",
       "      <td>8</td>\n",
       "      <td>['rokok', 'bahaya', 'diri', 'orang', 'sekitar'...</td>\n",
       "      <td>438</td>\n",
       "      <td>2</td>\n",
       "      <td>NaN</td>\n",
       "      <td>[]</td>\n",
       "      <td>[]</td>\n",
       "      <td>[]</td>\n",
       "    </tr>\n",
       "    <tr>\n",
       "      <th>3</th>\n",
       "      <td>https://www.halodoc.com/sering-terkena-polusi-...</td>\n",
       "      <td>sering terkena polusi, ketahui berbagi cara b...</td>\n",
       "      <td>9</td>\n",
       "      <td>sehari-hari, manusia terpapar polusi dalam jum...</td>\n",
       "      <td>569</td>\n",
       "      <td>['sering', 'terkena', 'polusi', ',', 'ketahui'...</td>\n",
       "      <td>['sehari-hari', ',', 'manusia', 'terpapar', 'p...</td>\n",
       "      <td>['terkena', 'polusi', ',', 'ketahui', 'berbagi...</td>\n",
       "      <td>7</td>\n",
       "      <td>['sehari-hari', ',', 'manusia', 'terpapar', 'p...</td>\n",
       "      <td>342</td>\n",
       "      <td>['kena', 'polusi', '', 'tahu', 'bagi', 'sih', ...</td>\n",
       "      <td>7</td>\n",
       "      <td>['hari', '', 'manusia', 'papar', 'polusi', 'as...</td>\n",
       "      <td>342</td>\n",
       "      <td>3</td>\n",
       "      <td>NaN</td>\n",
       "      <td>[]</td>\n",
       "      <td>[]</td>\n",
       "      <td>[]</td>\n",
       "    </tr>\n",
       "    <tr>\n",
       "      <th>4</th>\n",
       "      <td>https://www.halodoc.com/ini-risiko-dan-manfaat...</td>\n",
       "      <td>ini risiko dan manfaat implan payudara yang p...</td>\n",
       "      <td>9</td>\n",
       "      <td>implan payudara adalah prosedur bedah kosmetik...</td>\n",
       "      <td>613</td>\n",
       "      <td>['ini', 'risiko', 'dan', 'manfaat', 'implan', ...</td>\n",
       "      <td>['implan', 'payudara', 'adalah', 'prosedur', '...</td>\n",
       "      <td>['risiko', 'manfaat', 'implan', 'payudara']</td>\n",
       "      <td>4</td>\n",
       "      <td>['implan', 'payudara', 'prosedur', 'bedah', 'k...</td>\n",
       "      <td>362</td>\n",
       "      <td>['risiko', 'manfaat', 'implan', 'payudara']</td>\n",
       "      <td>4</td>\n",
       "      <td>['implan', 'payudara', 'prosedur', 'bedah', 'k...</td>\n",
       "      <td>362</td>\n",
       "      <td>4</td>\n",
       "      <td>NaN</td>\n",
       "      <td>[]</td>\n",
       "      <td>[]</td>\n",
       "      <td>[]</td>\n",
       "    </tr>\n",
       "  </tbody>\n",
       "</table>\n",
       "</div>"
      ],
      "text/plain": [
       "                                                 url  \\\n",
       "0  https://www.halodoc.com/ibu-perhatikan-5-hal-i...   \n",
       "1  https://www.halodoc.com/catat-ini-6-tips-menyi...   \n",
       "2  https://www.halodoc.com/waspada-ini-6-bahaya-a...   \n",
       "3  https://www.halodoc.com/sering-terkena-polusi-...   \n",
       "4  https://www.halodoc.com/ini-risiko-dan-manfaat...   \n",
       "\n",
       "                                               title  title_count  \\\n",
       "0   ibu, perhatikan 5 hal ini saat memilih car se...           11   \n",
       "1   catat, ini 6 tips menyimpan beras agar tidak ...           10   \n",
       "2   waspada, ini 6 bahaya asap rokok bagi kesehat...           10   \n",
       "3   sering terkena polusi, ketahui berbagi cara b...            9   \n",
       "4   ini risiko dan manfaat implan payudara yang p...            9   \n",
       "\n",
       "                                             content  content_count  \\\n",
       "0  bagi orang tua yang memiliki kendaraan, memili...            575   \n",
       "1  sebagai makanan pokok beras harus disimpan den...            617   \n",
       "2  merokok tidak hanya berbahaya untuk dirimu sen...            708   \n",
       "3  sehari-hari, manusia terpapar polusi dalam jum...            569   \n",
       "4  implan payudara adalah prosedur bedah kosmetik...            613   \n",
       "\n",
       "                                        title_tokens  \\\n",
       "0  ['ibu', ',', 'perhatikan', '5', 'hal', 'ini', ...   \n",
       "1  ['catat', ',', 'ini', '6', 'tips', 'menyimpan'...   \n",
       "2  ['waspada', ',', 'ini', '6', 'bahaya', 'asap',...   \n",
       "3  ['sering', 'terkena', 'polusi', ',', 'ketahui'...   \n",
       "4  ['ini', 'risiko', 'dan', 'manfaat', 'implan', ...   \n",
       "\n",
       "                                      content_tokens  \\\n",
       "0  ['bagi', 'orang', 'tua', 'yang', 'memiliki', '...   \n",
       "1  ['sebagai', 'makanan', 'pokok', 'beras', 'haru...   \n",
       "2  ['merokok', 'tidak', 'hanya', 'berbahaya', 'un...   \n",
       "3  ['sehari-hari', ',', 'manusia', 'terpapar', 'p...   \n",
       "4  ['implan', 'payudara', 'adalah', 'prosedur', '...   \n",
       "\n",
       "                              title_tokens_stopwords  \\\n",
       "0  [',', 'perhatikan', '5', 'memilih', 'car', 'se...   \n",
       "1  ['catat', ',', '6', 'tips', 'menyimpan', 'bera...   \n",
       "2  ['waspada', ',', '6', 'bahaya', 'asap', 'rokok...   \n",
       "3  ['terkena', 'polusi', ',', 'ketahui', 'berbagi...   \n",
       "4        ['risiko', 'manfaat', 'implan', 'payudara']   \n",
       "\n",
       "   title_tokens_stopwords_count  \\\n",
       "0                             7   \n",
       "1                             7   \n",
       "2                             8   \n",
       "3                             7   \n",
       "4                             4   \n",
       "\n",
       "                            content_tokens_stopwords  \\\n",
       "0  ['orang', 'tua', 'memiliki', 'kendaraan', ',',...   \n",
       "1  ['makanan', 'pokok', 'beras', 'disimpan', 'kua...   \n",
       "2  ['merokok', 'berbahaya', 'dirimu', 'orang-oran...   \n",
       "3  ['sehari-hari', ',', 'manusia', 'terpapar', 'p...   \n",
       "4  ['implan', 'payudara', 'prosedur', 'bedah', 'k...   \n",
       "\n",
       "   content_tokens_stopwords_count  \\\n",
       "0                             339   \n",
       "1                             347   \n",
       "2                             438   \n",
       "3                             342   \n",
       "4                             362   \n",
       "\n",
       "                      title_tokens_stopwords_stemmed  \\\n",
       "0  ['', 'perhati', '5', 'pilih', 'car', 'seat', '...   \n",
       "1  ['catat', '', '6', 'tips', 'simpan', 'beras', ...   \n",
       "2  ['waspada', '', '6', 'bahaya', 'asap', 'rokok'...   \n",
       "3  ['kena', 'polusi', '', 'tahu', 'bagi', 'sih', ...   \n",
       "4        ['risiko', 'manfaat', 'implan', 'payudara']   \n",
       "\n",
       "   title_tokens_stopwords_stemmed_count  \\\n",
       "0                                     7   \n",
       "1                                     7   \n",
       "2                                     8   \n",
       "3                                     7   \n",
       "4                                     4   \n",
       "\n",
       "                    content_tokens_stopwords_stemmed  \\\n",
       "0  ['orang', 'tua', 'milik', 'kendara', '', 'memi...   \n",
       "1  ['makan', 'pokok', 'beras', 'simpan', 'kualita...   \n",
       "2  ['rokok', 'bahaya', 'diri', 'orang', 'sekitar'...   \n",
       "3  ['hari', '', 'manusia', 'papar', 'polusi', 'as...   \n",
       "4  ['implan', 'payudara', 'prosedur', 'bedah', 'k...   \n",
       "\n",
       "   content_tokens_stopwords_stemmed_count  document_id  \\\n",
       "0                                     339            0   \n",
       "1                                     347            1   \n",
       "2                                     438            2   \n",
       "3                                     342            3   \n",
       "4                                     362            4   \n",
       "\n",
       "                           new_query  \\\n",
       "0  cara memilih seat bayi baru lahir   \n",
       "1                                NaN   \n",
       "2                                NaN   \n",
       "3                                NaN   \n",
       "4                                NaN   \n",
       "\n",
       "                                    new_query_tokens  \\\n",
       "0  ['cara', 'memilih', 'seat', 'bayi', 'baru', 'l...   \n",
       "1                                                 []   \n",
       "2                                                 []   \n",
       "3                                                 []   \n",
       "4                                                 []   \n",
       "\n",
       "             new_query_tokens_stopwords  new_query_tokens_stopwords_stemmed  \n",
       "0  ['memilih', 'seat', 'bayi', 'lahir']  ['pilih', 'seat', 'bayi', 'lahir']  \n",
       "1                                    []                                  []  \n",
       "2                                    []                                  []  \n",
       "3                                    []                                  []  \n",
       "4                                    []                                  []  "
      ]
     },
     "execution_count": 1,
     "metadata": {},
     "output_type": "execute_result"
    }
   ],
   "source": [
    "# Import library \n",
    "import pandas as pd\n",
    "import numpy as np\n",
    "from nltk.corpus import stopwords\n",
    "from nltk.tokenize import word_tokenize\n",
    "from nltk.stem import PorterStemmer\n",
    "from Sastrawi.Stemmer.StemmerFactory import StemmerFactory\n",
    "\n",
    "# Mengambil data dari csv\n",
    "# df = pd.read_csv('tf-idf_halodocnew_1.csv')\n",
    "df = pd.read_csv('df_new_query (1).csv')\n",
    "\n",
    "print(df.shape)\n",
    "\n",
    "df.head()"
   ]
  },
  {
   "cell_type": "code",
   "execution_count": 2,
   "metadata": {},
   "outputs": [
    {
     "name": "stdout",
     "output_type": "stream",
     "text": [
      "9979\n"
     ]
    },
    {
     "data": {
      "text/html": [
       "<div>\n",
       "<style scoped>\n",
       "    .dataframe tbody tr th:only-of-type {\n",
       "        vertical-align: middle;\n",
       "    }\n",
       "\n",
       "    .dataframe tbody tr th {\n",
       "        vertical-align: top;\n",
       "    }\n",
       "\n",
       "    .dataframe thead th {\n",
       "        text-align: right;\n",
       "    }\n",
       "</style>\n",
       "<table border=\"1\" class=\"dataframe\">\n",
       "  <thead>\n",
       "    <tr style=\"text-align: right;\">\n",
       "      <th></th>\n",
       "      <th>url</th>\n",
       "      <th>title</th>\n",
       "      <th>title_count</th>\n",
       "      <th>content</th>\n",
       "      <th>content_count</th>\n",
       "      <th>title_tokens</th>\n",
       "      <th>content_tokens</th>\n",
       "      <th>title_tokens_stopwords</th>\n",
       "      <th>title_tokens_stopwords_count</th>\n",
       "      <th>content_tokens_stopwords</th>\n",
       "      <th>content_tokens_stopwords_count</th>\n",
       "      <th>title_tokens_stopwords_stemmed</th>\n",
       "      <th>title_tokens_stopwords_stemmed_count</th>\n",
       "      <th>content_tokens_stopwords_stemmed</th>\n",
       "      <th>content_tokens_stopwords_stemmed_count</th>\n",
       "      <th>document_id</th>\n",
       "      <th>new_query</th>\n",
       "      <th>new_query_tokens</th>\n",
       "      <th>new_query_tokens_stopwords</th>\n",
       "      <th>new_query_tokens_stopwords_stemmed</th>\n",
       "    </tr>\n",
       "  </thead>\n",
       "  <tbody>\n",
       "    <tr>\n",
       "      <th>0</th>\n",
       "      <td>https://www.halodoc.com/ibu-perhatikan-5-hal-i...</td>\n",
       "      <td>Ibu, Perhatikan 5 Hal Ini saat Memilih Car Se...</td>\n",
       "      <td>11</td>\n",
       "      <td>Bagi orang tua yang memiliki kendaraan, memili...</td>\n",
       "      <td>575</td>\n",
       "      <td>['ibu', ',', 'perhatikan', '5', 'hal', 'ini', ...</td>\n",
       "      <td>['bagi', 'orang', 'tua', 'yang', 'memiliki', '...</td>\n",
       "      <td>[',', 'perhatikan', '5', 'memilih', 'car', 'se...</td>\n",
       "      <td>7</td>\n",
       "      <td>['orang', 'tua', 'memiliki', 'kendaraan', ',',...</td>\n",
       "      <td>339</td>\n",
       "      <td>['', 'perhati', '5', 'pilih', 'car', 'seat', '...</td>\n",
       "      <td>7</td>\n",
       "      <td>['orang', 'tua', 'milik', 'kendara', '', 'memi...</td>\n",
       "      <td>339</td>\n",
       "      <td>0</td>\n",
       "      <td>cara memilih seat bayi baru lahir</td>\n",
       "      <td>['cara', 'memilih', 'seat', 'bayi', 'baru', 'l...</td>\n",
       "      <td>['memilih', 'seat', 'bayi', 'lahir']</td>\n",
       "      <td>['pilih', 'seat', 'bayi', 'lahir']</td>\n",
       "    </tr>\n",
       "  </tbody>\n",
       "</table>\n",
       "</div>"
      ],
      "text/plain": [
       "                                                 url  \\\n",
       "0  https://www.halodoc.com/ibu-perhatikan-5-hal-i...   \n",
       "\n",
       "                                               title  title_count  \\\n",
       "0   Ibu, Perhatikan 5 Hal Ini saat Memilih Car Se...           11   \n",
       "\n",
       "                                             content  content_count  \\\n",
       "0  Bagi orang tua yang memiliki kendaraan, memili...            575   \n",
       "\n",
       "                                        title_tokens  \\\n",
       "0  ['ibu', ',', 'perhatikan', '5', 'hal', 'ini', ...   \n",
       "\n",
       "                                      content_tokens  \\\n",
       "0  ['bagi', 'orang', 'tua', 'yang', 'memiliki', '...   \n",
       "\n",
       "                              title_tokens_stopwords  \\\n",
       "0  [',', 'perhatikan', '5', 'memilih', 'car', 'se...   \n",
       "\n",
       "   title_tokens_stopwords_count  \\\n",
       "0                             7   \n",
       "\n",
       "                            content_tokens_stopwords  \\\n",
       "0  ['orang', 'tua', 'memiliki', 'kendaraan', ',',...   \n",
       "\n",
       "   content_tokens_stopwords_count  \\\n",
       "0                             339   \n",
       "\n",
       "                      title_tokens_stopwords_stemmed  \\\n",
       "0  ['', 'perhati', '5', 'pilih', 'car', 'seat', '...   \n",
       "\n",
       "   title_tokens_stopwords_stemmed_count  \\\n",
       "0                                     7   \n",
       "\n",
       "                    content_tokens_stopwords_stemmed  \\\n",
       "0  ['orang', 'tua', 'milik', 'kendara', '', 'memi...   \n",
       "\n",
       "   content_tokens_stopwords_stemmed_count  document_id  \\\n",
       "0                                     339            0   \n",
       "\n",
       "                           new_query  \\\n",
       "0  cara memilih seat bayi baru lahir   \n",
       "\n",
       "                                    new_query_tokens  \\\n",
       "0  ['cara', 'memilih', 'seat', 'bayi', 'baru', 'l...   \n",
       "\n",
       "             new_query_tokens_stopwords  new_query_tokens_stopwords_stemmed  \n",
       "0  ['memilih', 'seat', 'bayi', 'lahir']  ['pilih', 'seat', 'bayi', 'lahir']  "
      ]
     },
     "execution_count": 2,
     "metadata": {},
     "output_type": "execute_result"
    }
   ],
   "source": [
    "# Read scraping/halodocnew_1.csv\n",
    "df_halodocnew_1 = pd.read_csv('scraping/halodocnew_1.csv')\n",
    "print(len(df_halodocnew_1))\n",
    "\n",
    "# Ubah kolom \"title\" dan \"content\" di df menjadi df_halodocnew_1 (mengembali ke bentuk semula/cased)\n",
    "df['title'] = df_halodocnew_1['title']\n",
    "df['content'] = df_halodocnew_1['content']\n",
    "df.head(1)"
   ]
  },
  {
   "cell_type": "code",
   "execution_count": 3,
   "metadata": {},
   "outputs": [],
   "source": [
    "# Melakukan konversi data yang sebelumnya bertipe string agar bisa diolah pada tahap selanjutnya\n",
    "\n",
    "import ast\n",
    "\n",
    "df['title_tokens'] = df['title_tokens'].apply(ast.literal_eval)\n",
    "df['content_tokens'] = df['content_tokens'].apply(ast.literal_eval)\n",
    "df['title_tokens_stopwords'] = df['title_tokens_stopwords'].apply(ast.literal_eval)\n",
    "df['content_tokens_stopwords'] = df['content_tokens_stopwords'].apply(ast.literal_eval)\n",
    "df['content_tokens_stopwords_stemmed'] = df['content_tokens_stopwords_stemmed'].apply(ast.literal_eval)\n",
    "df['title_tokens_stopwords_stemmed'] = df['title_tokens_stopwords_stemmed'].apply(ast.literal_eval)\n"
   ]
  },
  {
   "cell_type": "code",
   "execution_count": 4,
   "metadata": {},
   "outputs": [],
   "source": [
    "from sklearn.feature_extraction.text import TfidfVectorizer\n",
    "from sklearn.neighbors import NearestNeighbors\n",
    "\n",
    "# Mendefiniskan konfigurasi untuk Nearest Neighbors\n",
    "retriever_configs = {\n",
    "    'n_neighbors': 9,  # Jumlah tetangga/dokumen terdekat yang akan dicari\n",
    "    'metric': 'cosine'  # Fungsi similarity yang akan digunakan\n",
    "}\n",
    "\n",
    "# Mendefinisikan pipeline untuk sistem Information Retrieval\n",
    "# menggunakan TF-IDF dan Nearest Neighbors (dengan metrik cosine similarity)\n",
    "embedding = TfidfVectorizer()\n",
    "retriever = NearestNeighbors(**retriever_configs)"
   ]
  },
  {
   "cell_type": "code",
   "execution_count": 5,
   "metadata": {},
   "outputs": [],
   "source": [
    "# Membuat kolom baru untuk indeks dokumen\n",
    "df['document_id'] = range(len(df))"
   ]
  },
  {
   "cell_type": "code",
   "execution_count": 6,
   "metadata": {},
   "outputs": [
    {
     "data": {
      "text/html": [
       "<style>#sk-container-id-1 {color: black;background-color: white;}#sk-container-id-1 pre{padding: 0;}#sk-container-id-1 div.sk-toggleable {background-color: white;}#sk-container-id-1 label.sk-toggleable__label {cursor: pointer;display: block;width: 100%;margin-bottom: 0;padding: 0.3em;box-sizing: border-box;text-align: center;}#sk-container-id-1 label.sk-toggleable__label-arrow:before {content: \"▸\";float: left;margin-right: 0.25em;color: #696969;}#sk-container-id-1 label.sk-toggleable__label-arrow:hover:before {color: black;}#sk-container-id-1 div.sk-estimator:hover label.sk-toggleable__label-arrow:before {color: black;}#sk-container-id-1 div.sk-toggleable__content {max-height: 0;max-width: 0;overflow: hidden;text-align: left;background-color: #f0f8ff;}#sk-container-id-1 div.sk-toggleable__content pre {margin: 0.2em;color: black;border-radius: 0.25em;background-color: #f0f8ff;}#sk-container-id-1 input.sk-toggleable__control:checked~div.sk-toggleable__content {max-height: 200px;max-width: 100%;overflow: auto;}#sk-container-id-1 input.sk-toggleable__control:checked~label.sk-toggleable__label-arrow:before {content: \"▾\";}#sk-container-id-1 div.sk-estimator input.sk-toggleable__control:checked~label.sk-toggleable__label {background-color: #d4ebff;}#sk-container-id-1 div.sk-label input.sk-toggleable__control:checked~label.sk-toggleable__label {background-color: #d4ebff;}#sk-container-id-1 input.sk-hidden--visually {border: 0;clip: rect(1px 1px 1px 1px);clip: rect(1px, 1px, 1px, 1px);height: 1px;margin: -1px;overflow: hidden;padding: 0;position: absolute;width: 1px;}#sk-container-id-1 div.sk-estimator {font-family: monospace;background-color: #f0f8ff;border: 1px dotted black;border-radius: 0.25em;box-sizing: border-box;margin-bottom: 0.5em;}#sk-container-id-1 div.sk-estimator:hover {background-color: #d4ebff;}#sk-container-id-1 div.sk-parallel-item::after {content: \"\";width: 100%;border-bottom: 1px solid gray;flex-grow: 1;}#sk-container-id-1 div.sk-label:hover label.sk-toggleable__label {background-color: #d4ebff;}#sk-container-id-1 div.sk-serial::before {content: \"\";position: absolute;border-left: 1px solid gray;box-sizing: border-box;top: 0;bottom: 0;left: 50%;z-index: 0;}#sk-container-id-1 div.sk-serial {display: flex;flex-direction: column;align-items: center;background-color: white;padding-right: 0.2em;padding-left: 0.2em;position: relative;}#sk-container-id-1 div.sk-item {position: relative;z-index: 1;}#sk-container-id-1 div.sk-parallel {display: flex;align-items: stretch;justify-content: center;background-color: white;position: relative;}#sk-container-id-1 div.sk-item::before, #sk-container-id-1 div.sk-parallel-item::before {content: \"\";position: absolute;border-left: 1px solid gray;box-sizing: border-box;top: 0;bottom: 0;left: 50%;z-index: -1;}#sk-container-id-1 div.sk-parallel-item {display: flex;flex-direction: column;z-index: 1;position: relative;background-color: white;}#sk-container-id-1 div.sk-parallel-item:first-child::after {align-self: flex-end;width: 50%;}#sk-container-id-1 div.sk-parallel-item:last-child::after {align-self: flex-start;width: 50%;}#sk-container-id-1 div.sk-parallel-item:only-child::after {width: 0;}#sk-container-id-1 div.sk-dashed-wrapped {border: 1px dashed gray;margin: 0 0.4em 0.5em 0.4em;box-sizing: border-box;padding-bottom: 0.4em;background-color: white;}#sk-container-id-1 div.sk-label label {font-family: monospace;font-weight: bold;display: inline-block;line-height: 1.2em;}#sk-container-id-1 div.sk-label-container {text-align: center;}#sk-container-id-1 div.sk-container {/* jupyter's `normalize.less` sets `[hidden] { display: none; }` but bootstrap.min.css set `[hidden] { display: none !important; }` so we also need the `!important` here to be able to override the default hidden behavior on the sphinx rendered scikit-learn.org. See: https://github.com/scikit-learn/scikit-learn/issues/21755 */display: inline-block !important;position: relative;}#sk-container-id-1 div.sk-text-repr-fallback {display: none;}</style><div id=\"sk-container-id-1\" class=\"sk-top-container\"><div class=\"sk-text-repr-fallback\"><pre>NearestNeighbors(metric=&#x27;cosine&#x27;, n_neighbors=9)</pre><b>In a Jupyter environment, please rerun this cell to show the HTML representation or trust the notebook. <br />On GitHub, the HTML representation is unable to render, please try loading this page with nbviewer.org.</b></div><div class=\"sk-container\" hidden><div class=\"sk-item\"><div class=\"sk-estimator sk-toggleable\"><input class=\"sk-toggleable__control sk-hidden--visually\" id=\"sk-estimator-id-1\" type=\"checkbox\" checked><label for=\"sk-estimator-id-1\" class=\"sk-toggleable__label sk-toggleable__label-arrow\">NearestNeighbors</label><div class=\"sk-toggleable__content\"><pre>NearestNeighbors(metric=&#x27;cosine&#x27;, n_neighbors=9)</pre></div></div></div></div></div>"
      ],
      "text/plain": [
       "NearestNeighbors(metric='cosine', n_neighbors=9)"
      ]
     },
     "execution_count": 6,
     "metadata": {},
     "output_type": "execute_result"
    }
   ],
   "source": [
    "# Melakukan word embedding pada content_tokens_stopwords_stemmed (dokumen/konteks) menggunakan TF-IDF\n",
    "X = embedding.fit_transform(df['content_tokens_stopwords_stemmed'].apply(lambda tokens: ' '.join(tokens)))\n",
    "\n",
    "# Melakukan fit/training pada NearestNeighbors\n",
    "retriever.fit(X, df['document_id'])"
   ]
  },
  {
   "cell_type": "code",
   "execution_count": 7,
   "metadata": {},
   "outputs": [],
   "source": [
    "# Question/pertanyaan yang akan digunakan sebagai input 'query\n",
    "question = 'tips untuk ibu hamil'"
   ]
  },
  {
   "cell_type": "code",
   "execution_count": 8,
   "metadata": {},
   "outputs": [
    {
     "name": "stdout",
     "output_type": "stream",
     "text": [
      "Text: tips untuk ibu hamil\n",
      "Vect: [array(['untuk', 'tips', 'ibu', 'hamil'], dtype='<U72')]\n"
     ]
    }
   ],
   "source": [
    "# Fungsi untuk melakukan transformasi teks menjadi vektor\n",
    "def transform_text(vectorizer, text):\n",
    "    print('Text:', text)\n",
    "    vector = vectorizer.transform([text])\n",
    "    vector = vectorizer.inverse_transform(vector)\n",
    "    print('Vect:', vector)\n",
    "\n",
    "# Melakukan transformasi teks menjadi vektor dengan fungsi transform_text\n",
    "transform_text(embedding, question)"
   ]
  },
  {
   "cell_type": "code",
   "execution_count": 9,
   "metadata": {},
   "outputs": [
    {
     "data": {
      "text/plain": [
       "'Kehamilan dapat menjadi momen yang dinantikan oleh beberapa pasangan. Pada beberapa kesempatan, kehamilan dapat menambah beban pada sang ibu, terlebih jika sudah memasuki trimester akhir. Lalu, apa saja sih tips untuk memiliki masa kehamilan yang nyaman? Ketahui jawabannya di sini! Tips untuk Mendapatkan Masa Kehamilan yang Nyaman Rasa gembira memiliki bayi bisa saja mereda karena berbagai masalah fisik yang timbul. Ibu bisa saja mengalami rasa sakit, nyeri, atau ketidaknyamanan ketika hamil. Hal ini terjadi karena adanya perubahan pada tubuh selama kehamilan. Meski begitu, tidak semua wanita mengalami masalah ini ketika hamil.  Namun, saat mengalaminya\\xa0 ibu perlu tahu beberapa tips untuk mendapatkan masakehamilanyang nyaman, yaitu: 1.\\xa0 Rutin Memeriksakan Kehamilan Tips kehamilan yang pertama adalah secara rutin mengontrol ke dokter untuk memeriksakan kehamilan. Bahkan pemeriksaan harus lebih sering dilakukan di trimester akhir kehamilan. Selain itu, jangan ragu untuk segera menemui dokter jika alami keluhan atau kekhawatiran tentang kehamilan. 2.\\xa0 Berhenti Merokok Tips agar masa kehamilan nyaman lainnya adalah berhenti merokok dan janganlah menjadi perokok pasif. Sebab, saat sering menghirup asap rokok dari orang sekitar, risiko bayi lahir dengan berat badan yang kurang lebih tinggi. Hal ini dapat menyebabkan bayi lebih rentan sakit atau bahkan alami kematian. Terbiasa terkena paparan rokok juga dapat meningkatkan risiko keguguran. 3.\\xa0 Perbanyak Minum Air Putih Ada baiknya untuk tetap menjaga tubuh tetap terhidrasi dengan mengonsumsi lebih banyak air putih. Air dapat membantu fungsi ginjal dan hati untuk sang ibu dan bayi. Cairan yang masuk juga berguna untuk meningkatkan volume darah selama kehamilan. Cobalah untuk mengonsumsi 8-10 gelas air per hari (2-3 liter) dan hindari minuman berkafein. 4.\\xa0 Konsumsi Makanan Bergizi Ibu juga perlu mengonsumsi lebih banyak makanan bergizi seimbang. Hal ini untuk memastikan ibu dan janin mendapatkan gizi yang cukup. Pastikan untuk memenuhi beberapa nutrisi dasar dengan konsumsi makanan, seperti sumber karbohidrat, makanan berprotein, sayur dan buah, serta susu. Kurangi makanan berlemak dan lebih banyak konsumsi makanan berserat. 5.\\xa0 Cukupi Kebutuhan Asam Folat Ibu juga perlu memastikan konsumsi asam folat agar masa kehamilan tetap nyaman. Asam folat bisa diperoleh dari kandungan vitamin yang perlu dikonsumsi setiap hari, terutama di bulan-bulan awal. Kandungan ini juga bisa didapatkan melalui beberapa makanan, seperti sereal, beras merah, jeruk, sayuran hijau, dan masih banyak lagi. 6.\\xa0 Konsumsi Vitamin Penambah Darah Cara agar masa kehamilan tetap nyaman lainnya adalah rutin mengonsumsi vitamin penambah darah. Konsumsi vitamin ini selama hamil atau sesuai anjuran dokter. Vitamin dengan kandungan zat besi ini mampu mencegah terjadinya anemia saat hamil yang dapat meningkatkan risiko terjadi perdarahan saat persalinan dan banyak masalah lainnya. 7.\\xa0 Berhati-Hati saat Konsumsi Obat-Obatan Ibu juga perlu berhati-hati saat mengonsumsi obat-obatan selama kehamilan, termasuk juga obat-obatan tradisional. Sebab, kandungannya kerap belum diketahui keamanannya untuk wanita hamil. Selain obat, alkohol dan kafein juga termasuk yang perlu dihindari. 8.\\xa0 Konsultasikan Keamanan Obat Jika ibu memiliki obat-obatan yang perlu diminum secara rutin sebelum hamil, ada baiknya dibicarakan pada dokter. Mungkin dokter akan memberikan saran atau penyesuaian terhadap obat yang dikonsumsi agar kehamilan tetap sehat. 9.\\xa0 Banyak Bertanya pada Dokter Ibu tidak perlu sungkan atau takut untuk bertanya pada dokter terkait kekhawatiran atau apa pun yang membingungkan. Hal ini tentu dapat membantu kehamilan agar tetap nyaman. 10.\\xa0 Rutin Melakukan Aktivitas Fisik Ada banyak aktivitas fisik yang bisa dilakukan oleh ibu hamil, salah satunya senam hamil. Selain itu, ada juga olahraga aman lainnya yang bisa dilakukan, seperti berjalan kaki atau bersepeda statis. Meski begitu, alangkah lebih baiknya untuk berdiskusi dengan dokter untuk memilih jenis olahraga yang paling baik. 11. Makan Sedikit Tapi Lebih Sering Cobalah untuk makan dalam porsi kecil tapi sering, sekitar 5 – 6 kali perhari. Cara ini lebih baik dibandingkan makan dalam 3 porsi besar. Metode ini dapat mengurangi mual-muntah yang kerap terjadi pada ibu hamil. Hindari juga makanan yang dapat memicu terjadinya masalah tersebut. 12. Jangan Mandi Air Hangat Ibu juga perlu memastikan untuk tidak mandi atau berendam dengan air hangat saat hamil. Panas tinggi dapat membahayakan janin yang ada di kandungan. 13. Cegah Sakit Punggung Sakit punggung adalah masalah yang rentan terjadi pada ibu hamil. Maka dari itu, penting untuk menghindarinya dengan memiliki postur tubuh yang baik saat duduk, berdiri, bahkan berjalan. Pastikan juga menghindari dalam menggunakan sepatu hak tinggi. Itulah beberapa tips yang bisa dilakukan agar kehamilan terasa nyaman. Pastikan untuk menerapkan semua hal tersebut agar aktivitas yang dilakukan tidak terganggu. Jangan ragu untuk bertanya pada dokter jika ibu merasa hal ini perlu diketahui oleh dokter. Ibu bisa lo menggunakan fiturtanya dokterdariHalodocjika ingin memastikan sesuatu hal yang berhubungan dengan kehamilan. Cukup dengandownloadaplikasiHalodoc, segala kemudahan dalam akses kesehatan bisa didapatkan dengan penggunaansmartphone. Gunakan aplikasinya sekarang juga!'"
      ]
     },
     "execution_count": 9,
     "metadata": {},
     "output_type": "execute_result"
    }
   ],
   "source": [
    "# Melakukan stemming pada query (question/pertanyaan yang dimasukkan) menggunakan Sastrawi\n",
    "factory = StemmerFactory()\n",
    "stemmer = factory.create_stemmer()\n",
    "stop_words = set(stopwords.words('indonesian'))\n",
    "\n",
    "# Menghilangkan stopwords dan melakukan stemming pada query \n",
    "question = [stemmer.stem(word) for word in word_tokenize(question) if word not in stop_words]\n",
    "question = ' '.join(question)\n",
    "\n",
    "\n",
    "# Memperoleh (prediksi) dokumen yang paling mirip dengan query\n",
    "X = embedding.transform([question])\n",
    "document_id = retriever.kneighbors(X, return_distance=False)[0][0]\n",
    "selected = df.iloc[document_id]['content']\n",
    "\n",
    "selected"
   ]
  },
  {
   "cell_type": "code",
   "execution_count": 10,
   "metadata": {},
   "outputs": [
    {
     "name": "stdout",
     "output_type": "stream",
     "text": [
      "Text: Kehamilan dapat menjadi momen yang dinantikan oleh beberapa pasangan. Pada beberapa kesempatan, kehamilan dapat menambah beban pada sang ibu, terlebih jika sudah memasuki trimester akhir. Lalu, apa saja sih tips untuk memiliki masa kehamilan yang nyaman? Ketahui jawabannya di sini! Tips untuk Mendapatkan Masa Kehamilan yang Nyaman Rasa gembira memiliki bayi bisa saja mereda karena berbagai masalah fisik yang timbul. Ibu bisa saja mengalami rasa sakit, nyeri, atau ketidaknyamanan ketika hamil. Hal ini terjadi karena adanya perubahan pada tubuh selama kehamilan. Meski begitu, tidak semua wanita mengalami masalah ini ketika hamil.  Namun, saat mengalaminya  ibu perlu tahu beberapa tips untuk mendapatkan masakehamilanyang nyaman, yaitu: 1.  Rutin Memeriksakan Kehamilan Tips kehamilan yang pertama adalah secara rutin mengontrol ke dokter untuk memeriksakan kehamilan. Bahkan pemeriksaan harus lebih sering dilakukan di trimester akhir kehamilan. Selain itu, jangan ragu untuk segera menemui dokter jika alami keluhan atau kekhawatiran tentang kehamilan. 2.  Berhenti Merokok Tips agar masa kehamilan nyaman lainnya adalah berhenti merokok dan janganlah menjadi perokok pasif. Sebab, saat sering menghirup asap rokok dari orang sekitar, risiko bayi lahir dengan berat badan yang kurang lebih tinggi. Hal ini dapat menyebabkan bayi lebih rentan sakit atau bahkan alami kematian. Terbiasa terkena paparan rokok juga dapat meningkatkan risiko keguguran. 3.  Perbanyak Minum Air Putih Ada baiknya untuk tetap menjaga tubuh tetap terhidrasi dengan mengonsumsi lebih banyak air putih. Air dapat membantu fungsi ginjal dan hati untuk sang ibu dan bayi. Cairan yang masuk juga berguna untuk meningkatkan volume darah selama kehamilan. Cobalah untuk mengonsumsi 8-10 gelas air per hari (2-3 liter) dan hindari minuman berkafein. 4.  Konsumsi Makanan Bergizi Ibu juga perlu mengonsumsi lebih banyak makanan bergizi seimbang. Hal ini untuk memastikan ibu dan janin mendapatkan gizi yang cukup. Pastikan untuk memenuhi beberapa nutrisi dasar dengan konsumsi makanan, seperti sumber karbohidrat, makanan berprotein, sayur dan buah, serta susu. Kurangi makanan berlemak dan lebih banyak konsumsi makanan berserat. 5.  Cukupi Kebutuhan Asam Folat Ibu juga perlu memastikan konsumsi asam folat agar masa kehamilan tetap nyaman. Asam folat bisa diperoleh dari kandungan vitamin yang perlu dikonsumsi setiap hari, terutama di bulan-bulan awal. Kandungan ini juga bisa didapatkan melalui beberapa makanan, seperti sereal, beras merah, jeruk, sayuran hijau, dan masih banyak lagi. 6.  Konsumsi Vitamin Penambah Darah Cara agar masa kehamilan tetap nyaman lainnya adalah rutin mengonsumsi vitamin penambah darah. Konsumsi vitamin ini selama hamil atau sesuai anjuran dokter. Vitamin dengan kandungan zat besi ini mampu mencegah terjadinya anemia saat hamil yang dapat meningkatkan risiko terjadi perdarahan saat persalinan dan banyak masalah lainnya. 7.  Berhati-Hati saat Konsumsi Obat-Obatan Ibu juga perlu berhati-hati saat mengonsumsi obat-obatan selama kehamilan, termasuk juga obat-obatan tradisional. Sebab, kandungannya kerap belum diketahui keamanannya untuk wanita hamil. Selain obat, alkohol dan kafein juga termasuk yang perlu dihindari. 8.  Konsultasikan Keamanan Obat Jika ibu memiliki obat-obatan yang perlu diminum secara rutin sebelum hamil, ada baiknya dibicarakan pada dokter. Mungkin dokter akan memberikan saran atau penyesuaian terhadap obat yang dikonsumsi agar kehamilan tetap sehat. 9.  Banyak Bertanya pada Dokter Ibu tidak perlu sungkan atau takut untuk bertanya pada dokter terkait kekhawatiran atau apa pun yang membingungkan. Hal ini tentu dapat membantu kehamilan agar tetap nyaman. 10.  Rutin Melakukan Aktivitas Fisik Ada banyak aktivitas fisik yang bisa dilakukan oleh ibu hamil, salah satunya senam hamil. Selain itu, ada juga olahraga aman lainnya yang bisa dilakukan, seperti berjalan kaki atau bersepeda statis. Meski begitu, alangkah lebih baiknya untuk berdiskusi dengan dokter untuk memilih jenis olahraga yang paling baik. 11. Makan Sedikit Tapi Lebih Sering Cobalah untuk makan dalam porsi kecil tapi sering, sekitar 5 – 6 kali perhari. Cara ini lebih baik dibandingkan makan dalam 3 porsi besar. Metode ini dapat mengurangi mual-muntah yang kerap terjadi pada ibu hamil. Hindari juga makanan yang dapat memicu terjadinya masalah tersebut. 12. Jangan Mandi Air Hangat Ibu juga perlu memastikan untuk tidak mandi atau berendam dengan air hangat saat hamil. Panas tinggi dapat membahayakan janin yang ada di kandungan. 13. Cegah Sakit Punggung Sakit punggung adalah masalah yang rentan terjadi pada ibu hamil. Maka dari itu, penting untuk menghindarinya dengan memiliki postur tubuh yang baik saat duduk, berdiri, bahkan berjalan. Pastikan juga menghindari dalam menggunakan sepatu hak tinggi. Itulah beberapa tips yang bisa dilakukan agar kehamilan terasa nyaman. Pastikan untuk menerapkan semua hal tersebut agar aktivitas yang dilakukan tidak terganggu. Jangan ragu untuk bertanya pada dokter jika ibu merasa hal ini perlu diketahui oleh dokter. Ibu bisa lo menggunakan fiturtanya dokterdariHalodocjika ingin memastikan sesuatu hal yang berhubungan dengan kehamilan. Cukup dengandownloadaplikasiHalodoc, segala kemudahan dalam akses kesehatan bisa didapatkan dengan penggunaansmartphone. Gunakan aplikasinya sekarang juga!\n",
      "Vect: [array(['zat', 'yang', 'wanita', 'volume', 'vitamin', 'untuk', 'tubuh',\n",
      "       'trimester', 'tradisional', 'tips', 'tinggi', 'timbul', 'tidak',\n",
      "       'tetap', 'terkait', 'tentu', 'tentang', 'tapi', 'takut', 'tahu',\n",
      "       'susu', 'sungkan', 'sumber', 'sudah', 'statis', 'sini', 'sih',\n",
      "       'sesuatu', 'sesuai', 'serta', 'sering', 'seperti', 'sepatu',\n",
      "       'senam', 'semua', 'selain', 'sekitar', 'sekarang', 'sehat',\n",
      "       'segera', 'segala', 'sedikit', 'sebab', 'sayur', 'satunya',\n",
      "       'saran', 'sang', 'salah', 'sakit', 'saja', 'saat', 'rutin',\n",
      "       'rokok', 'risiko', 'rentan', 'rasa', 'ragu', 'putih', 'punggung',\n",
      "       'pun', 'postur', 'porsi', 'perubahan', 'pertama', 'perokok',\n",
      "       'perlu', 'per', 'penting', 'penggunaansmartphone', 'pemeriksaan',\n",
      "       'pasif', 'panas', 'paling', 'pada', 'orang', 'oleh', 'olahraga',\n",
      "       'obatan', 'obat', 'nyeri', 'nyaman', 'nutrisi', 'namun', 'muntah',\n",
      "       'mungkin', 'mual', 'momen', 'minum', 'metode', 'meski', 'merah',\n",
      "       'menjadi', 'mengalami', 'memilih', 'masuk', 'masih', 'masalah',\n",
      "       'masakehamilanyang', 'masa', 'mandi', 'mampu', 'makan', 'maka',\n",
      "       'lo', 'liter', 'lebih', 'lalu', 'lahir', 'lagi', 'kurang',\n",
      "       'konsumsi', 'ketika', 'ketidaknyamanan', 'kerap', 'kecil', 'ke',\n",
      "       'karena', 'karbohidrat', 'kali', 'kaki', 'kafein', 'juga', 'jika',\n",
      "       'jeruk', 'jenis', 'janin', 'jangan', 'itu', 'ini', 'ingin', 'ibu',\n",
      "       'hijau', 'hati', 'harus', 'hari', 'hangat', 'hamil', 'hal', 'hak',\n",
      "       'gizi', 'ginjal', 'gembira', 'gelas', 'fungsi', 'folat',\n",
      "       'fiturtanya', 'fisik', 'duduk', 'dokter', 'di', 'dengan', 'dasar',\n",
      "       'dari', 'darah', 'dapat', 'dan', 'dalam', 'cukup', 'cegah', 'cara',\n",
      "       'cairan', 'bulan', 'buah', 'bisa', 'besi', 'besar', 'berkafein',\n",
      "       'berhati', 'berdiri', 'berat', 'beras', 'belum', 'begitu',\n",
      "       'beberapa', 'beban', 'bayi', 'banyak', 'baik', 'bahkan', 'badan',\n",
      "       'awal', 'atau', 'asap', 'asam', 'apa', 'anemia', 'aman', 'alkohol',\n",
      "       'alangkah', 'alami', 'aktivitas', 'akses', 'akhir', 'akan', 'air',\n",
      "       'agar', 'adalah', 'ada', '13', '12', '11', '10'], dtype='<U72')]\n"
     ]
    }
   ],
   "source": [
    "# Melakukan transformasi pada dokumen yang dipilih dengan fungsi yang telah dibuat sebelumnya\n",
    "transform_text(embedding, selected)"
   ]
  },
  {
   "attachments": {},
   "cell_type": "markdown",
   "metadata": {},
   "source": [
    "## Query unpreprocessed"
   ]
  },
  {
   "cell_type": "code",
   "execution_count": 11,
   "metadata": {},
   "outputs": [
    {
     "data": {
      "text/plain": [
       "(9979, 61940)"
      ]
     },
     "execution_count": 11,
     "metadata": {},
     "output_type": "execute_result"
    }
   ],
   "source": [
    "\n",
    "# X_ev = embedding.transform(df['title_tokens_stopwords_stemmed'].apply(lambda tokens: ' '.join(tokens)))\n",
    "X_ev = embedding.transform(df['title'])\n",
    "X_ev.shape"
   ]
  },
  {
   "cell_type": "code",
   "execution_count": 12,
   "metadata": {},
   "outputs": [
    {
     "data": {
      "text/plain": [
       "(9979,)"
      ]
     },
     "execution_count": 12,
     "metadata": {},
     "output_type": "execute_result"
    }
   ],
   "source": [
    "y_ev = df['document_id']\n",
    "y_ev.shape"
   ]
  },
  {
   "cell_type": "code",
   "execution_count": 13,
   "metadata": {},
   "outputs": [
    {
     "name": "stdout",
     "output_type": "stream",
     "text": [
      "(9979, 9)\n"
     ]
    },
    {
     "data": {
      "text/plain": [
       "array([[   0, 3073, 7718, ..., 3553, 5276, 9826],\n",
       "       [6513,  278, 6758, ..., 6237, 3365,    1],\n",
       "       [   2, 8838, 7095, ..., 8007, 8715, 6664],\n",
       "       ...,\n",
       "       [9976, 9971, 3505, ...,   37, 5982, 6605],\n",
       "       [1378, 2413, 3765, ..., 6792, 5404, 7542],\n",
       "       [9978, 4562,  921, ...,  308, 9251, 7837]], dtype=int64)"
      ]
     },
     "execution_count": 13,
     "metadata": {},
     "output_type": "execute_result"
    }
   ],
   "source": [
    "y_pred = retriever.kneighbors(X_ev, return_distance=False)\n",
    "print(y_pred.shape)\n",
    "y_pred"
   ]
  },
  {
   "cell_type": "code",
   "execution_count": 14,
   "metadata": {},
   "outputs": [],
   "source": [
    "def top_accuracy(y_true, y_pred) -> float:\n",
    "    right, count = 0, 0\n",
    "    for i, y_t in enumerate(y_true):\n",
    "        count += 1\n",
    "        if y_t in y_pred[i]:\n",
    "            right += 1\n",
    "    return right / count if count > 0 else 0"
   ]
  },
  {
   "cell_type": "code",
   "execution_count": 15,
   "metadata": {},
   "outputs": [
    {
     "name": "stdout",
     "output_type": "stream",
     "text": [
      "Jumlah Benar\t: 8572 dari 9979\n",
      "Akurasi\t\t: 0.8590\n"
     ]
    }
   ],
   "source": [
    "acc = top_accuracy(y_ev, y_pred)\n",
    "print('Jumlah Benar\\t:', int(acc*len(y_ev)), 'dari', len(y_ev))\n",
    "print('Akurasi\\t\\t:', f'{acc:.4f}')"
   ]
  },
  {
   "attachments": {},
   "cell_type": "markdown",
   "metadata": {},
   "source": [
    "## Query preprocessed"
   ]
  },
  {
   "cell_type": "code",
   "execution_count": 16,
   "metadata": {},
   "outputs": [
    {
     "name": "stdout",
     "output_type": "stream",
     "text": [
      "(9979, 9)\n",
      "Jumlah Benar\t: 9338 dari 9979\n",
      "Akurasi\t\t: 0.9358\n"
     ]
    }
   ],
   "source": [
    "\n",
    "X_ev = embedding.transform(df['title_tokens_stopwords_stemmed'].apply(lambda tokens: ' '.join(tokens)))\n",
    "y_ev = df['document_id']\n",
    "y_pred = retriever.kneighbors(X_ev, return_distance=False)\n",
    "print(y_pred.shape)\n",
    "\n",
    "\n",
    "acc = top_accuracy(y_ev, y_pred)\n",
    "print('Jumlah Benar\\t:', int(acc*len(y_ev)), 'dari', len(y_ev))\n",
    "print('Akurasi\\t\\t:', f'{acc:.4f}')"
   ]
  },
  {
   "attachments": {},
   "cell_type": "markdown",
   "metadata": {},
   "source": [
    "# Evaluate with alternative query from doc2query"
   ]
  },
  {
   "cell_type": "code",
   "execution_count": 17,
   "metadata": {},
   "outputs": [
    {
     "data": {
      "text/html": [
       "<div>\n",
       "<style scoped>\n",
       "    .dataframe tbody tr th:only-of-type {\n",
       "        vertical-align: middle;\n",
       "    }\n",
       "\n",
       "    .dataframe tbody tr th {\n",
       "        vertical-align: top;\n",
       "    }\n",
       "\n",
       "    .dataframe thead th {\n",
       "        text-align: right;\n",
       "    }\n",
       "</style>\n",
       "<table border=\"1\" class=\"dataframe\">\n",
       "  <thead>\n",
       "    <tr style=\"text-align: right;\">\n",
       "      <th></th>\n",
       "      <th>query</th>\n",
       "      <th>document_id</th>\n",
       "    </tr>\n",
       "  </thead>\n",
       "  <tbody>\n",
       "    <tr>\n",
       "      <th>0</th>\n",
       "      <td>pilih seat bayi lahir</td>\n",
       "      <td>0</td>\n",
       "    </tr>\n",
       "    <tr>\n",
       "      <th>1</th>\n",
       "      <td></td>\n",
       "      <td>1</td>\n",
       "    </tr>\n",
       "    <tr>\n",
       "      <th>2</th>\n",
       "      <td></td>\n",
       "      <td>2</td>\n",
       "    </tr>\n",
       "    <tr>\n",
       "      <th>3</th>\n",
       "      <td></td>\n",
       "      <td>3</td>\n",
       "    </tr>\n",
       "    <tr>\n",
       "      <th>4</th>\n",
       "      <td></td>\n",
       "      <td>4</td>\n",
       "    </tr>\n",
       "  </tbody>\n",
       "</table>\n",
       "</div>"
      ],
      "text/plain": [
       "                   query  document_id\n",
       "0  pilih seat bayi lahir            0\n",
       "1                                   1\n",
       "2                                   2\n",
       "3                                   3\n",
       "4                                   4"
      ]
     },
     "execution_count": 17,
     "metadata": {},
     "output_type": "execute_result"
    }
   ],
   "source": [
    "# df = pd.read_csv('df_new_query (1).csv')\n",
    "\n",
    "df['new_query_tokens_stopwords_stemmed'] = df['new_query_tokens_stopwords_stemmed'].apply(ast.literal_eval)\n",
    "additional_queries = df['new_query_tokens_stopwords_stemmed'].apply(lambda tokens: ' '.join(tokens) if len(tokens) != 0 else '')\n",
    "additional_queries = pd.DataFrame({'query': additional_queries, 'document_id': df['document_id']})\n",
    "additional_queries.head()"
   ]
  },
  {
   "cell_type": "code",
   "execution_count": 18,
   "metadata": {},
   "outputs": [
    {
     "name": "stdout",
     "output_type": "stream",
     "text": [
      "(2993, 2)\n"
     ]
    },
    {
     "data": {
      "text/html": [
       "<div>\n",
       "<style scoped>\n",
       "    .dataframe tbody tr th:only-of-type {\n",
       "        vertical-align: middle;\n",
       "    }\n",
       "\n",
       "    .dataframe tbody tr th {\n",
       "        vertical-align: top;\n",
       "    }\n",
       "\n",
       "    .dataframe thead th {\n",
       "        text-align: right;\n",
       "    }\n",
       "</style>\n",
       "<table border=\"1\" class=\"dataframe\">\n",
       "  <thead>\n",
       "    <tr style=\"text-align: right;\">\n",
       "      <th></th>\n",
       "      <th>query</th>\n",
       "      <th>document_id</th>\n",
       "    </tr>\n",
       "  </thead>\n",
       "  <tbody>\n",
       "    <tr>\n",
       "      <th>0</th>\n",
       "      <td>pilih seat bayi lahir</td>\n",
       "      <td>0</td>\n",
       "    </tr>\n",
       "    <tr>\n",
       "      <th>1</th>\n",
       "      <td>allylestrenol aman hamil</td>\n",
       "      <td>5</td>\n",
       "    </tr>\n",
       "    <tr>\n",
       "      <th>2</th>\n",
       "      <td>tes urine</td>\n",
       "      <td>6</td>\n",
       "    </tr>\n",
       "    <tr>\n",
       "      <th>3</th>\n",
       "      <td>obat obat sindrom orang kaku</td>\n",
       "      <td>15</td>\n",
       "    </tr>\n",
       "    <tr>\n",
       "      <th>4</th>\n",
       "      <td>jenis alat ukur suhu</td>\n",
       "      <td>21</td>\n",
       "    </tr>\n",
       "  </tbody>\n",
       "</table>\n",
       "</div>"
      ],
      "text/plain": [
       "                           query  document_id\n",
       "0          pilih seat bayi lahir            0\n",
       "1      allylestrenol aman hamil             5\n",
       "2                     tes urine             6\n",
       "3  obat obat sindrom orang kaku            15\n",
       "4           jenis alat ukur suhu           21"
      ]
     },
     "execution_count": 18,
     "metadata": {},
     "output_type": "execute_result"
    }
   ],
   "source": [
    "# drop null values (70% of the data)\n",
    "# Menghapus baris yang memiliki array kosong pada kolom \"query\"\n",
    "empty_query_rows = additional_queries[additional_queries['query'].apply(lambda x: len(x) == 0)]\n",
    "additional_queries = additional_queries.drop(empty_query_rows.index)\n",
    "additional_queries = additional_queries.reset_index(drop=True)\n",
    "print(additional_queries.shape)\n",
    "additional_queries.head()"
   ]
  },
  {
   "cell_type": "code",
   "execution_count": 19,
   "metadata": {},
   "outputs": [],
   "source": [
    "# additional_queries['query'] = additional_queries['query'].apply(ast.literal_eval)\n",
    "# additional_queries['query'].apply(lambda tokens: ' '.join(tokens))"
   ]
  },
  {
   "cell_type": "code",
   "execution_count": 20,
   "metadata": {},
   "outputs": [
    {
     "name": "stdout",
     "output_type": "stream",
     "text": [
      "(2993, 9)\n"
     ]
    }
   ],
   "source": [
    "X_ev_doc2query = embedding.transform(additional_queries['query'])\n",
    "y_ev_doc2query = additional_queries['document_id']\n",
    "y_pred_doc2query = retriever.kneighbors(X_ev_doc2query, return_distance=False)\n",
    "print(y_pred_doc2query.shape)\n"
   ]
  },
  {
   "cell_type": "code",
   "execution_count": 21,
   "metadata": {},
   "outputs": [
    {
     "data": {
      "text/plain": [
       "array([[   0, 7271, 6119, ..., 7017, 9324, 3387],\n",
       "       [   5, 7861, 7814, ..., 2199, 9828, 9768],\n",
       "       [   6, 1857, 1626, ..., 4427, 1056, 5145],\n",
       "       ...,\n",
       "       [9898,  211, 9968, ..., 9060, 9922, 2228],\n",
       "       [7519, 9974, 7449, ..., 2112, 7861, 2659],\n",
       "       [9976, 8745, 7924, ..., 6605, 1371, 9971]], dtype=int64)"
      ]
     },
     "execution_count": 21,
     "metadata": {},
     "output_type": "execute_result"
    }
   ],
   "source": [
    "y_pred_doc2query"
   ]
  },
  {
   "cell_type": "code",
   "execution_count": 22,
   "metadata": {},
   "outputs": [
    {
     "name": "stdout",
     "output_type": "stream",
     "text": [
      "Jumlah Benar\t: 2482 dari 2993\n",
      "Akurasi\t\t: 0.8293\n"
     ]
    }
   ],
   "source": [
    "acc = top_accuracy(y_ev_doc2query, y_pred_doc2query)\n",
    "print('Jumlah Benar\\t:', int(acc*len(y_ev_doc2query)), 'dari', len(y_ev_doc2query))\n",
    "print('Akurasi\\t\\t:', f'{acc:.4f}')"
   ]
  },
  {
   "cell_type": "code",
   "execution_count": 46,
   "metadata": {},
   "outputs": [
    {
     "data": {
      "text/html": [
       "<style>#sk-container-id-3 {color: black;background-color: white;}#sk-container-id-3 pre{padding: 0;}#sk-container-id-3 div.sk-toggleable {background-color: white;}#sk-container-id-3 label.sk-toggleable__label {cursor: pointer;display: block;width: 100%;margin-bottom: 0;padding: 0.3em;box-sizing: border-box;text-align: center;}#sk-container-id-3 label.sk-toggleable__label-arrow:before {content: \"▸\";float: left;margin-right: 0.25em;color: #696969;}#sk-container-id-3 label.sk-toggleable__label-arrow:hover:before {color: black;}#sk-container-id-3 div.sk-estimator:hover label.sk-toggleable__label-arrow:before {color: black;}#sk-container-id-3 div.sk-toggleable__content {max-height: 0;max-width: 0;overflow: hidden;text-align: left;background-color: #f0f8ff;}#sk-container-id-3 div.sk-toggleable__content pre {margin: 0.2em;color: black;border-radius: 0.25em;background-color: #f0f8ff;}#sk-container-id-3 input.sk-toggleable__control:checked~div.sk-toggleable__content {max-height: 200px;max-width: 100%;overflow: auto;}#sk-container-id-3 input.sk-toggleable__control:checked~label.sk-toggleable__label-arrow:before {content: \"▾\";}#sk-container-id-3 div.sk-estimator input.sk-toggleable__control:checked~label.sk-toggleable__label {background-color: #d4ebff;}#sk-container-id-3 div.sk-label input.sk-toggleable__control:checked~label.sk-toggleable__label {background-color: #d4ebff;}#sk-container-id-3 input.sk-hidden--visually {border: 0;clip: rect(1px 1px 1px 1px);clip: rect(1px, 1px, 1px, 1px);height: 1px;margin: -1px;overflow: hidden;padding: 0;position: absolute;width: 1px;}#sk-container-id-3 div.sk-estimator {font-family: monospace;background-color: #f0f8ff;border: 1px dotted black;border-radius: 0.25em;box-sizing: border-box;margin-bottom: 0.5em;}#sk-container-id-3 div.sk-estimator:hover {background-color: #d4ebff;}#sk-container-id-3 div.sk-parallel-item::after {content: \"\";width: 100%;border-bottom: 1px solid gray;flex-grow: 1;}#sk-container-id-3 div.sk-label:hover label.sk-toggleable__label {background-color: #d4ebff;}#sk-container-id-3 div.sk-serial::before {content: \"\";position: absolute;border-left: 1px solid gray;box-sizing: border-box;top: 0;bottom: 0;left: 50%;z-index: 0;}#sk-container-id-3 div.sk-serial {display: flex;flex-direction: column;align-items: center;background-color: white;padding-right: 0.2em;padding-left: 0.2em;position: relative;}#sk-container-id-3 div.sk-item {position: relative;z-index: 1;}#sk-container-id-3 div.sk-parallel {display: flex;align-items: stretch;justify-content: center;background-color: white;position: relative;}#sk-container-id-3 div.sk-item::before, #sk-container-id-3 div.sk-parallel-item::before {content: \"\";position: absolute;border-left: 1px solid gray;box-sizing: border-box;top: 0;bottom: 0;left: 50%;z-index: -1;}#sk-container-id-3 div.sk-parallel-item {display: flex;flex-direction: column;z-index: 1;position: relative;background-color: white;}#sk-container-id-3 div.sk-parallel-item:first-child::after {align-self: flex-end;width: 50%;}#sk-container-id-3 div.sk-parallel-item:last-child::after {align-self: flex-start;width: 50%;}#sk-container-id-3 div.sk-parallel-item:only-child::after {width: 0;}#sk-container-id-3 div.sk-dashed-wrapped {border: 1px dashed gray;margin: 0 0.4em 0.5em 0.4em;box-sizing: border-box;padding-bottom: 0.4em;background-color: white;}#sk-container-id-3 div.sk-label label {font-family: monospace;font-weight: bold;display: inline-block;line-height: 1.2em;}#sk-container-id-3 div.sk-label-container {text-align: center;}#sk-container-id-3 div.sk-container {/* jupyter's `normalize.less` sets `[hidden] { display: none; }` but bootstrap.min.css set `[hidden] { display: none !important; }` so we also need the `!important` here to be able to override the default hidden behavior on the sphinx rendered scikit-learn.org. See: https://github.com/scikit-learn/scikit-learn/issues/21755 */display: inline-block !important;position: relative;}#sk-container-id-3 div.sk-text-repr-fallback {display: none;}</style><div id=\"sk-container-id-3\" class=\"sk-top-container\"><div class=\"sk-text-repr-fallback\"><pre>NearestNeighbors(metric=&#x27;cosine&#x27;, n_neighbors=9)</pre><b>In a Jupyter environment, please rerun this cell to show the HTML representation or trust the notebook. <br />On GitHub, the HTML representation is unable to render, please try loading this page with nbviewer.org.</b></div><div class=\"sk-container\" hidden><div class=\"sk-item\"><div class=\"sk-estimator sk-toggleable\"><input class=\"sk-toggleable__control sk-hidden--visually\" id=\"sk-estimator-id-3\" type=\"checkbox\" checked><label for=\"sk-estimator-id-3\" class=\"sk-toggleable__label sk-toggleable__label-arrow\">NearestNeighbors</label><div class=\"sk-toggleable__content\"><pre>NearestNeighbors(metric=&#x27;cosine&#x27;, n_neighbors=9)</pre></div></div></div></div></div>"
      ],
      "text/plain": [
       "NearestNeighbors(metric='cosine', n_neighbors=9)"
      ]
     },
     "execution_count": 46,
     "metadata": {},
     "output_type": "execute_result"
    }
   ],
   "source": [
    "retriever"
   ]
  },
  {
   "attachments": {},
   "cell_type": "markdown",
   "metadata": {},
   "source": [
    "# New Dataset"
   ]
  },
  {
   "cell_type": "code",
   "execution_count": 23,
   "metadata": {},
   "outputs": [
    {
     "data": {
      "text/html": [
       "<div>\n",
       "<style scoped>\n",
       "    .dataframe tbody tr th:only-of-type {\n",
       "        vertical-align: middle;\n",
       "    }\n",
       "\n",
       "    .dataframe tbody tr th {\n",
       "        vertical-align: top;\n",
       "    }\n",
       "\n",
       "    .dataframe thead th {\n",
       "        text-align: right;\n",
       "    }\n",
       "</style>\n",
       "<table border=\"1\" class=\"dataframe\">\n",
       "  <thead>\n",
       "    <tr style=\"text-align: right;\">\n",
       "      <th></th>\n",
       "      <th>id</th>\n",
       "      <th>text</th>\n",
       "      <th>label</th>\n",
       "      <th>text_word_count</th>\n",
       "      <th>label_word_count</th>\n",
       "      <th>text_lower</th>\n",
       "      <th>label_lower</th>\n",
       "      <th>text_tokens</th>\n",
       "      <th>label_tokens</th>\n",
       "      <th>text_tokens_stopwords</th>\n",
       "      <th>label_tokens_stopwords</th>\n",
       "      <th>text_tokens_stopwords_stemmed</th>\n",
       "      <th>label_tokens_stopwords_stemmed</th>\n",
       "    </tr>\n",
       "  </thead>\n",
       "  <tbody>\n",
       "    <tr>\n",
       "      <th>0</th>\n",
       "      <td>1501893029-lula-kamal-dokter-ryan-thamrin-saki...</td>\n",
       "      <td>Dokter Ryan Thamrin , yang terkenal lewat aca...</td>\n",
       "      <td>Dokter Lula Kamal yang merupakan selebriti sek...</td>\n",
       "      <td>330</td>\n",
       "      <td>58</td>\n",
       "      <td>dokter ryan thamrin , yang terkenal lewat aca...</td>\n",
       "      <td>dokter lula kamal yang merupakan selebriti sek...</td>\n",
       "      <td>['dokter', 'ryan', 'thamrin', ',', 'yang', 'te...</td>\n",
       "      <td>['dokter', 'lula', 'kamal', 'yang', 'merupakan...</td>\n",
       "      <td>['dokter', 'ryan', 'thamrin', ',', 'terkenal',...</td>\n",
       "      <td>['dokter', 'lula', 'kamal', 'selebriti', 'reka...</td>\n",
       "      <td>['dokter', 'ryan', 'thamrin', '', 'kenal', 'ac...</td>\n",
       "      <td>['dokter', 'lula', 'kamal', 'selebriti', 'reka...</td>\n",
       "    </tr>\n",
       "  </tbody>\n",
       "</table>\n",
       "</div>"
      ],
      "text/plain": [
       "                                                  id  \\\n",
       "0  1501893029-lula-kamal-dokter-ryan-thamrin-saki...   \n",
       "\n",
       "                                                text  \\\n",
       "0   Dokter Ryan Thamrin , yang terkenal lewat aca...   \n",
       "\n",
       "                                               label  text_word_count  \\\n",
       "0  Dokter Lula Kamal yang merupakan selebriti sek...              330   \n",
       "\n",
       "   label_word_count                                         text_lower  \\\n",
       "0                58   dokter ryan thamrin , yang terkenal lewat aca...   \n",
       "\n",
       "                                         label_lower  \\\n",
       "0  dokter lula kamal yang merupakan selebriti sek...   \n",
       "\n",
       "                                         text_tokens  \\\n",
       "0  ['dokter', 'ryan', 'thamrin', ',', 'yang', 'te...   \n",
       "\n",
       "                                        label_tokens  \\\n",
       "0  ['dokter', 'lula', 'kamal', 'yang', 'merupakan...   \n",
       "\n",
       "                               text_tokens_stopwords  \\\n",
       "0  ['dokter', 'ryan', 'thamrin', ',', 'terkenal',...   \n",
       "\n",
       "                              label_tokens_stopwords  \\\n",
       "0  ['dokter', 'lula', 'kamal', 'selebriti', 'reka...   \n",
       "\n",
       "                       text_tokens_stopwords_stemmed  \\\n",
       "0  ['dokter', 'ryan', 'thamrin', '', 'kenal', 'ac...   \n",
       "\n",
       "                      label_tokens_stopwords_stemmed  \n",
       "0  ['dokter', 'lula', 'kamal', 'selebriti', 'reka...  "
      ]
     },
     "execution_count": 23,
     "metadata": {},
     "output_type": "execute_result"
    }
   ],
   "source": [
    "# read tf-idf_train.csv\n",
    "df_json = pd.read_csv('tf-idf_train.csv')\n",
    "df_json.head(1)"
   ]
  },
  {
   "cell_type": "code",
   "execution_count": 24,
   "metadata": {},
   "outputs": [
    {
     "data": {
      "text/html": [
       "<div>\n",
       "<style scoped>\n",
       "    .dataframe tbody tr th:only-of-type {\n",
       "        vertical-align: middle;\n",
       "    }\n",
       "\n",
       "    .dataframe tbody tr th {\n",
       "        vertical-align: top;\n",
       "    }\n",
       "\n",
       "    .dataframe thead th {\n",
       "        text-align: right;\n",
       "    }\n",
       "</style>\n",
       "<table border=\"1\" class=\"dataframe\">\n",
       "  <thead>\n",
       "    <tr style=\"text-align: right;\">\n",
       "      <th></th>\n",
       "      <th>id</th>\n",
       "      <th>text</th>\n",
       "      <th>label</th>\n",
       "      <th>text_word_count</th>\n",
       "      <th>label_word_count</th>\n",
       "      <th>text_lower</th>\n",
       "      <th>label_lower</th>\n",
       "      <th>text_tokens</th>\n",
       "      <th>label_tokens</th>\n",
       "      <th>text_tokens_stopwords</th>\n",
       "      <th>label_tokens_stopwords</th>\n",
       "      <th>text_tokens_stopwords_stemmed</th>\n",
       "      <th>label_tokens_stopwords_stemmed</th>\n",
       "    </tr>\n",
       "  </thead>\n",
       "  <tbody>\n",
       "    <tr>\n",
       "      <th>0</th>\n",
       "      <td>1501893029-lula-kamal-dokter-ryan-thamrin-saki...</td>\n",
       "      <td>Dokter Ryan Thamrin , yang terkenal lewat aca...</td>\n",
       "      <td>Dokter Lula Kamal yang merupakan selebriti sek...</td>\n",
       "      <td>330</td>\n",
       "      <td>58</td>\n",
       "      <td>dokter ryan thamrin , yang terkenal lewat aca...</td>\n",
       "      <td>dokter lula kamal yang merupakan selebriti sek...</td>\n",
       "      <td>['dokter', 'ryan', 'thamrin', ',', 'yang', 'te...</td>\n",
       "      <td>['dokter', 'lula', 'kamal', 'yang', 'merupakan...</td>\n",
       "      <td>['dokter', 'ryan', 'thamrin', ',', 'terkenal',...</td>\n",
       "      <td>['dokter', 'lula', 'kamal', 'selebriti', 'reka...</td>\n",
       "      <td>[dokter, ryan, thamrin, , kenal, acara, dokter...</td>\n",
       "      <td>[dokter, lula, kamal, selebriti, rekan, kerja,...</td>\n",
       "    </tr>\n",
       "  </tbody>\n",
       "</table>\n",
       "</div>"
      ],
      "text/plain": [
       "                                                  id  \\\n",
       "0  1501893029-lula-kamal-dokter-ryan-thamrin-saki...   \n",
       "\n",
       "                                                text  \\\n",
       "0   Dokter Ryan Thamrin , yang terkenal lewat aca...   \n",
       "\n",
       "                                               label  text_word_count  \\\n",
       "0  Dokter Lula Kamal yang merupakan selebriti sek...              330   \n",
       "\n",
       "   label_word_count                                         text_lower  \\\n",
       "0                58   dokter ryan thamrin , yang terkenal lewat aca...   \n",
       "\n",
       "                                         label_lower  \\\n",
       "0  dokter lula kamal yang merupakan selebriti sek...   \n",
       "\n",
       "                                         text_tokens  \\\n",
       "0  ['dokter', 'ryan', 'thamrin', ',', 'yang', 'te...   \n",
       "\n",
       "                                        label_tokens  \\\n",
       "0  ['dokter', 'lula', 'kamal', 'yang', 'merupakan...   \n",
       "\n",
       "                               text_tokens_stopwords  \\\n",
       "0  ['dokter', 'ryan', 'thamrin', ',', 'terkenal',...   \n",
       "\n",
       "                              label_tokens_stopwords  \\\n",
       "0  ['dokter', 'lula', 'kamal', 'selebriti', 'reka...   \n",
       "\n",
       "                       text_tokens_stopwords_stemmed  \\\n",
       "0  [dokter, ryan, thamrin, , kenal, acara, dokter...   \n",
       "\n",
       "                      label_tokens_stopwords_stemmed  \n",
       "0  [dokter, lula, kamal, selebriti, rekan, kerja,...  "
      ]
     },
     "execution_count": 24,
     "metadata": {},
     "output_type": "execute_result"
    }
   ],
   "source": [
    "# ast literal on text_tokens_stopwords_stemmed and label_tokens_stopwords_stemmed\n",
    "df_json['text_tokens_stopwords_stemmed'] = df_json['text_tokens_stopwords_stemmed'].apply(ast.literal_eval)\n",
    "df_json['label_tokens_stopwords_stemmed'] = df_json['label_tokens_stopwords_stemmed'].apply(ast.literal_eval)\n",
    "df_json.head(1)"
   ]
  },
  {
   "cell_type": "code",
   "execution_count": 25,
   "metadata": {},
   "outputs": [
    {
     "data": {
      "text/html": [
       "<div>\n",
       "<style scoped>\n",
       "    .dataframe tbody tr th:only-of-type {\n",
       "        vertical-align: middle;\n",
       "    }\n",
       "\n",
       "    .dataframe tbody tr th {\n",
       "        vertical-align: top;\n",
       "    }\n",
       "\n",
       "    .dataframe thead th {\n",
       "        text-align: right;\n",
       "    }\n",
       "</style>\n",
       "<table border=\"1\" class=\"dataframe\">\n",
       "  <thead>\n",
       "    <tr style=\"text-align: right;\">\n",
       "      <th></th>\n",
       "      <th>id</th>\n",
       "      <th>content</th>\n",
       "      <th>title</th>\n",
       "      <th>text_word_count</th>\n",
       "      <th>label_word_count</th>\n",
       "      <th>text_lower</th>\n",
       "      <th>label_lower</th>\n",
       "      <th>text_tokens</th>\n",
       "      <th>label_tokens</th>\n",
       "      <th>text_tokens_stopwords</th>\n",
       "      <th>label_tokens_stopwords</th>\n",
       "      <th>content_tokens_stopwords_stemmed</th>\n",
       "      <th>title_tokens_stopwords_stemmed</th>\n",
       "    </tr>\n",
       "  </thead>\n",
       "  <tbody>\n",
       "    <tr>\n",
       "      <th>0</th>\n",
       "      <td>1501893029-lula-kamal-dokter-ryan-thamrin-saki...</td>\n",
       "      <td>Dokter Ryan Thamrin , yang terkenal lewat aca...</td>\n",
       "      <td>Dokter Lula Kamal yang merupakan selebriti sek...</td>\n",
       "      <td>330</td>\n",
       "      <td>58</td>\n",
       "      <td>dokter ryan thamrin , yang terkenal lewat aca...</td>\n",
       "      <td>dokter lula kamal yang merupakan selebriti sek...</td>\n",
       "      <td>['dokter', 'ryan', 'thamrin', ',', 'yang', 'te...</td>\n",
       "      <td>['dokter', 'lula', 'kamal', 'yang', 'merupakan...</td>\n",
       "      <td>['dokter', 'ryan', 'thamrin', ',', 'terkenal',...</td>\n",
       "      <td>['dokter', 'lula', 'kamal', 'selebriti', 'reka...</td>\n",
       "      <td>[dokter, ryan, thamrin, , kenal, acara, dokter...</td>\n",
       "      <td>[dokter, lula, kamal, selebriti, rekan, kerja,...</td>\n",
       "    </tr>\n",
       "  </tbody>\n",
       "</table>\n",
       "</div>"
      ],
      "text/plain": [
       "                                                  id  \\\n",
       "0  1501893029-lula-kamal-dokter-ryan-thamrin-saki...   \n",
       "\n",
       "                                             content  \\\n",
       "0   Dokter Ryan Thamrin , yang terkenal lewat aca...   \n",
       "\n",
       "                                               title  text_word_count  \\\n",
       "0  Dokter Lula Kamal yang merupakan selebriti sek...              330   \n",
       "\n",
       "   label_word_count                                         text_lower  \\\n",
       "0                58   dokter ryan thamrin , yang terkenal lewat aca...   \n",
       "\n",
       "                                         label_lower  \\\n",
       "0  dokter lula kamal yang merupakan selebriti sek...   \n",
       "\n",
       "                                         text_tokens  \\\n",
       "0  ['dokter', 'ryan', 'thamrin', ',', 'yang', 'te...   \n",
       "\n",
       "                                        label_tokens  \\\n",
       "0  ['dokter', 'lula', 'kamal', 'yang', 'merupakan...   \n",
       "\n",
       "                               text_tokens_stopwords  \\\n",
       "0  ['dokter', 'ryan', 'thamrin', ',', 'terkenal',...   \n",
       "\n",
       "                              label_tokens_stopwords  \\\n",
       "0  ['dokter', 'lula', 'kamal', 'selebriti', 'reka...   \n",
       "\n",
       "                    content_tokens_stopwords_stemmed  \\\n",
       "0  [dokter, ryan, thamrin, , kenal, acara, dokter...   \n",
       "\n",
       "                      title_tokens_stopwords_stemmed  \n",
       "0  [dokter, lula, kamal, selebriti, rekan, kerja,...  "
      ]
     },
     "execution_count": 25,
     "metadata": {},
     "output_type": "execute_result"
    }
   ],
   "source": [
    "# change df_json columns name\n",
    "#  - text -> content\n",
    "#  - label -> title\n",
    "#  - text_tokens_stopwords_stemmed -> content_tokens_stopwords_stemmed\n",
    "#  - label_tokens_stopwords_stemmed -> title_tokens_stopwords_stemmed\n",
    "\n",
    "df_json = df_json.rename(columns={'text': 'content', 'label': 'title', 'text_tokens_stopwords_stemmed': 'content_tokens_stopwords_stemmed', 'label_tokens_stopwords_stemmed': 'title_tokens_stopwords_stemmed'})\n",
    "df_json.head(1)"
   ]
  },
  {
   "cell_type": "code",
   "execution_count": 27,
   "metadata": {},
   "outputs": [
    {
     "data": {
      "text/html": [
       "<div>\n",
       "<style scoped>\n",
       "    .dataframe tbody tr th:only-of-type {\n",
       "        vertical-align: middle;\n",
       "    }\n",
       "\n",
       "    .dataframe tbody tr th {\n",
       "        vertical-align: top;\n",
       "    }\n",
       "\n",
       "    .dataframe thead th {\n",
       "        text-align: right;\n",
       "    }\n",
       "</style>\n",
       "<table border=\"1\" class=\"dataframe\">\n",
       "  <thead>\n",
       "    <tr style=\"text-align: right;\">\n",
       "      <th></th>\n",
       "      <th>title</th>\n",
       "      <th>content</th>\n",
       "      <th>title_tokens_stopwords_stemmed</th>\n",
       "      <th>content_tokens_stopwords_stemmed</th>\n",
       "    </tr>\n",
       "  </thead>\n",
       "  <tbody>\n",
       "    <tr>\n",
       "      <th>0</th>\n",
       "      <td>Ibu, Perhatikan 5 Hal Ini saat Memilih Car Se...</td>\n",
       "      <td>Bagi orang tua yang memiliki kendaraan, memili...</td>\n",
       "      <td>[, perhati, 5, pilih, car, seat, newborn]</td>\n",
       "      <td>[orang, tua, milik, kendara, , memilihcar, sea...</td>\n",
       "    </tr>\n",
       "    <tr>\n",
       "      <th>1</th>\n",
       "      <td>Catat, Ini 6 Tips Menyimpan Beras agar Tidak ...</td>\n",
       "      <td>Sebagai makanan pokok beras harus disimpan den...</td>\n",
       "      <td>[catat, , 6, tips, simpan, beras, kutu]</td>\n",
       "      <td>[makan, pokok, beras, simpan, kualitas, turun,...</td>\n",
       "    </tr>\n",
       "    <tr>\n",
       "      <th>2</th>\n",
       "      <td>Waspada, Ini 6 Bahaya Asap Rokok bagi Kesehat...</td>\n",
       "      <td>Merokok tidak hanya berbahaya untuk dirimu sen...</td>\n",
       "      <td>[waspada, , 6, bahaya, asap, rokok, sehat, anak]</td>\n",
       "      <td>[rokok, bahaya, diri, orang, sekitar, , bayi, ...</td>\n",
       "    </tr>\n",
       "    <tr>\n",
       "      <th>3</th>\n",
       "      <td>Sering Terkena Polusi, Ketahui Berbagi Cara B...</td>\n",
       "      <td>Sehari-hari, manusia terpapar polusi dalam jum...</td>\n",
       "      <td>[kena, polusi, , tahu, bagi, sih, paru]</td>\n",
       "      <td>[hari, , manusia, papar, polusi, asap, kendara...</td>\n",
       "    </tr>\n",
       "    <tr>\n",
       "      <th>4</th>\n",
       "      <td>Ini Risiko dan Manfaat Implan Payudara yang P...</td>\n",
       "      <td>Implan payudara adalah prosedur bedah kosmetik...</td>\n",
       "      <td>[risiko, manfaat, implan, payudara]</td>\n",
       "      <td>[implan, payudara, prosedur, bedah, kosmetik, ...</td>\n",
       "    </tr>\n",
       "    <tr>\n",
       "      <th>...</th>\n",
       "      <td>...</td>\n",
       "      <td>...</td>\n",
       "      <td>...</td>\n",
       "      <td>...</td>\n",
       "    </tr>\n",
       "    <tr>\n",
       "      <th>24057</th>\n",
       "      <td>Filosofi inilah yang menjadi pegangan bagi ana...</td>\n",
       "      <td>JANGAN engkau terus meratapi nasib hanya karen...</td>\n",
       "      <td>[filosofi, pegang, anak, delapan, puluh, sauda...</td>\n",
       "      <td>[engkau, ratap, nasib, takdir, lahir, keluarga...</td>\n",
       "    </tr>\n",
       "    <tr>\n",
       "      <th>24058</th>\n",
       "      <td>Jakarta , CNN Indonesia - - Aktris   Lindsay L...</td>\n",
       "      <td>Aktris   Lindsay Lohan mencuri perhatian publ...</td>\n",
       "      <td>[jakarta, , cnn, indonesia, -, -, aktris, lind...</td>\n",
       "      <td>[aktris, lindsay, loh, curi, perhati, publik, ...</td>\n",
       "    </tr>\n",
       "    <tr>\n",
       "      <th>24059</th>\n",
       "      <td>Jakarta ( ANTARA News ) - Doktor Biomedik dari...</td>\n",
       "      <td>Doktor Biomedik dari Fakultas Kedokteran Unive...</td>\n",
       "      <td>[jakarta, , news, , -, doktor, biomedik, fakul...</td>\n",
       "      <td>[doktor, biomedik, fakultas, dokter, universit...</td>\n",
       "    </tr>\n",
       "    <tr>\n",
       "      <th>24060</th>\n",
       "      <td>Jakarta , CNN Indonesia - - Tim peneliti Indon...</td>\n",
       "      <td>Tim peneliti Indonesia   yang bergabung dalam...</td>\n",
       "      <td>[jakarta, , cnn, indonesia, -, -, tim, teliti,...</td>\n",
       "      <td>[tim, teliti, indonesia, gabung, murdoch, chil...</td>\n",
       "    </tr>\n",
       "    <tr>\n",
       "      <th>24061</th>\n",
       "      <td>Kalau Diop dijuluki ratu melanin , gadis asal ...</td>\n",
       "      <td>Kalau tahun lalu Khoudia Diop memukau seluruh ...</td>\n",
       "      <td>[diop, juluk, ratu, melanin, , gadis, sudan, s...</td>\n",
       "      <td>[khoudia, diop, pukau, dunia, kulit, hitam, pe...</td>\n",
       "    </tr>\n",
       "  </tbody>\n",
       "</table>\n",
       "<p>24062 rows × 4 columns</p>\n",
       "</div>"
      ],
      "text/plain": [
       "                                                   title  \\\n",
       "0       Ibu, Perhatikan 5 Hal Ini saat Memilih Car Se...   \n",
       "1       Catat, Ini 6 Tips Menyimpan Beras agar Tidak ...   \n",
       "2       Waspada, Ini 6 Bahaya Asap Rokok bagi Kesehat...   \n",
       "3       Sering Terkena Polusi, Ketahui Berbagi Cara B...   \n",
       "4       Ini Risiko dan Manfaat Implan Payudara yang P...   \n",
       "...                                                  ...   \n",
       "24057  Filosofi inilah yang menjadi pegangan bagi ana...   \n",
       "24058  Jakarta , CNN Indonesia - - Aktris   Lindsay L...   \n",
       "24059  Jakarta ( ANTARA News ) - Doktor Biomedik dari...   \n",
       "24060  Jakarta , CNN Indonesia - - Tim peneliti Indon...   \n",
       "24061  Kalau Diop dijuluki ratu melanin , gadis asal ...   \n",
       "\n",
       "                                                 content  \\\n",
       "0      Bagi orang tua yang memiliki kendaraan, memili...   \n",
       "1      Sebagai makanan pokok beras harus disimpan den...   \n",
       "2      Merokok tidak hanya berbahaya untuk dirimu sen...   \n",
       "3      Sehari-hari, manusia terpapar polusi dalam jum...   \n",
       "4      Implan payudara adalah prosedur bedah kosmetik...   \n",
       "...                                                  ...   \n",
       "24057  JANGAN engkau terus meratapi nasib hanya karen...   \n",
       "24058   Aktris   Lindsay Lohan mencuri perhatian publ...   \n",
       "24059  Doktor Biomedik dari Fakultas Kedokteran Unive...   \n",
       "24060   Tim peneliti Indonesia   yang bergabung dalam...   \n",
       "24061  Kalau tahun lalu Khoudia Diop memukau seluruh ...   \n",
       "\n",
       "                          title_tokens_stopwords_stemmed  \\\n",
       "0              [, perhati, 5, pilih, car, seat, newborn]   \n",
       "1                [catat, , 6, tips, simpan, beras, kutu]   \n",
       "2       [waspada, , 6, bahaya, asap, rokok, sehat, anak]   \n",
       "3                [kena, polusi, , tahu, bagi, sih, paru]   \n",
       "4                    [risiko, manfaat, implan, payudara]   \n",
       "...                                                  ...   \n",
       "24057  [filosofi, pegang, anak, delapan, puluh, sauda...   \n",
       "24058  [jakarta, , cnn, indonesia, -, -, aktris, lind...   \n",
       "24059  [jakarta, , news, , -, doktor, biomedik, fakul...   \n",
       "24060  [jakarta, , cnn, indonesia, -, -, tim, teliti,...   \n",
       "24061  [diop, juluk, ratu, melanin, , gadis, sudan, s...   \n",
       "\n",
       "                        content_tokens_stopwords_stemmed  \n",
       "0      [orang, tua, milik, kendara, , memilihcar, sea...  \n",
       "1      [makan, pokok, beras, simpan, kualitas, turun,...  \n",
       "2      [rokok, bahaya, diri, orang, sekitar, , bayi, ...  \n",
       "3      [hari, , manusia, papar, polusi, asap, kendara...  \n",
       "4      [implan, payudara, prosedur, bedah, kosmetik, ...  \n",
       "...                                                  ...  \n",
       "24057  [engkau, ratap, nasib, takdir, lahir, keluarga...  \n",
       "24058  [aktris, lindsay, loh, curi, perhati, publik, ...  \n",
       "24059  [doktor, biomedik, fakultas, dokter, universit...  \n",
       "24060  [tim, teliti, indonesia, gabung, murdoch, chil...  \n",
       "24061  [khoudia, diop, pukau, dunia, kulit, hitam, pe...  \n",
       "\n",
       "[24062 rows x 4 columns]"
      ]
     },
     "execution_count": 27,
     "metadata": {},
     "output_type": "execute_result"
    }
   ],
   "source": [
    "# combine df_json and df to df_combined\n",
    "#  - df == df_json (was)\n",
    "# - 'content' = 'text'\n",
    "# - 'title' = 'label'\n",
    "# - 'content_tokens_stopwords_stemmed' = 'text_tokens_stopwords_stemmed'\n",
    "# - 'title_tokens_stopwords_stemmed' = 'label_tokens_stopwords_stemmed'\n",
    "\n",
    "columns = ['content', 'title', 'content_tokens_stopwords_stemmed', 'title_tokens_stopwords_stemmed']\n",
    "\n",
    "# make empty df_combined\n",
    "df_combined = pd.DataFrame(columns=columns)\n",
    "\n",
    "# Menggabungkan df dan df_json menjadi df_combined dengan kolom 'content', 'title', 'content_tokens_stopwords_stemmed', 'title_tokens_stopwords_stemmed'\n",
    "df_combined = pd.concat([df, df_json[columns]], ignore_index=True)\n",
    "df_combined = df_combined.drop(df_combined.columns.difference(columns), axis=1)\n",
    "df_combined"
   ]
  },
  {
   "cell_type": "code",
   "execution_count": 28,
   "metadata": {},
   "outputs": [
    {
     "name": "stdout",
     "output_type": "stream",
     "text": [
      "24060\n"
     ]
    }
   ],
   "source": [
    "# Drop null values\n",
    "df_combined = df_combined.dropna()\n",
    "df_combined = df_combined.reset_index(drop=True)\n",
    "print(len(df_combined))"
   ]
  },
  {
   "cell_type": "code",
   "execution_count": 29,
   "metadata": {},
   "outputs": [
    {
     "data": {
      "text/html": [
       "<div>\n",
       "<style scoped>\n",
       "    .dataframe tbody tr th:only-of-type {\n",
       "        vertical-align: middle;\n",
       "    }\n",
       "\n",
       "    .dataframe tbody tr th {\n",
       "        vertical-align: top;\n",
       "    }\n",
       "\n",
       "    .dataframe thead th {\n",
       "        text-align: right;\n",
       "    }\n",
       "</style>\n",
       "<table border=\"1\" class=\"dataframe\">\n",
       "  <thead>\n",
       "    <tr style=\"text-align: right;\">\n",
       "      <th></th>\n",
       "      <th>title</th>\n",
       "      <th>content</th>\n",
       "      <th>title_tokens_stopwords_stemmed</th>\n",
       "      <th>content_tokens_stopwords_stemmed</th>\n",
       "      <th>document_id</th>\n",
       "    </tr>\n",
       "  </thead>\n",
       "  <tbody>\n",
       "    <tr>\n",
       "      <th>0</th>\n",
       "      <td>Ibu, Perhatikan 5 Hal Ini saat Memilih Car Se...</td>\n",
       "      <td>Bagi orang tua yang memiliki kendaraan, memili...</td>\n",
       "      <td>[, perhati, 5, pilih, car, seat, newborn]</td>\n",
       "      <td>[orang, tua, milik, kendara, , memilihcar, sea...</td>\n",
       "      <td>0</td>\n",
       "    </tr>\n",
       "    <tr>\n",
       "      <th>1</th>\n",
       "      <td>Catat, Ini 6 Tips Menyimpan Beras agar Tidak ...</td>\n",
       "      <td>Sebagai makanan pokok beras harus disimpan den...</td>\n",
       "      <td>[catat, , 6, tips, simpan, beras, kutu]</td>\n",
       "      <td>[makan, pokok, beras, simpan, kualitas, turun,...</td>\n",
       "      <td>1</td>\n",
       "    </tr>\n",
       "    <tr>\n",
       "      <th>2</th>\n",
       "      <td>Waspada, Ini 6 Bahaya Asap Rokok bagi Kesehat...</td>\n",
       "      <td>Merokok tidak hanya berbahaya untuk dirimu sen...</td>\n",
       "      <td>[waspada, , 6, bahaya, asap, rokok, sehat, anak]</td>\n",
       "      <td>[rokok, bahaya, diri, orang, sekitar, , bayi, ...</td>\n",
       "      <td>2</td>\n",
       "    </tr>\n",
       "    <tr>\n",
       "      <th>3</th>\n",
       "      <td>Sering Terkena Polusi, Ketahui Berbagi Cara B...</td>\n",
       "      <td>Sehari-hari, manusia terpapar polusi dalam jum...</td>\n",
       "      <td>[kena, polusi, , tahu, bagi, sih, paru]</td>\n",
       "      <td>[hari, , manusia, papar, polusi, asap, kendara...</td>\n",
       "      <td>3</td>\n",
       "    </tr>\n",
       "    <tr>\n",
       "      <th>4</th>\n",
       "      <td>Ini Risiko dan Manfaat Implan Payudara yang P...</td>\n",
       "      <td>Implan payudara adalah prosedur bedah kosmetik...</td>\n",
       "      <td>[risiko, manfaat, implan, payudara]</td>\n",
       "      <td>[implan, payudara, prosedur, bedah, kosmetik, ...</td>\n",
       "      <td>4</td>\n",
       "    </tr>\n",
       "    <tr>\n",
       "      <th>...</th>\n",
       "      <td>...</td>\n",
       "      <td>...</td>\n",
       "      <td>...</td>\n",
       "      <td>...</td>\n",
       "      <td>...</td>\n",
       "    </tr>\n",
       "    <tr>\n",
       "      <th>24055</th>\n",
       "      <td>Filosofi inilah yang menjadi pegangan bagi ana...</td>\n",
       "      <td>JANGAN engkau terus meratapi nasib hanya karen...</td>\n",
       "      <td>[filosofi, pegang, anak, delapan, puluh, sauda...</td>\n",
       "      <td>[engkau, ratap, nasib, takdir, lahir, keluarga...</td>\n",
       "      <td>24055</td>\n",
       "    </tr>\n",
       "    <tr>\n",
       "      <th>24056</th>\n",
       "      <td>Jakarta , CNN Indonesia - - Aktris   Lindsay L...</td>\n",
       "      <td>Aktris   Lindsay Lohan mencuri perhatian publ...</td>\n",
       "      <td>[jakarta, , cnn, indonesia, -, -, aktris, lind...</td>\n",
       "      <td>[aktris, lindsay, loh, curi, perhati, publik, ...</td>\n",
       "      <td>24056</td>\n",
       "    </tr>\n",
       "    <tr>\n",
       "      <th>24057</th>\n",
       "      <td>Jakarta ( ANTARA News ) - Doktor Biomedik dari...</td>\n",
       "      <td>Doktor Biomedik dari Fakultas Kedokteran Unive...</td>\n",
       "      <td>[jakarta, , news, , -, doktor, biomedik, fakul...</td>\n",
       "      <td>[doktor, biomedik, fakultas, dokter, universit...</td>\n",
       "      <td>24057</td>\n",
       "    </tr>\n",
       "    <tr>\n",
       "      <th>24058</th>\n",
       "      <td>Jakarta , CNN Indonesia - - Tim peneliti Indon...</td>\n",
       "      <td>Tim peneliti Indonesia   yang bergabung dalam...</td>\n",
       "      <td>[jakarta, , cnn, indonesia, -, -, tim, teliti,...</td>\n",
       "      <td>[tim, teliti, indonesia, gabung, murdoch, chil...</td>\n",
       "      <td>24058</td>\n",
       "    </tr>\n",
       "    <tr>\n",
       "      <th>24059</th>\n",
       "      <td>Kalau Diop dijuluki ratu melanin , gadis asal ...</td>\n",
       "      <td>Kalau tahun lalu Khoudia Diop memukau seluruh ...</td>\n",
       "      <td>[diop, juluk, ratu, melanin, , gadis, sudan, s...</td>\n",
       "      <td>[khoudia, diop, pukau, dunia, kulit, hitam, pe...</td>\n",
       "      <td>24059</td>\n",
       "    </tr>\n",
       "  </tbody>\n",
       "</table>\n",
       "<p>24060 rows × 5 columns</p>\n",
       "</div>"
      ],
      "text/plain": [
       "                                                   title  \\\n",
       "0       Ibu, Perhatikan 5 Hal Ini saat Memilih Car Se...   \n",
       "1       Catat, Ini 6 Tips Menyimpan Beras agar Tidak ...   \n",
       "2       Waspada, Ini 6 Bahaya Asap Rokok bagi Kesehat...   \n",
       "3       Sering Terkena Polusi, Ketahui Berbagi Cara B...   \n",
       "4       Ini Risiko dan Manfaat Implan Payudara yang P...   \n",
       "...                                                  ...   \n",
       "24055  Filosofi inilah yang menjadi pegangan bagi ana...   \n",
       "24056  Jakarta , CNN Indonesia - - Aktris   Lindsay L...   \n",
       "24057  Jakarta ( ANTARA News ) - Doktor Biomedik dari...   \n",
       "24058  Jakarta , CNN Indonesia - - Tim peneliti Indon...   \n",
       "24059  Kalau Diop dijuluki ratu melanin , gadis asal ...   \n",
       "\n",
       "                                                 content  \\\n",
       "0      Bagi orang tua yang memiliki kendaraan, memili...   \n",
       "1      Sebagai makanan pokok beras harus disimpan den...   \n",
       "2      Merokok tidak hanya berbahaya untuk dirimu sen...   \n",
       "3      Sehari-hari, manusia terpapar polusi dalam jum...   \n",
       "4      Implan payudara adalah prosedur bedah kosmetik...   \n",
       "...                                                  ...   \n",
       "24055  JANGAN engkau terus meratapi nasib hanya karen...   \n",
       "24056   Aktris   Lindsay Lohan mencuri perhatian publ...   \n",
       "24057  Doktor Biomedik dari Fakultas Kedokteran Unive...   \n",
       "24058   Tim peneliti Indonesia   yang bergabung dalam...   \n",
       "24059  Kalau tahun lalu Khoudia Diop memukau seluruh ...   \n",
       "\n",
       "                          title_tokens_stopwords_stemmed  \\\n",
       "0              [, perhati, 5, pilih, car, seat, newborn]   \n",
       "1                [catat, , 6, tips, simpan, beras, kutu]   \n",
       "2       [waspada, , 6, bahaya, asap, rokok, sehat, anak]   \n",
       "3                [kena, polusi, , tahu, bagi, sih, paru]   \n",
       "4                    [risiko, manfaat, implan, payudara]   \n",
       "...                                                  ...   \n",
       "24055  [filosofi, pegang, anak, delapan, puluh, sauda...   \n",
       "24056  [jakarta, , cnn, indonesia, -, -, aktris, lind...   \n",
       "24057  [jakarta, , news, , -, doktor, biomedik, fakul...   \n",
       "24058  [jakarta, , cnn, indonesia, -, -, tim, teliti,...   \n",
       "24059  [diop, juluk, ratu, melanin, , gadis, sudan, s...   \n",
       "\n",
       "                        content_tokens_stopwords_stemmed  document_id  \n",
       "0      [orang, tua, milik, kendara, , memilihcar, sea...            0  \n",
       "1      [makan, pokok, beras, simpan, kualitas, turun,...            1  \n",
       "2      [rokok, bahaya, diri, orang, sekitar, , bayi, ...            2  \n",
       "3      [hari, , manusia, papar, polusi, asap, kendara...            3  \n",
       "4      [implan, payudara, prosedur, bedah, kosmetik, ...            4  \n",
       "...                                                  ...          ...  \n",
       "24055  [engkau, ratap, nasib, takdir, lahir, keluarga...        24055  \n",
       "24056  [aktris, lindsay, loh, curi, perhati, publik, ...        24056  \n",
       "24057  [doktor, biomedik, fakultas, dokter, universit...        24057  \n",
       "24058  [tim, teliti, indonesia, gabung, murdoch, chil...        24058  \n",
       "24059  [khoudia, diop, pukau, dunia, kulit, hitam, pe...        24059  \n",
       "\n",
       "[24060 rows x 5 columns]"
      ]
     },
     "execution_count": 29,
     "metadata": {},
     "output_type": "execute_result"
    }
   ],
   "source": [
    "# Tambahkan kolom 'document_id' pada df_combined\n",
    "df_combined['document_id'] = df_combined.index\n",
    "df_combined"
   ]
  },
  {
   "cell_type": "code",
   "execution_count": 30,
   "metadata": {},
   "outputs": [],
   "source": [
    "# df_combined.to_csv('df_combined.csv', index=False)"
   ]
  },
  {
   "cell_type": "code",
   "execution_count": 31,
   "metadata": {},
   "outputs": [
    {
     "data": {
      "text/html": [
       "<div>\n",
       "<style scoped>\n",
       "    .dataframe tbody tr th:only-of-type {\n",
       "        vertical-align: middle;\n",
       "    }\n",
       "\n",
       "    .dataframe tbody tr th {\n",
       "        vertical-align: top;\n",
       "    }\n",
       "\n",
       "    .dataframe thead th {\n",
       "        text-align: right;\n",
       "    }\n",
       "</style>\n",
       "<table border=\"1\" class=\"dataframe\">\n",
       "  <thead>\n",
       "    <tr style=\"text-align: right;\">\n",
       "      <th></th>\n",
       "      <th>title</th>\n",
       "      <th>content</th>\n",
       "      <th>title_tokens_stopwords_stemmed</th>\n",
       "      <th>content_tokens_stopwords_stemmed</th>\n",
       "      <th>document_id</th>\n",
       "    </tr>\n",
       "  </thead>\n",
       "  <tbody>\n",
       "    <tr>\n",
       "      <th>0</th>\n",
       "      <td>Ibu, Perhatikan 5 Hal Ini saat Memilih Car Se...</td>\n",
       "      <td>Bagi orang tua yang memiliki kendaraan, memili...</td>\n",
       "      <td>perhati 5 pilih car seat newborn</td>\n",
       "      <td>orang tua milik kendara  memilihcar seat newbo...</td>\n",
       "      <td>0</td>\n",
       "    </tr>\n",
       "    <tr>\n",
       "      <th>1</th>\n",
       "      <td>Catat, Ini 6 Tips Menyimpan Beras agar Tidak ...</td>\n",
       "      <td>Sebagai makanan pokok beras harus disimpan den...</td>\n",
       "      <td>catat  6 tips simpan beras kutu</td>\n",
       "      <td>makan pokok beras simpan kualitas turun  sayan...</td>\n",
       "      <td>1</td>\n",
       "    </tr>\n",
       "    <tr>\n",
       "      <th>2</th>\n",
       "      <td>Waspada, Ini 6 Bahaya Asap Rokok bagi Kesehat...</td>\n",
       "      <td>Merokok tidak hanya berbahaya untuk dirimu sen...</td>\n",
       "      <td>waspada  6 bahaya asap rokok sehat anak</td>\n",
       "      <td>rokok bahaya diri orang sekitar  bayi anak  as...</td>\n",
       "      <td>2</td>\n",
       "    </tr>\n",
       "  </tbody>\n",
       "</table>\n",
       "</div>"
      ],
      "text/plain": [
       "                                               title  \\\n",
       "0   Ibu, Perhatikan 5 Hal Ini saat Memilih Car Se...   \n",
       "1   Catat, Ini 6 Tips Menyimpan Beras agar Tidak ...   \n",
       "2   Waspada, Ini 6 Bahaya Asap Rokok bagi Kesehat...   \n",
       "\n",
       "                                             content  \\\n",
       "0  Bagi orang tua yang memiliki kendaraan, memili...   \n",
       "1  Sebagai makanan pokok beras harus disimpan den...   \n",
       "2  Merokok tidak hanya berbahaya untuk dirimu sen...   \n",
       "\n",
       "            title_tokens_stopwords_stemmed  \\\n",
       "0         perhati 5 pilih car seat newborn   \n",
       "1          catat  6 tips simpan beras kutu   \n",
       "2  waspada  6 bahaya asap rokok sehat anak   \n",
       "\n",
       "                    content_tokens_stopwords_stemmed  document_id  \n",
       "0  orang tua milik kendara  memilihcar seat newbo...            0  \n",
       "1  makan pokok beras simpan kualitas turun  sayan...            1  \n",
       "2  rokok bahaya diri orang sekitar  bayi anak  as...            2  "
      ]
     },
     "execution_count": 31,
     "metadata": {},
     "output_type": "execute_result"
    }
   ],
   "source": [
    "df_combined['content_tokens_stopwords_stemmed'] = df_combined['content_tokens_stopwords_stemmed'].apply(lambda tokens: ' '.join(tokens))\n",
    "df_combined['title_tokens_stopwords_stemmed'] = df_combined['title_tokens_stopwords_stemmed'].apply(lambda tokens: ' '.join(tokens))\n",
    "df_combined.head(3)"
   ]
  },
  {
   "cell_type": "code",
   "execution_count": 32,
   "metadata": {},
   "outputs": [
    {
     "data": {
      "text/html": [
       "<style>#sk-container-id-2 {color: black;background-color: white;}#sk-container-id-2 pre{padding: 0;}#sk-container-id-2 div.sk-toggleable {background-color: white;}#sk-container-id-2 label.sk-toggleable__label {cursor: pointer;display: block;width: 100%;margin-bottom: 0;padding: 0.3em;box-sizing: border-box;text-align: center;}#sk-container-id-2 label.sk-toggleable__label-arrow:before {content: \"▸\";float: left;margin-right: 0.25em;color: #696969;}#sk-container-id-2 label.sk-toggleable__label-arrow:hover:before {color: black;}#sk-container-id-2 div.sk-estimator:hover label.sk-toggleable__label-arrow:before {color: black;}#sk-container-id-2 div.sk-toggleable__content {max-height: 0;max-width: 0;overflow: hidden;text-align: left;background-color: #f0f8ff;}#sk-container-id-2 div.sk-toggleable__content pre {margin: 0.2em;color: black;border-radius: 0.25em;background-color: #f0f8ff;}#sk-container-id-2 input.sk-toggleable__control:checked~div.sk-toggleable__content {max-height: 200px;max-width: 100%;overflow: auto;}#sk-container-id-2 input.sk-toggleable__control:checked~label.sk-toggleable__label-arrow:before {content: \"▾\";}#sk-container-id-2 div.sk-estimator input.sk-toggleable__control:checked~label.sk-toggleable__label {background-color: #d4ebff;}#sk-container-id-2 div.sk-label input.sk-toggleable__control:checked~label.sk-toggleable__label {background-color: #d4ebff;}#sk-container-id-2 input.sk-hidden--visually {border: 0;clip: rect(1px 1px 1px 1px);clip: rect(1px, 1px, 1px, 1px);height: 1px;margin: -1px;overflow: hidden;padding: 0;position: absolute;width: 1px;}#sk-container-id-2 div.sk-estimator {font-family: monospace;background-color: #f0f8ff;border: 1px dotted black;border-radius: 0.25em;box-sizing: border-box;margin-bottom: 0.5em;}#sk-container-id-2 div.sk-estimator:hover {background-color: #d4ebff;}#sk-container-id-2 div.sk-parallel-item::after {content: \"\";width: 100%;border-bottom: 1px solid gray;flex-grow: 1;}#sk-container-id-2 div.sk-label:hover label.sk-toggleable__label {background-color: #d4ebff;}#sk-container-id-2 div.sk-serial::before {content: \"\";position: absolute;border-left: 1px solid gray;box-sizing: border-box;top: 0;bottom: 0;left: 50%;z-index: 0;}#sk-container-id-2 div.sk-serial {display: flex;flex-direction: column;align-items: center;background-color: white;padding-right: 0.2em;padding-left: 0.2em;position: relative;}#sk-container-id-2 div.sk-item {position: relative;z-index: 1;}#sk-container-id-2 div.sk-parallel {display: flex;align-items: stretch;justify-content: center;background-color: white;position: relative;}#sk-container-id-2 div.sk-item::before, #sk-container-id-2 div.sk-parallel-item::before {content: \"\";position: absolute;border-left: 1px solid gray;box-sizing: border-box;top: 0;bottom: 0;left: 50%;z-index: -1;}#sk-container-id-2 div.sk-parallel-item {display: flex;flex-direction: column;z-index: 1;position: relative;background-color: white;}#sk-container-id-2 div.sk-parallel-item:first-child::after {align-self: flex-end;width: 50%;}#sk-container-id-2 div.sk-parallel-item:last-child::after {align-self: flex-start;width: 50%;}#sk-container-id-2 div.sk-parallel-item:only-child::after {width: 0;}#sk-container-id-2 div.sk-dashed-wrapped {border: 1px dashed gray;margin: 0 0.4em 0.5em 0.4em;box-sizing: border-box;padding-bottom: 0.4em;background-color: white;}#sk-container-id-2 div.sk-label label {font-family: monospace;font-weight: bold;display: inline-block;line-height: 1.2em;}#sk-container-id-2 div.sk-label-container {text-align: center;}#sk-container-id-2 div.sk-container {/* jupyter's `normalize.less` sets `[hidden] { display: none; }` but bootstrap.min.css set `[hidden] { display: none !important; }` so we also need the `!important` here to be able to override the default hidden behavior on the sphinx rendered scikit-learn.org. See: https://github.com/scikit-learn/scikit-learn/issues/21755 */display: inline-block !important;position: relative;}#sk-container-id-2 div.sk-text-repr-fallback {display: none;}</style><div id=\"sk-container-id-2\" class=\"sk-top-container\"><div class=\"sk-text-repr-fallback\"><pre>NearestNeighbors(metric=&#x27;cosine&#x27;, n_neighbors=9)</pre><b>In a Jupyter environment, please rerun this cell to show the HTML representation or trust the notebook. <br />On GitHub, the HTML representation is unable to render, please try loading this page with nbviewer.org.</b></div><div class=\"sk-container\" hidden><div class=\"sk-item\"><div class=\"sk-estimator sk-toggleable\"><input class=\"sk-toggleable__control sk-hidden--visually\" id=\"sk-estimator-id-2\" type=\"checkbox\" checked><label for=\"sk-estimator-id-2\" class=\"sk-toggleable__label sk-toggleable__label-arrow\">NearestNeighbors</label><div class=\"sk-toggleable__content\"><pre>NearestNeighbors(metric=&#x27;cosine&#x27;, n_neighbors=9)</pre></div></div></div></div></div>"
      ],
      "text/plain": [
       "NearestNeighbors(metric='cosine', n_neighbors=9)"
      ]
     },
     "execution_count": 32,
     "metadata": {},
     "output_type": "execute_result"
    }
   ],
   "source": [
    "# Melakukan word embedding pada content_tokens_stopwords_stemmed (dokumen/konteks) menggunakan TF-IDF\n",
    "X_combined = embedding.fit_transform(df_combined['content_tokens_stopwords_stemmed'])\n",
    "\n",
    "# Melakukan fit/training pada NearestNeighbors\n",
    "retriever.fit(X_combined)"
   ]
  },
  {
   "cell_type": "code",
   "execution_count": 33,
   "metadata": {},
   "outputs": [
    {
     "data": {
      "text/plain": [
       "(24060, 119434)"
      ]
     },
     "execution_count": 33,
     "metadata": {},
     "output_type": "execute_result"
    }
   ],
   "source": [
    "# Melakukan word embedding pada title_tokens_stopwords_stemmed (query) menggunakan TF-IDF\n",
    "X_ev_combined = embedding.transform(df_combined['title_tokens_stopwords_stemmed'])\n",
    "X_ev_combined.shape"
   ]
  },
  {
   "cell_type": "code",
   "execution_count": 34,
   "metadata": {},
   "outputs": [
    {
     "data": {
      "text/plain": [
       "(24060, 9)"
      ]
     },
     "execution_count": 34,
     "metadata": {},
     "output_type": "execute_result"
    }
   ],
   "source": [
    "# Melakukan prediksi dengan menggunakan NearestNeighbors\n",
    "y_pred_combined = retriever.kneighbors(X_ev_combined, return_distance=False)\n",
    "y_pred_combined.shape"
   ]
  },
  {
   "cell_type": "code",
   "execution_count": 35,
   "metadata": {},
   "outputs": [
    {
     "name": "stdout",
     "output_type": "stream",
     "text": [
      "Jumlah Benar\t: 23417 dari 24060\n",
      "Akurasi\t\t: 0.9733\n"
     ]
    }
   ],
   "source": [
    "# Menghitung akurasi\n",
    "acc = top_accuracy(df_combined['document_id'], y_pred_combined)\n",
    "print('Jumlah Benar\\t:', int(acc*len(df_combined['document_id'])), 'dari', len(df_combined['document_id']))\n",
    "print('Akurasi\\t\\t:', f'{acc:.4f}')"
   ]
  },
  {
   "attachments": {},
   "cell_type": "markdown",
   "metadata": {},
   "source": [
    "## Example Use (Implementasi Penggunaan)"
   ]
  },
  {
   "cell_type": "code",
   "execution_count": 36,
   "metadata": {},
   "outputs": [
    {
     "data": {
      "text/plain": [
       "array([[18268, 18577, 22229, 18604, 15609, 15542, 19682, 22094,  4772]],\n",
       "      dtype=int64)"
      ]
     },
     "execution_count": 36,
     "metadata": {},
     "output_type": "execute_result"
    }
   ],
   "source": [
    "# example use get df_combined['content'] based on document_id\n",
    "query = 'keadaan terbaik'\n",
    "\n",
    "# Menghilangkan stopwords dan melakukan stemming pada query \n",
    "query = [stemmer.stem(word) for word in word_tokenize(query) if word not in stop_words]\n",
    "query = ' '.join(query)\n",
    "\n",
    "X_ev = embedding.transform([query])\n",
    "y_pred = retriever.kneighbors(X_ev, return_distance=False)\n",
    "y_pred\n"
   ]
  },
  {
   "cell_type": "code",
   "execution_count": 37,
   "metadata": {},
   "outputs": [],
   "source": [
    "# import pickle\n",
    "\n",
    "# # save embedding and retriever\n",
    "# pickle.dump(embedding, open('embedding.pkl', 'wb'))\n",
    "# pickle.dump(retriever, open('retriever.pkl', 'wb'))"
   ]
  },
  {
   "cell_type": "code",
   "execution_count": 38,
   "metadata": {},
   "outputs": [
    {
     "data": {
      "text/plain": [
       "' Jika industri perfilman punya ajang penghargaan Academy Awards , maka industri pariwisata juga punya ajang bergengsi yang dinamakan World Travel Awards ( WTA ) . Tahun ini , \\xa0 WTA 2017 menobatkan sejumlah negara dan perusahaan yang bergerak di industri wisata sebagai yang terbaik dalam beberapa kategori . Galapagos di Ekuador memenangkan kategori Destinasi Pantai Terbaik , sementara Machu Picchu memenangkan kategori Objek Wisata Terbaik . Bandara Internasional Changi di Singapura memenangkan kategori Bandara Terbaik , yang diikuti dengan Singapore Airlines yang memenangkan kategori Maskapai Terbaik . Galapagos terpilih menjadi pemenang karena dianggap memiliki layanan dan fasilitas penunjang kenyamanan turis yang mumpuni . Ditambah lagi dengan pemandangan alamnya yang indah . Kepulauan ini masuk dalam daftar Situs Warisan Dunia UNESCO , karena memiliki 19 pulau yang menyimpan kekayaan bawah laut . Galapagos juga menjadi sumber inspirasi Charles Darwin yang menulis teori evolusi , saat ia berkunjung ke sana pada tahun 1835 . Untuk menuju ke sana , turis bisa menumpang pesawat dari Amerika Selatan . Musim panas di Galapagos berlangsung dari bulan Desember sampai Juni . Selebihnya , hujan akan turun dengan suhu yang lembab . Butuh merogoh kocek lebih dalam untuk berwisata di sini , karena pulau-pulau yang bisa dikunjungi berada cukup jauh dari keramaian . Sesampainya di sana , turis bisa menyewa sepeda , mobil , atau \\xa0 helikopter untuk berkeliling . Yang paling seru ialah menjelajah perairannya dengan yacht . Ada banyak hal yang bisa dilakukan di Galapagos , mulai dari berenang , memancing , surfing , sampai menyelam . Bisa juga mengamati habitat hewan khas di sana , seperti penyu , penguin , sampai singa . Berikut ini ialah daftar lengkap pemenang WTA 2017 : Maskapai Terbaik : Singapore Airlines Bandara Terbaik : Changi Airport , Singapura Pantai Terbaik : Galapagos , Ekuador Hotel Butik Terbaik : Saxon Hotel , Villas and Spa , Afrika Selatan Resor Kasino Terbaik : Wynn Las Vegas , Nevada Kapal Pesiar Terbaik : Norwegian Cruise Line Hotel Desain Terbaik : Armani Hotel Dubai , Uni Emirat Arab Restoran Fine Dining Terbaik : La Maison 1888 , InterContinental Danang Pulau Terbaik : Madeira'"
      ]
     },
     "execution_count": 38,
     "metadata": {},
     "output_type": "execute_result"
    }
   ],
   "source": [
    "selected = df_combined.iloc[y_pred[0][0]]['content']\n",
    "selected"
   ]
  },
  {
   "cell_type": "code",
   "execution_count": 39,
   "metadata": {},
   "outputs": [
    {
     "name": "stdout",
     "output_type": "stream",
     "text": [
      "Text:  Jika industri perfilman punya ajang penghargaan Academy Awards , maka industri pariwisata juga punya ajang bergengsi yang dinamakan World Travel Awards ( WTA ) . Tahun ini ,   WTA 2017 menobatkan sejumlah negara dan perusahaan yang bergerak di industri wisata sebagai yang terbaik dalam beberapa kategori . Galapagos di Ekuador memenangkan kategori Destinasi Pantai Terbaik , sementara Machu Picchu memenangkan kategori Objek Wisata Terbaik . Bandara Internasional Changi di Singapura memenangkan kategori Bandara Terbaik , yang diikuti dengan Singapore Airlines yang memenangkan kategori Maskapai Terbaik . Galapagos terpilih menjadi pemenang karena dianggap memiliki layanan dan fasilitas penunjang kenyamanan turis yang mumpuni . Ditambah lagi dengan pemandangan alamnya yang indah . Kepulauan ini masuk dalam daftar Situs Warisan Dunia UNESCO , karena memiliki 19 pulau yang menyimpan kekayaan bawah laut . Galapagos juga menjadi sumber inspirasi Charles Darwin yang menulis teori evolusi , saat ia berkunjung ke sana pada tahun 1835 . Untuk menuju ke sana , turis bisa menumpang pesawat dari Amerika Selatan . Musim panas di Galapagos berlangsung dari bulan Desember sampai Juni . Selebihnya , hujan akan turun dengan suhu yang lembab . Butuh merogoh kocek lebih dalam untuk berwisata di sini , karena pulau-pulau yang bisa dikunjungi berada cukup jauh dari keramaian . Sesampainya di sana , turis bisa menyewa sepeda , mobil , atau   helikopter untuk berkeliling . Yang paling seru ialah menjelajah perairannya dengan yacht . Ada banyak hal yang bisa dilakukan di Galapagos , mulai dari berenang , memancing , surfing , sampai menyelam . Bisa juga mengamati habitat hewan khas di sana , seperti penyu , penguin , sampai singa . Berikut ini ialah daftar lengkap pemenang WTA 2017 : Maskapai Terbaik : Singapore Airlines Bandara Terbaik : Changi Airport , Singapura Pantai Terbaik : Galapagos , Ekuador Hotel Butik Terbaik : Saxon Hotel , Villas and Spa , Afrika Selatan Resor Kasino Terbaik : Wynn Las Vegas , Nevada Kapal Pesiar Terbaik : Norwegian Cruise Line Hotel Desain Terbaik : Armani Hotel Dubai , Uni Emirat Arab Restoran Fine Dining Terbaik : La Maison 1888 , InterContinental Danang Pulau Terbaik : Madeira\n",
      "Vect: [array(['yang', 'yacht', 'wynn', 'wta', 'world', 'wisata', 'villas',\n",
      "       'vegas', 'untuk', 'uni', 'unesco', 'turun', 'turis', 'travel',\n",
      "       'teori', 'tahun', 'surfing', 'sumber', 'suhu', 'spa', 'situs',\n",
      "       'sini', 'singapura', 'singapore', 'singa', 'seru', 'seperti',\n",
      "       'sepeda', 'sementara', 'selatan', 'saxon', 'sana', 'sampai',\n",
      "       'saat', 'restoran', 'resor', 'punya', 'pulau', 'picchu', 'pesiar',\n",
      "       'pesawat', 'penyu', 'penguin', 'pariwisata', 'pantai', 'panas',\n",
      "       'paling', 'pada', 'objek', 'norwegian', 'nevada', 'negara',\n",
      "       'musim', 'mumpuni', 'mulai', 'mobil', 'menjadi', 'masuk',\n",
      "       'maskapai', 'maka', 'maison', 'madeira', 'machu', 'line',\n",
      "       'lengkap', 'lembab', 'lebih', 'laut', 'las', 'lagi', 'la', 'kocek',\n",
      "       'khas', 'ke', 'kategori', 'kasino', 'karena', 'kapal', 'juni',\n",
      "       'juga', 'jika', 'jauh', 'internasional', 'intercontinental',\n",
      "       'inspirasi', 'ini', 'industri', 'indah', 'ia', 'hujan', 'hotel',\n",
      "       'hewan', 'helikopter', 'hal', 'habitat', 'galapagos', 'fine',\n",
      "       'fasilitas', 'evolusi', 'emirat', 'ekuador', 'dunia', 'dubai',\n",
      "       'di', 'destinasi', 'desember', 'desain', 'dengan', 'darwin',\n",
      "       'dari', 'danang', 'dan', 'dalam', 'daftar', 'cukup', 'cruise',\n",
      "       'charles', 'changi', 'butuh', 'butik', 'bulan', 'bisa', 'beberapa',\n",
      "       'bawah', 'banyak', 'bandara', 'awards', 'atau', 'armani', 'arab',\n",
      "       'and', 'amerika', 'akan', 'ajang', 'airport', 'airlines', 'afrika',\n",
      "       'ada', 'academy', '2017', '19', '1888', '1835'], dtype='<U72')]\n"
     ]
    }
   ],
   "source": [
    "transform_text(embedding, selected)"
   ]
  },
  {
   "attachments": {},
   "cell_type": "markdown",
   "metadata": {},
   "source": [
    "# doc2query"
   ]
  },
  {
   "cell_type": "code",
   "execution_count": 40,
   "metadata": {},
   "outputs": [],
   "source": [
    "# # akan dilakukan pembuatan query baru untuk mengetahui akurasi dari model yang telah dibuat\n",
    "# # Wikidepia/IndoT5-base-paraphrase\n",
    "\n",
    "# from transformers import AutoTokenizer, AutoModelForSeq2SeqLM\n",
    "# import torch\n",
    "\n",
    "# model_name = 'doc2query/msmarco-indonesian-mt5-base-v1'\n",
    "# tokenizer = AutoTokenizer.from_pretrained(model_name)\n",
    "# model = AutoModelForSeq2SeqLM.from_pretrained(model_name)"
   ]
  },
  {
   "cell_type": "code",
   "execution_count": 41,
   "metadata": {},
   "outputs": [],
   "source": [
    "# def create_queries(para):\n",
    "#     input_ids = tokenizer.encode(para, return_tensors='pt')\n",
    "#     with torch.no_grad():\n",
    "#         # Here we use Beam-search. It generates better quality queries, but with less diversity\n",
    "#         beam_outputs = model.generate(\n",
    "#             input_ids=input_ids, \n",
    "#             max_length=64, \n",
    "#             num_beams=5, \n",
    "#             no_repeat_ngram_size=2, \n",
    "#             num_return_sequences=5, \n",
    "#             early_stopping=True\n",
    "#         )\n",
    "        \n",
    "#     print(\"Paragraph:\")\n",
    "#     print(para)\n",
    "\n",
    "#     print(\"\\nBeam Outputs:\")\n",
    "#     for i in range(len(beam_outputs)):\n",
    "#         query = tokenizer.decode(beam_outputs[i], skip_special_tokens=True)\n",
    "#         print(f'{i + 1}: {query}')\n",
    "\n",
    "    \n",
    "#     return tokenizer.decode(beam_outputs[0], skip_special_tokens=True)\n"
   ]
  },
  {
   "cell_type": "code",
   "execution_count": 42,
   "metadata": {},
   "outputs": [],
   "source": [
    "# text = df['content'][9932]\n",
    "# (create_queries(text))"
   ]
  },
  {
   "cell_type": "code",
   "execution_count": 43,
   "metadata": {},
   "outputs": [],
   "source": [
    "# # create query for all documents and save it to a new column\n",
    "# df['new_query'] = df['content'].apply(create_queries)\n",
    "# df.head()"
   ]
  },
  {
   "attachments": {},
   "cell_type": "markdown",
   "metadata": {},
   "source": [
    "# SBERT try"
   ]
  },
  {
   "cell_type": "code",
   "execution_count": 44,
   "metadata": {},
   "outputs": [],
   "source": [
    "# from sentence_transformers import SentenceTransformer\n",
    "# from sklearn.metrics.pairwise import cosine_similarity\n",
    "\n",
    "# # Load pre-trained SBERT model\n",
    "# model = SentenceTransformer('bert-base-nli-mean-tokens')\n",
    "\n",
    "# # Preprocess documents and queries\n",
    "# documents = df['content_tokens_stopwords_stemmed'].apply(lambda tokens: ' '.join(tokens))\n",
    "# queries = df['title_tokens_stopwords_stemmed'].apply(lambda tokens: ' '.join(tokens))\n",
    "\n",
    "# # \n",
    "# # \n",
    "# # get only first 30 row\n",
    "# documents = documents[:30]\n",
    "# queries = queries[:30]\n",
    "# # \n",
    "# # \n",
    "\n",
    "\n",
    "# # Encode documents and queries\n",
    "# document_embeddings = model.encode(documents)\n",
    "# query_embeddings = model.encode(queries)\n",
    "\n",
    "# # Perform information retrieval\n",
    "# def retrieve_documents(query, k=5):\n",
    "#     query_embedding = model.encode([query])\n",
    "#     similarities = cosine_similarity(query_embedding, document_embeddings)[0]\n",
    "#     indices = similarities.argsort()[-k:][::-1]  # Retrieve top-k similar documents\n",
    "#     retrieved_documents = [documents[i] for i in indices]\n",
    "#     return retrieved_documents\n",
    "\n"
   ]
  },
  {
   "cell_type": "code",
   "execution_count": 45,
   "metadata": {},
   "outputs": [],
   "source": [
    "# # Example usage\n",
    "# query = 'hamil'  # Take the first query\n",
    "# retrieved_documents = retrieve_documents(query)\n",
    "\n",
    "# # Print the retrieved documents\n",
    "# print(\"Query:\", query)\n",
    "# print(\"Retrieved Documents:\")\n",
    "# for doc in retrieved_documents:\n",
    "#     print(doc)"
   ]
  },
  {
   "cell_type": "code",
   "execution_count": null,
   "metadata": {},
   "outputs": [],
   "source": []
  }
 ],
 "metadata": {
  "kernelspec": {
   "display_name": "Python 3",
   "language": "python",
   "name": "python3"
  },
  "language_info": {
   "codemirror_mode": {
    "name": "ipython",
    "version": 3
   },
   "file_extension": ".py",
   "mimetype": "text/x-python",
   "name": "python",
   "nbconvert_exporter": "python",
   "pygments_lexer": "ipython3",
   "version": "3.10.7"
  },
  "orig_nbformat": 4
 },
 "nbformat": 4,
 "nbformat_minor": 2
}
