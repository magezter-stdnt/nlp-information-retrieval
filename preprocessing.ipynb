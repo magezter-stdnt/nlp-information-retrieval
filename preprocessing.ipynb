{
 "cells": [
  {
   "attachments": {},
   "cell_type": "markdown",
   "metadata": {},
   "source": [
    "# Data Preprocessing"
   ]
  },
  {
   "attachments": {},
   "cell_type": "markdown",
   "metadata": {},
   "source": [
    "- akan melakukan preprocessing corpus hasil scraping website halodoc menggunakan stopwords indonesia dan stemming dengan sastrawi\n",
    "- untuk fine-tuning model indoBERT"
   ]
  },
  {
   "attachments": {},
   "cell_type": "markdown",
   "metadata": {},
   "source": [
    "## Import and Initializing"
   ]
  },
  {
   "cell_type": "code",
   "execution_count": 1,
   "metadata": {},
   "outputs": [],
   "source": [
    "# import\n",
    "import pandas as pd\n",
    "import numpy as np\n",
    "import re\n",
    "import nltk\n",
    "from nltk.corpus import stopwords\n",
    "from nltk.tokenize import word_tokenize\n",
    "from nltk.stem import PorterStemmer\n",
    "from Sastrawi.Stemmer.StemmerFactory import StemmerFactory\n",
    "\n",
    "# load stopwords\n",
    "stop_words = set(stopwords.words('indonesian'))\n",
    "\n",
    "# load stemmer\n",
    "factory = StemmerFactory()\n",
    "stemmer = factory.create_stemmer()\n",
    "\n"
   ]
  },
  {
   "cell_type": "code",
   "execution_count": 2,
   "metadata": {},
   "outputs": [
    {
     "name": "stdout",
     "output_type": "stream",
     "text": [
      "(9986, 5)\n"
     ]
    },
    {
     "data": {
      "text/html": [
       "<div>\n",
       "<style scoped>\n",
       "    .dataframe tbody tr th:only-of-type {\n",
       "        vertical-align: middle;\n",
       "    }\n",
       "\n",
       "    .dataframe tbody tr th {\n",
       "        vertical-align: top;\n",
       "    }\n",
       "\n",
       "    .dataframe thead th {\n",
       "        text-align: right;\n",
       "    }\n",
       "</style>\n",
       "<table border=\"1\" class=\"dataframe\">\n",
       "  <thead>\n",
       "    <tr style=\"text-align: right;\">\n",
       "      <th></th>\n",
       "      <th>url</th>\n",
       "      <th>title</th>\n",
       "      <th>title_length</th>\n",
       "      <th>content</th>\n",
       "      <th>content_count</th>\n",
       "    </tr>\n",
       "  </thead>\n",
       "  <tbody>\n",
       "    <tr>\n",
       "      <th>0</th>\n",
       "      <td>https://www.halodoc.com/ketahui-segala-hal-men...</td>\n",
       "      <td>Ketahui Segala Hal Mengenai COVID-19</td>\n",
       "      <td>38</td>\n",
       "      <td>“Infeksi COVID-19 adalah salah satu penyakit y...</td>\n",
       "      <td>6532</td>\n",
       "    </tr>\n",
       "    <tr>\n",
       "      <th>1</th>\n",
       "      <td>https://www.halodoc.com/bagaimana-cara-merawat...</td>\n",
       "      <td>Bagaimana Cara Merawat Karies Gigi?</td>\n",
       "      <td>37</td>\n",
       "      <td>“Ada banyak pilihan perawatan medis dan rumaha...</td>\n",
       "      <td>5993</td>\n",
       "    </tr>\n",
       "    <tr>\n",
       "      <th>2</th>\n",
       "      <td>https://www.halodoc.com/cegah-burnout-ini-tand...</td>\n",
       "      <td>Cegah Burnout, Ini Tanda Pekerja Butuh Piknik...</td>\n",
       "      <td>61</td>\n",
       "      <td>“Burnout merupakan kondisi ketika seseorang m...</td>\n",
       "      <td>4982</td>\n",
       "    </tr>\n",
       "    <tr>\n",
       "      <th>3</th>\n",
       "      <td>https://www.halodoc.com/kenalan-dengan-terapi-...</td>\n",
       "      <td>Kenalan dengan Terapi ABA untuk Anak Autis</td>\n",
       "      <td>44</td>\n",
       "      <td>“Salah satu cara untuk mengurangi gejala auti...</td>\n",
       "      <td>4855</td>\n",
       "    </tr>\n",
       "    <tr>\n",
       "      <th>4</th>\n",
       "      <td>https://www.halodoc.com/10-herbal-untuk-mereda...</td>\n",
       "      <td>10 Herbal untuk Meredakan Sakit Perut Bagian ...</td>\n",
       "      <td>52</td>\n",
       "      <td>“Ada banyak herbal yang dapat membantu mereda...</td>\n",
       "      <td>3638</td>\n",
       "    </tr>\n",
       "  </tbody>\n",
       "</table>\n",
       "</div>"
      ],
      "text/plain": [
       "                                                 url  \\\n",
       "0  https://www.halodoc.com/ketahui-segala-hal-men...   \n",
       "1  https://www.halodoc.com/bagaimana-cara-merawat...   \n",
       "2  https://www.halodoc.com/cegah-burnout-ini-tand...   \n",
       "3  https://www.halodoc.com/kenalan-dengan-terapi-...   \n",
       "4  https://www.halodoc.com/10-herbal-untuk-mereda...   \n",
       "\n",
       "                                               title  title_length  \\\n",
       "0              Ketahui Segala Hal Mengenai COVID-19             38   \n",
       "1               Bagaimana Cara Merawat Karies Gigi?             37   \n",
       "2   Cegah Burnout, Ini Tanda Pekerja Butuh Piknik...            61   \n",
       "3        Kenalan dengan Terapi ABA untuk Anak Autis             44   \n",
       "4   10 Herbal untuk Meredakan Sakit Perut Bagian ...            52   \n",
       "\n",
       "                                             content  content_count  \n",
       "0  “Infeksi COVID-19 adalah salah satu penyakit y...           6532  \n",
       "1  “Ada banyak pilihan perawatan medis dan rumaha...           5993  \n",
       "2   “Burnout merupakan kondisi ketika seseorang m...           4982  \n",
       "3   “Salah satu cara untuk mengurangi gejala auti...           4855  \n",
       "4   “Ada banyak herbal yang dapat membantu mereda...           3638  "
      ]
     },
     "execution_count": 2,
     "metadata": {},
     "output_type": "execute_result"
    }
   ],
   "source": [
    "# load dataset\n",
    "df = pd.read_csv('scraping/halodoc1-1000.csv')\n",
    "print(df.shape)\n",
    "\n",
    "# check dataset\n",
    "df.head()"
   ]
  },
  {
   "cell_type": "code",
   "execution_count": 3,
   "metadata": {},
   "outputs": [
    {
     "data": {
      "text/plain": [
       "url              0\n",
       "title            0\n",
       "title_length     0\n",
       "content          0\n",
       "content_count    0\n",
       "dtype: int64"
      ]
     },
     "execution_count": 3,
     "metadata": {},
     "output_type": "execute_result"
    }
   ],
   "source": [
    "# check null values\n",
    "df.isnull().sum()"
   ]
  },
  {
   "attachments": {},
   "cell_type": "markdown",
   "metadata": {},
   "source": [
    "## Data Preprocessing"
   ]
  },
  {
   "cell_type": "code",
   "execution_count": 4,
   "metadata": {},
   "outputs": [
    {
     "name": "stdout",
     "output_type": "stream",
     "text": [
      "5\n",
      "Ukuran dataset sebelum preprocessing: (9986, 5)\n",
      "Ukuran dataset setelah preprocessing: (9981, 5)\n"
     ]
    }
   ],
   "source": [
    "# check duplicates\n",
    "print(df.duplicated().sum())\n",
    "print(f\"Ukuran dataset sebelum preprocessing: {df.shape}\")\n",
    "\n",
    "# drop duplicates\n",
    "df.drop_duplicates(inplace=True)\n",
    "print(f\"Ukuran dataset setelah preprocessing: {df.shape}\")"
   ]
  },
  {
   "attachments": {},
   "cell_type": "markdown",
   "metadata": {},
   "source": [
    "### Stopwords Removal, Stemming, etc."
   ]
  },
  {
   "cell_type": "code",
   "execution_count": 6,
   "metadata": {},
   "outputs": [
    {
     "data": {
      "text/html": [
       "<div>\n",
       "<style scoped>\n",
       "    .dataframe tbody tr th:only-of-type {\n",
       "        vertical-align: middle;\n",
       "    }\n",
       "\n",
       "    .dataframe tbody tr th {\n",
       "        vertical-align: top;\n",
       "    }\n",
       "\n",
       "    .dataframe thead th {\n",
       "        text-align: right;\n",
       "    }\n",
       "</style>\n",
       "<table border=\"1\" class=\"dataframe\">\n",
       "  <thead>\n",
       "    <tr style=\"text-align: right;\">\n",
       "      <th></th>\n",
       "      <th>url</th>\n",
       "      <th>title</th>\n",
       "      <th>title_length</th>\n",
       "      <th>content</th>\n",
       "      <th>content_count</th>\n",
       "    </tr>\n",
       "  </thead>\n",
       "  <tbody>\n",
       "    <tr>\n",
       "      <th>0</th>\n",
       "      <td>https://www.halodoc.com/ketahui-segala-hal-men...</td>\n",
       "      <td>tahu covid</td>\n",
       "      <td>38</td>\n",
       "      <td>“Infeksi COVID-19 adalah salah satu penyakit y...</td>\n",
       "      <td>6532</td>\n",
       "    </tr>\n",
       "    <tr>\n",
       "      <th>1</th>\n",
       "      <td>https://www.halodoc.com/bagaimana-cara-merawat...</td>\n",
       "      <td>rawat karies gigi</td>\n",
       "      <td>37</td>\n",
       "      <td>“Ada banyak pilihan perawatan medis dan rumaha...</td>\n",
       "      <td>5993</td>\n",
       "    </tr>\n",
       "    <tr>\n",
       "      <th>2</th>\n",
       "      <td>https://www.halodoc.com/cegah-burnout-ini-tand...</td>\n",
       "      <td>cegah burnout tanda kerja butuh piknik istirahat</td>\n",
       "      <td>61</td>\n",
       "      <td>“Burnout merupakan kondisi ketika seseorang m...</td>\n",
       "      <td>4982</td>\n",
       "    </tr>\n",
       "    <tr>\n",
       "      <th>3</th>\n",
       "      <td>https://www.halodoc.com/kenalan-dengan-terapi-...</td>\n",
       "      <td>kenal terapi aba anak autis</td>\n",
       "      <td>44</td>\n",
       "      <td>“Salah satu cara untuk mengurangi gejala auti...</td>\n",
       "      <td>4855</td>\n",
       "    </tr>\n",
       "    <tr>\n",
       "      <th>4</th>\n",
       "      <td>https://www.halodoc.com/10-herbal-untuk-mereda...</td>\n",
       "      <td>herbal reda sakit perut</td>\n",
       "      <td>52</td>\n",
       "      <td>“Ada banyak herbal yang dapat membantu mereda...</td>\n",
       "      <td>3638</td>\n",
       "    </tr>\n",
       "  </tbody>\n",
       "</table>\n",
       "</div>"
      ],
      "text/plain": [
       "                                                 url  \\\n",
       "0  https://www.halodoc.com/ketahui-segala-hal-men...   \n",
       "1  https://www.halodoc.com/bagaimana-cara-merawat...   \n",
       "2  https://www.halodoc.com/cegah-burnout-ini-tand...   \n",
       "3  https://www.halodoc.com/kenalan-dengan-terapi-...   \n",
       "4  https://www.halodoc.com/10-herbal-untuk-mereda...   \n",
       "\n",
       "                                              title  title_length  \\\n",
       "0                                        tahu covid            38   \n",
       "1                                 rawat karies gigi            37   \n",
       "2  cegah burnout tanda kerja butuh piknik istirahat            61   \n",
       "3                       kenal terapi aba anak autis            44   \n",
       "4                           herbal reda sakit perut            52   \n",
       "\n",
       "                                             content  content_count  \n",
       "0  “Infeksi COVID-19 adalah salah satu penyakit y...           6532  \n",
       "1  “Ada banyak pilihan perawatan medis dan rumaha...           5993  \n",
       "2   “Burnout merupakan kondisi ketika seseorang m...           4982  \n",
       "3   “Salah satu cara untuk mengurangi gejala auti...           4855  \n",
       "4   “Ada banyak herbal yang dapat membantu mereda...           3638  "
      ]
     },
     "execution_count": 6,
     "metadata": {},
     "output_type": "execute_result"
    }
   ],
   "source": [
    "# stopword removal\n",
    "def remove_stopwords(text):\n",
    "    text = [word.lower() for word in text.split() if word.lower() not in stop_words]\n",
    "    return \" \".join(text)\n",
    "\n",
    "df['title'] = df['title'].apply(remove_stopwords)\n",
    "\n",
    "# stemming\n",
    "def stemming(text):\n",
    "    text = [stemmer.stem(word) for word in text.split()]\n",
    "    return \" \".join(text)\n",
    "\n",
    "df['title'] = df['title'].apply(stemming)\n",
    "\n",
    "# remove punctuation\n",
    "def remove_punctuation(text):\n",
    "    text = re.sub(r'[^\\w\\s]', '', text)\n",
    "    return text\n",
    "\n",
    "df['title'] = df['title'].apply(remove_punctuation)\n",
    "\n",
    "# remove numbers\n",
    "def remove_numbers(text):\n",
    "    text = re.sub(r'\\d+', '', text)\n",
    "    return text\n",
    "\n",
    "df['title'] = df['title'].apply(remove_numbers)\n",
    "\n",
    "\n",
    "df.head()"
   ]
  },
  {
   "cell_type": "code",
   "execution_count": 11,
   "metadata": {},
   "outputs": [
    {
     "data": {
      "text/html": [
       "<div>\n",
       "<style scoped>\n",
       "    .dataframe tbody tr th:only-of-type {\n",
       "        vertical-align: middle;\n",
       "    }\n",
       "\n",
       "    .dataframe tbody tr th {\n",
       "        vertical-align: top;\n",
       "    }\n",
       "\n",
       "    .dataframe thead th {\n",
       "        text-align: right;\n",
       "    }\n",
       "</style>\n",
       "<table border=\"1\" class=\"dataframe\">\n",
       "  <thead>\n",
       "    <tr style=\"text-align: right;\">\n",
       "      <th></th>\n",
       "      <th>url</th>\n",
       "      <th>title</th>\n",
       "      <th>title_length</th>\n",
       "      <th>content</th>\n",
       "      <th>content_count</th>\n",
       "    </tr>\n",
       "  </thead>\n",
       "  <tbody>\n",
       "    <tr>\n",
       "      <th>0</th>\n",
       "      <td>https://www.halodoc.com/ketahui-segala-hal-men...</td>\n",
       "      <td>tahu covid</td>\n",
       "      <td>10</td>\n",
       "      <td>“Infeksi COVID-19 adalah salah satu penyakit y...</td>\n",
       "      <td>6532</td>\n",
       "    </tr>\n",
       "    <tr>\n",
       "      <th>1</th>\n",
       "      <td>https://www.halodoc.com/bagaimana-cara-merawat...</td>\n",
       "      <td>rawat karies gigi</td>\n",
       "      <td>17</td>\n",
       "      <td>“Ada banyak pilihan perawatan medis dan rumaha...</td>\n",
       "      <td>5993</td>\n",
       "    </tr>\n",
       "    <tr>\n",
       "      <th>2</th>\n",
       "      <td>https://www.halodoc.com/cegah-burnout-ini-tand...</td>\n",
       "      <td>cegah burnout tanda kerja butuh piknik istirahat</td>\n",
       "      <td>48</td>\n",
       "      <td>“Burnout merupakan kondisi ketika seseorang m...</td>\n",
       "      <td>4982</td>\n",
       "    </tr>\n",
       "    <tr>\n",
       "      <th>3</th>\n",
       "      <td>https://www.halodoc.com/kenalan-dengan-terapi-...</td>\n",
       "      <td>kenal terapi aba anak autis</td>\n",
       "      <td>27</td>\n",
       "      <td>“Salah satu cara untuk mengurangi gejala auti...</td>\n",
       "      <td>4855</td>\n",
       "    </tr>\n",
       "    <tr>\n",
       "      <th>4</th>\n",
       "      <td>https://www.halodoc.com/10-herbal-untuk-mereda...</td>\n",
       "      <td>herbal reda sakit perut</td>\n",
       "      <td>24</td>\n",
       "      <td>“Ada banyak herbal yang dapat membantu mereda...</td>\n",
       "      <td>3638</td>\n",
       "    </tr>\n",
       "  </tbody>\n",
       "</table>\n",
       "</div>"
      ],
      "text/plain": [
       "                                                 url  \\\n",
       "0  https://www.halodoc.com/ketahui-segala-hal-men...   \n",
       "1  https://www.halodoc.com/bagaimana-cara-merawat...   \n",
       "2  https://www.halodoc.com/cegah-burnout-ini-tand...   \n",
       "3  https://www.halodoc.com/kenalan-dengan-terapi-...   \n",
       "4  https://www.halodoc.com/10-herbal-untuk-mereda...   \n",
       "\n",
       "                                              title  title_length  \\\n",
       "0                                        tahu covid            10   \n",
       "1                                 rawat karies gigi            17   \n",
       "2  cegah burnout tanda kerja butuh piknik istirahat            48   \n",
       "3                       kenal terapi aba anak autis            27   \n",
       "4                           herbal reda sakit perut            24   \n",
       "\n",
       "                                             content  content_count  \n",
       "0  “Infeksi COVID-19 adalah salah satu penyakit y...           6532  \n",
       "1  “Ada banyak pilihan perawatan medis dan rumaha...           5993  \n",
       "2   “Burnout merupakan kondisi ketika seseorang m...           4982  \n",
       "3   “Salah satu cara untuk mengurangi gejala auti...           4855  \n",
       "4   “Ada banyak herbal yang dapat membantu mereda...           3638  "
      ]
     },
     "execution_count": 11,
     "metadata": {},
     "output_type": "execute_result"
    }
   ],
   "source": [
    "# reassign 'title_length' and 'content_length' in df dengan panjang dari 'title' dan 'content' yang baru (character count)\n",
    "df['title_length'] = df['title'].apply(lambda x: len(x))\n",
    "df['content_count'] = df['content'].apply(lambda x: len(x))\n",
    "\n",
    "df.head()"
   ]
  },
  {
   "cell_type": "code",
   "execution_count": 12,
   "metadata": {},
   "outputs": [],
   "source": [
    "# save to csv\n",
    "df.to_csv('halodoc1-1000_preprocessed.csv', index=False)"
   ]
  }
 ],
 "metadata": {
  "kernelspec": {
   "display_name": "Python 3",
   "language": "python",
   "name": "python3"
  },
  "language_info": {
   "codemirror_mode": {
    "name": "ipython",
    "version": 3
   },
   "file_extension": ".py",
   "mimetype": "text/x-python",
   "name": "python",
   "nbconvert_exporter": "python",
   "pygments_lexer": "ipython3",
   "version": "3.10.7"
  },
  "orig_nbformat": 4
 },
 "nbformat": 4,
 "nbformat_minor": 2
}
