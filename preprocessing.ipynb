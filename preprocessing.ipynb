{
 "cells": [
  {
   "attachments": {},
   "cell_type": "markdown",
   "metadata": {},
   "source": [
    "# Data Preprocessing"
   ]
  },
  {
   "attachments": {},
   "cell_type": "markdown",
   "metadata": {},
   "source": [
    "- akan melakukan preprocessing corpus hasil scraping website halodoc menggunakan stopwords indonesia dan stemming dengan sastrawi\n",
    "- untuk fine-tuning model indoBERT"
   ]
  },
  {
   "attachments": {},
   "cell_type": "markdown",
   "metadata": {},
   "source": [
    "## Import and Initializing"
   ]
  },
  {
   "cell_type": "code",
   "execution_count": 20,
   "metadata": {},
   "outputs": [],
   "source": [
    "# import\n",
    "import pandas as pd\n",
    "import numpy as np\n",
    "import re\n",
    "import nltk\n",
    "from nltk.corpus import stopwords\n",
    "from nltk.tokenize import word_tokenize\n",
    "from nltk.stem import PorterStemmer\n",
    "from Sastrawi.Stemmer.StemmerFactory import StemmerFactory\n",
    "\n",
    "# load stopwords\n",
    "stop_words = set(stopwords.words('indonesian'))\n",
    "\n",
    "# load stemmer\n",
    "factory = StemmerFactory()\n",
    "stemmer = factory.create_stemmer()\n",
    "\n"
   ]
  },
  {
   "cell_type": "code",
   "execution_count": 21,
   "metadata": {},
   "outputs": [
    {
     "name": "stdout",
     "output_type": "stream",
     "text": [
      "(9986, 5)\n"
     ]
    },
    {
     "data": {
      "text/html": [
       "<div>\n",
       "<style scoped>\n",
       "    .dataframe tbody tr th:only-of-type {\n",
       "        vertical-align: middle;\n",
       "    }\n",
       "\n",
       "    .dataframe tbody tr th {\n",
       "        vertical-align: top;\n",
       "    }\n",
       "\n",
       "    .dataframe thead th {\n",
       "        text-align: right;\n",
       "    }\n",
       "</style>\n",
       "<table border=\"1\" class=\"dataframe\">\n",
       "  <thead>\n",
       "    <tr style=\"text-align: right;\">\n",
       "      <th></th>\n",
       "      <th>url</th>\n",
       "      <th>title</th>\n",
       "      <th>title_length</th>\n",
       "      <th>content</th>\n",
       "      <th>content_count</th>\n",
       "    </tr>\n",
       "  </thead>\n",
       "  <tbody>\n",
       "    <tr>\n",
       "      <th>0</th>\n",
       "      <td>https://www.halodoc.com/ketahui-segala-hal-men...</td>\n",
       "      <td>Ketahui Segala Hal Mengenai COVID-19</td>\n",
       "      <td>38</td>\n",
       "      <td>“Infeksi COVID-19 adalah salah satu penyakit y...</td>\n",
       "      <td>6532</td>\n",
       "    </tr>\n",
       "    <tr>\n",
       "      <th>1</th>\n",
       "      <td>https://www.halodoc.com/bagaimana-cara-merawat...</td>\n",
       "      <td>Bagaimana Cara Merawat Karies Gigi?</td>\n",
       "      <td>37</td>\n",
       "      <td>“Ada banyak pilihan perawatan medis dan rumaha...</td>\n",
       "      <td>5993</td>\n",
       "    </tr>\n",
       "    <tr>\n",
       "      <th>2</th>\n",
       "      <td>https://www.halodoc.com/cegah-burnout-ini-tand...</td>\n",
       "      <td>Cegah Burnout, Ini Tanda Pekerja Butuh Piknik...</td>\n",
       "      <td>61</td>\n",
       "      <td>“Burnout merupakan kondisi ketika seseorang m...</td>\n",
       "      <td>4982</td>\n",
       "    </tr>\n",
       "    <tr>\n",
       "      <th>3</th>\n",
       "      <td>https://www.halodoc.com/kenalan-dengan-terapi-...</td>\n",
       "      <td>Kenalan dengan Terapi ABA untuk Anak Autis</td>\n",
       "      <td>44</td>\n",
       "      <td>“Salah satu cara untuk mengurangi gejala auti...</td>\n",
       "      <td>4855</td>\n",
       "    </tr>\n",
       "    <tr>\n",
       "      <th>4</th>\n",
       "      <td>https://www.halodoc.com/10-herbal-untuk-mereda...</td>\n",
       "      <td>10 Herbal untuk Meredakan Sakit Perut Bagian ...</td>\n",
       "      <td>52</td>\n",
       "      <td>“Ada banyak herbal yang dapat membantu mereda...</td>\n",
       "      <td>3638</td>\n",
       "    </tr>\n",
       "  </tbody>\n",
       "</table>\n",
       "</div>"
      ],
      "text/plain": [
       "                                                 url  \\\n",
       "0  https://www.halodoc.com/ketahui-segala-hal-men...   \n",
       "1  https://www.halodoc.com/bagaimana-cara-merawat...   \n",
       "2  https://www.halodoc.com/cegah-burnout-ini-tand...   \n",
       "3  https://www.halodoc.com/kenalan-dengan-terapi-...   \n",
       "4  https://www.halodoc.com/10-herbal-untuk-mereda...   \n",
       "\n",
       "                                               title  title_length  \\\n",
       "0              Ketahui Segala Hal Mengenai COVID-19             38   \n",
       "1               Bagaimana Cara Merawat Karies Gigi?             37   \n",
       "2   Cegah Burnout, Ini Tanda Pekerja Butuh Piknik...            61   \n",
       "3        Kenalan dengan Terapi ABA untuk Anak Autis             44   \n",
       "4   10 Herbal untuk Meredakan Sakit Perut Bagian ...            52   \n",
       "\n",
       "                                             content  content_count  \n",
       "0  “Infeksi COVID-19 adalah salah satu penyakit y...           6532  \n",
       "1  “Ada banyak pilihan perawatan medis dan rumaha...           5993  \n",
       "2   “Burnout merupakan kondisi ketika seseorang m...           4982  \n",
       "3   “Salah satu cara untuk mengurangi gejala auti...           4855  \n",
       "4   “Ada banyak herbal yang dapat membantu mereda...           3638  "
      ]
     },
     "execution_count": 21,
     "metadata": {},
     "output_type": "execute_result"
    }
   ],
   "source": [
    "# load dataset\n",
    "df = pd.read_csv('scraping/halodoc1-1000.csv')\n",
    "print(df.shape)\n",
    "\n",
    "# check dataset\n",
    "df.head()"
   ]
  },
  {
   "cell_type": "code",
   "execution_count": 22,
   "metadata": {},
   "outputs": [
    {
     "data": {
      "text/plain": [
       "url              0\n",
       "title            0\n",
       "title_length     0\n",
       "content          0\n",
       "content_count    0\n",
       "dtype: int64"
      ]
     },
     "execution_count": 22,
     "metadata": {},
     "output_type": "execute_result"
    }
   ],
   "source": [
    "# check null values\n",
    "df.isnull().sum()"
   ]
  },
  {
   "cell_type": "code",
   "execution_count": null,
   "metadata": {},
   "outputs": [],
   "source": [
    "# reassign 'title_length' and 'content_length' in df dengan panjang dari 'title' dan 'content' yang baru (word count)\n",
    "df['title_length'] = df['title'].apply(lambda x: len(x.split()))\n",
    "df['content_count'] = df['content'].apply(lambda x: len(x.split()))\n",
    "\n",
    "df.head()"
   ]
  },
  {
   "attachments": {},
   "cell_type": "markdown",
   "metadata": {},
   "source": [
    "## Data Preprocessing"
   ]
  },
  {
   "cell_type": "code",
   "execution_count": 23,
   "metadata": {},
   "outputs": [
    {
     "name": "stdout",
     "output_type": "stream",
     "text": [
      "5\n",
      "Ukuran dataset sebelum preprocessing: (9986, 5)\n",
      "Ukuran dataset setelah preprocessing: (9981, 5)\n"
     ]
    }
   ],
   "source": [
    "# check duplicates\n",
    "print(df.duplicated().sum())\n",
    "print(f\"Ukuran dataset sebelum preprocessing: {df.shape}\")\n",
    "\n",
    "# drop duplicates\n",
    "df.drop_duplicates(inplace=True)\n",
    "print(f\"Ukuran dataset setelah preprocessing: {df.shape}\")"
   ]
  },
  {
   "attachments": {},
   "cell_type": "markdown",
   "metadata": {},
   "source": [
    "### Remove unnecessary string in 'content'"
   ]
  },
  {
   "cell_type": "code",
   "execution_count": 24,
   "metadata": {},
   "outputs": [],
   "source": [
    "# tbd\n",
    "# tbd\n",
    "# tbd\n",
    "# tbd\n",
    "# tbd\n",
    "# tbd\n",
    "# tbd\n",
    "# tbd\n",
    "# tbd\n",
    "# tbd\n",
    "# tbd\n",
    "# tbd\n",
    "# tbd\n",
    "# tbd"
   ]
  },
  {
   "attachments": {},
   "cell_type": "markdown",
   "metadata": {},
   "source": [
    "### Stopwords Removal, Stemming, etc. (probably wont be used)"
   ]
  },
  {
   "cell_type": "code",
   "execution_count": 25,
   "metadata": {},
   "outputs": [],
   "source": [
    "# # remove numbers that are not attached to words\n",
    "# def remove_numbers(text):\n",
    "#     text = re.sub(r'(?<!\\S)\\d+(?!\\S)', '', text)\n",
    "#     return text\n",
    "\n",
    "# df['title'] = df['title'].apply(remove_numbers)\n",
    "# df['content'] = df['content'].apply(remove_numbers)\n",
    "# print('hapus angka beridiri sendiri selesai')\n",
    "\n",
    "# df.head()"
   ]
  },
  {
   "cell_type": "code",
   "execution_count": 26,
   "metadata": {},
   "outputs": [],
   "source": [
    "# # remove punctuation\n",
    "# def remove_punctuation(text):\n",
    "#     text = re.sub(r'[^\\w\\s]', '', text)\n",
    "#     return text\n",
    "\n",
    "# df['title'] = df['title'].apply(remove_punctuation)\n",
    "# df['content'] = df['content'].apply(remove_punctuation)\n",
    "# print('hapus tanda baca selesai')\n",
    "\n",
    "# df.head()\n",
    "\n",
    "# # remove numbers\n",
    "# def remove_numbers(text):\n",
    "#     text = re.sub(r'\\d+', '', text)\n",
    "#     return text\n",
    "\n",
    "# df['title'] = df['title'].apply(remove_numbers)\n",
    "# df['content'] = df['content'].apply(remove_numbers)\n",
    "# print('hapus angka selesai')\n",
    "\n",
    "# df.head()\n",
    "\n",
    "# # stopword removal + lowercasing\n",
    "# def remove_stopwords(text):\n",
    "#     text = [word.lower() for word in text.split() if word.lower() not in stop_words]\n",
    "#     return \" \".join(text)\n",
    "\n",
    "# df['title'] = df['title'].apply(remove_stopwords)\n",
    "# df['content'] = df['content'].apply(remove_stopwords)\n",
    "# print('stopword removal dan lowercase selesai')\n",
    "\n",
    "# df.head()\n",
    "\n",
    "# # stemming\n",
    "# def stemming(text):\n",
    "#     text = [stemmer.stem(word) for word in text.split()]\n",
    "#     return \" \".join(text)\n",
    "\n",
    "# df['title'] = df['title'].apply(stemming)\n",
    "# df['content'] = df['content'].apply(stemming)\n",
    "# print('stemming selesai')\n",
    "\n",
    "# df.head()"
   ]
  },
  {
   "cell_type": "code",
   "execution_count": 28,
   "metadata": {},
   "outputs": [],
   "source": [
    "# # summarization 'content' with indoBERT (not yet)\n",
    "# # summarization 'content' with BERT\n",
    "\n",
    "# # import library\n",
    "# import torch\n",
    "# from transformers import BertTokenizer, BertModel, BertForMaskedLM\n",
    "# from transformers import pipeline\n",
    "\n",
    "# # load model\n",
    "# tokenizer = BertTokenizer.from_pretrained('indobenchmark/indobert-base-p1')\n",
    "# model = BertModel.from_pretrained('indobenchmark/indobert-base-p1')\n",
    "\n",
    "# # summarize 'content'\n",
    "# summarizer = pipeline(\"summarization\", model=model, tokenizer=tokenizer)\n",
    "# df['summary'] = df['content'].apply(lambda x: summarizer(x, max_length=100, min_length=30, do_sample=False)[0]['summary_text'])\n",
    "\n",
    "# df.head()\n"
   ]
  },
  {
   "cell_type": "code",
   "execution_count": 29,
   "metadata": {},
   "outputs": [],
   "source": [
    "# save to csv\n",
    "df.to_csv('halodoc1-1000_preprocessed.csv', index=False)"
   ]
  },
  {
   "attachments": {},
   "cell_type": "markdown",
   "metadata": {},
   "source": [
    "## Tokenization"
   ]
  },
  {
   "cell_type": "code",
   "execution_count": 30,
   "metadata": {},
   "outputs": [
    {
     "data": {
      "text/plain": [
       "([' Ketahui Segala Hal Mengenai COVID-19 ',\n",
       "  ' Bagaimana Cara Merawat Karies Gigi? ',\n",
       "  ' Cegah Burnout, Ini Tanda Pekerja Butuh Piknik dan Istirahat ',\n",
       "  ' Kenalan dengan Terapi ABA untuk Anak Autis ',\n",
       "  ' 10 Herbal untuk Meredakan Sakit Perut Bagian Bawah '],\n",
       " ['“Infeksi COVID-19 adalah salah satu penyakit yang perlu diwaspadai. Gejalanya bisa ringan seperti flu biasa, hingga berat dan sebabkan kematian.”Halodoc, Jakarta - COVID-19 adalah infeksi yang disebabkan oleh virus corona atau SARS-CoV-2. Penyakit ini sempat menyebabkan jutaan jiwa dari seluruh dunia menjadi korban.Infeksi COVID-19 memiliki gejala umum berupa gangguan sistem pernapasan ringan hingga berat. Pada orang dengan komorbid atau yang mengidap penyakit kronis sebelumnya, gejala bisa jadi lebih parah dan bahkan menyebabkan kematian.Hal-Hal Seputar COVID-19Untuk lebih memahami seputar infeksi COVID-19, ada beberapa hal yang perlu kamu ketahui. Berikut pembahasannya:COVID-19 Sama dengan Virus SARS?COVID-19 adalah penyakit yang disebabkan oleh Severe acute respiratory syndrome coronavirus 2 (SARS-CoV-2), yang termasuk ke dalam keluarga virus corona.\\xa0Sementara itu, virus SARS merupakan coronavirus yang diidentifikasi pada tahun 2003 dan termasuk dalam keluarga besar virus corona. Namun, virus SARS berbeda dengan SARS-CoV-2.\\xa0Lebih lanjut mengenai perbedaan COVID-19 dan SARS bisa kamu simak di sini → Ini Perbedaan COVID-19 dan SARS yang Perlu DiketahuiApa Saja Gejala COVID-19?Gejala ringan pada pengidap COVID-19 adalah menyerupai gejala flu, yaitu:\\xa0DemamBatuk kering\\xa0Mudah lelah\\xa0Sakit tenggorokan\\xa0Sakit kepalaPilek\\xa0Jika seseorang mengalami gejala ringan, dengan sistem kekebalan tubuh yang baik, kondisi tersebut dapat membaik dengan sendirinya seiring dengan berjalannya waktu dalam 7-10 hari.Gejala sedang pada pengidap COVID-19 adalah batuk dan demam dalam intensitas yang lebih parah. Gejala juga berlangsung lebih lama, yaitu 7-14 hari. Bukan itu saja, beberapa gejala lainnya ditandai dengan:Napas sesak dan beratMual dan muntahDiareMulut keringSakit kepalaNyeri pada tubuhPenurunan nafsu makanPenurunan indra penciumanPada beberapa kasus, COVID-19 juga dapat menyebabkan gejala berupa lesi di kaki. Simak pembahasannya di sini → Lesi di Jari Kaki Jadi Gejala Baru COVID-19Sementara itu, dalam kasus yang berat atau parah, gejala COVID-19 biasanya adalah menyerupai infeksi paru-paru atau pneumonia. Kondisi tersebut ditandai dengan sesak napas parah, bahkan saat sedang beristirahat.\\xa0Selain sesak napas parah, berikut ini beberapa gejala lainnya:Demam tinggi lebih dari 7 hariKebiruan pada bibir, kulit, dan wajahNyeri dadaKulit terlihat pucatKeluar keringat dinginLinglungPeningkatan detak jantungSakit kepala beratGejala dalam intensitas yang parah lebih umum terjadi pada pengidap berusia lanjut, atau seseorang yang sudah memiliki riwayat penyakit tertentu. Beberapa penyakit tersebut, yaitu:Penyakit paru-paru kronis, seperti asma dan PPOK.Gangguan jantung, seperti penyakit jantung koroner dan gagal jantung.Sistem kekebalan tubuh yang lemah akibat HIV/AIDS, kanker, diabetes, atau prosedur kemoterapiObesitas.Kerusakan organ ginjal atau hati.Berapa Lama Waktu Inkubasi COVID-19 dalam Tubuh Manusia?Masa inkubasi COVID-19 diperkirakan antara 2–11 hari, dan perkiraan ini dapat berubah sewaktu-waktu sesuai kondisi tubuh masing-masing pengidap. Berdasarkan data dari penyakit akibat coronavirus sebelumnya seperti MERS dan SARS, masa inkubasi COVID-19 juga bisa mencapai 14 hari.Bisakah COVID-19 Menular dari Hewan ke Manusia?Sampai saat ini, belum ada bukti ilmiah yang menyebutkan bahwa COVID-19 bisa ditularkan dari hewan ke manusia, pun sebaliknya. Untuk mengantisipasi berbagai macam penyakit yang dapat ditularkan oleh hewan, kamu harus melakukan pencegahan dengan selalu menjaga kebersihan tangan dan tubuh setelah bermain dengan hewan.\\xa0Menurut Organisasi Kesehatan Dunia (WHO), hingga kini belum ada bukti yang menunjukkan hewan peliharaan dapat menyebarkan virus corona ke hewan lain, atau ke manusia.Namun, infeksi COVID-19 tetap bisa terjadi pada hewan, dan kamu tetap perlu waspada. Simak selengkapnya di sini → Awas, Hewan Peliharaan Juga Rentan Terkena Virus CoronaBagaimana Mengurangi Risiko Infeksi COVID-19?Vaksin adalah salah satu upaya pencegahan COVID-19 yang penting. Namun, pemberian vaksin virus corona tidak akan cukup jika tidak dibarengi dengan beberapa langkah pencegahan berikut ini:Sering mencuci tangan dengan sabun dan air mengalir selama 20 detik hingga bersih.Hindari menyentuh hidung, mulut, dan wajah saat tangan dalam keadaan kotor atau belum dicuci.Tidak kontak langsung atau berdekatan dengan orang yang sakit.Tidak menyentuh hewan atau unggas liar.\\xa0Membersihkan dan mensterilkan permukaan benda yang sering digunakan.\\xa0Tutup hidung dan mulut ketika bersin atau batuk dengan tisu. Kemudian, buanglah tisu dan cuci tangan hingga bersih.\\xa0Jangan keluar rumah dalam keadaan sakit.Kamu juga perlu menjaga daya tahan tubuh untuk mencegah infeksi virus corona. Simak penjelasannya di sini → Cegah Virus Corona dengan Jaga Daya Tahan TubuhInformasi Terbaru COVID-19Pada Jumat (5 Mei 2023), Organisasi Kesehatan Dunia (WHO) resmi mencabut status darurat COVID-19 secara global. Menurut berbagai portal berita nasional, pemerintah juga akan segera mengakhiri status darurat COVID-19 di Indonesia.Langkah ini diambil lantaran infeksi COVID-19 tidak lagi menjadi kondisi yang darurat. Namun, bukan berarti COVID-19 sudah tidak ada, ya. Penyakit ini masih ada, tapi akan dianggap sebagai penyakit biasa, seperti flu, tuberkulosis, dan lain-lain.\\xa0Per 15 Mei 2023, meski ada penurunan kasus COVID-19, jumlah orang yang terinfeksi masih cukup banyak. Menurut laman Satuan Tugas Penanganan COVID-19, terjadi penurunan 1.502 kasus aktif dari hari sebelumnya, menjadi 16.667 kasus. Selain itu, kasus kesembuhan juga meningkat sebanyak 2.242 kasus.Jadi, kamu tetap perlu waspada. Bila mencurigai diri atau anggota keluarga mengidap infeksi virus corona, atau sulit membedakan gejala COVID-19 dengan flu, segeralah tanyakan pada dokter.Referensi:Centers for Disease Control and Prevention (CDC). Diakses pada 2021. 2019 Novel Coronavirus (2019-nCoV), Wuhan, China.Centers for Diseases Control and Prevention. Diakses pada 2021. If You Have Animals.Halodoc. Diakses pada 2021. Coronavirus.The GISAID Global Initiative on Sharing All Influenza Data. Diakses pada 2021. 2019-nCoV Global Cases (by Johns Hopkins CSSE).IDI - Siaran Pers Ikatan Dokter Indonesia. Diakses pada 2021. Outbreak Pneumonia Virus Wuhan.WHO. Diakses pada 2021. Can Pets at Home Spread The New Coronavirus (2019-nCoV)?WHO. Diakses pada 2021. CORONAVIRUS (COVID-19) UPDATE NO. 20.Satuan Tugas Penanganan COVID-19. Diakses pada 2023. Situasi COVID-19 di Indonesia (Update per 15 Mei 2023).Diperbarui pada 19 Mei 2023',\n",
       "  '“Ada banyak pilihan perawatan medis dan rumahan untuk karies gigi. Penting untuk segera merawatnya agar kerusakan tidak semakin parah.”Halodoc, Jakarta - Karies gigi adalah lubang kecil yang terbentuk pada permukaan gigi. Lubang kecil ini bisa berkembang menjadi gigi berlubang jika tidak ditangani. Penyebab dari kondisi ini adalah bakteri Streptococcus mutans, yang menghasilkan asam dari gula, membentuk plak, dan menyebabkan hilangnya mineral dari email gigi.\\xa0Erosi tersebut lama-kelamaan menyebabkan lubang kecil di email gigi. Lalu, setelah kerusakan asam menyebar ke lapisan dentin di bawah email, sebuah rongga atau lubang dapat terbentuk.\\xa0Pengobatan Medis untuk Karies GigiBanyak masalah gigi, bahkan gigi berlubang yang dalam, berkembang tanpa rasa sakit atau gejala lainnya. Pemeriksaan gigi secara teratur adalah cara terbaik mendeteksi karies gigi sebelum semakin parah.\\xa0Sebelumnya, perlu diketahui bahwa karies gigi berbeda dengan karang gigi. Simak perbedaannya di sini → Ini Beda Karang dan Karies Gigi yang Perlu DiketahuiJika kamu didiagnosis karies gigi, beberapa perawatan di dokter gigi yang umum dilakukan adalah:1.Perawatan FluoridePerawatan fluoride profesional mengandung lebih banyak fluoride daripada yang ada di pasta gigi dan obat kumur biasa. Jika fluoride yang lebih kuat dibutuhkan setiap hari, dokter gigi mungkin akan memberi resep.2.Tambal GigiTambal gigi adalah perawatan utama saat rongga telah berkembang melampaui enamel gigi.3.Pemasangan Mahkota GigiPemasangan mahkota gigi dilakukan untuk menutup gigi untuk mengatasi kerusakan parah.4.Perawatan Saluran AkarSaat kerusakan gigi mencapai bagian dalam gigi (pulpa), perawatan saluran akar mungkin diperlukan.5.Pencabutan GigiPerawatan ini biasanya dilakukan jika karies gigi sudah menyebabkan kerusakan parah.Lebih lanjut mengenai perawatan karies gigi bisa kamu baca di sini → Bagaimana Cara Merawat Karies Gigi?Pengobatan Rumahan untuk Karies GigiApa yang bisa dilakukan jika sudah mengalami karies gigi? Kamu bisa mencegah kondisi ini semakin parah, dengan perawatan rumahan berikut ini:1.Kunyah Permen Karet Bebas GulaMengunyah permen karet bebas gula setelah makan dapat membantu remineralisasi enamel. Permen karet bebas gula yang mengandung senyawa yang disebut kasein fosfopeptida-kalsium fosfat amorf (CPP-ACP).Senyawa tersebut telah terbukti mengurangi bakteri S. mutans. Bahkan lebih dari permen karet yang mengandung xylitol.\\xa02.Perbanyak Asupan Vitamin DVitamin D penting untuk membantu menyerap kalsium dan fosfat dari makanan yang kamu konsumsi. Kamu bisa mendapatkan vitamin D dari produk susu, seperti susu dan yoghurt, atau dengan berjemur di pagi hari.3.Menyikat Gigi dengan Pasta Gigi BerfluorideFluoride berperan penting dalam mencegah gigi berlubang dan remineralisasi email. Penelitian yang dipublikasikan di jurnal Community Dentistry and Oral Epidemiology pada 2014, menunjukkan bahwa menyikat gigi dengan pasta gigi berfluoride secara teratur dapat mencegah gigi berlubang.4.Kurangi Konsumsi Makanan ManisMakanan manis bisa menyebabkan dan membuat karies gigi semakin parah. Jadi, sebisa mungkin kurangi asupan gula dari makanan manis. Perhatikan juga kandungan gula dalam makanan atau minuman kemasan, yang biasanya mengandung pemanis buatan dalam jumlah banyak.\\xa05.Gunakan Akar LicoriceEkstrak dari tanaman licorice China (Glycyrrhiza uralensis) dapat memerangi bakteri yang menyebabkan karies gigi, menurut studi yang dimuat di Journal of Natural Products. Meski begitu, diperlukan studi yang lebih besar dan jangka panjang terkait hal ini.Berbagai perawatan rumahan tersebut tidak dapat menghilangkan karies gigi sepenuhnya. Namun, upaya tersebut bisa dilakukan untuk mencegah karies gigi menjadi lebih besar dan mencegah karies yang baru terbentuk.\\xa0Semakin dini karies gigi terdeteksi, semakin mudah bagi dokter gigi untuk memperbaikinya.Karies Gigi dan Gigi Berlubang Apa Bedanya?Karies gigi dan gigi berlubang memang mirip, tapi sebenarnya berbeda. Dalam medis, karies gigi terjadi ketika struktur dan lapisan gigi mengalami kerusakan secara bertahap. Diawali dengan terkikisnya enamel atau lapisan gigi terluar.Lalu, pengikisan berlanjut ke lapisan gigi yang lebih dalam lagi. Tepatnya ke dentin atau lapisan tengah gigi, hingga akhirnya mencapai akar gigi atau sementum.\\xa0Umumnya, karies gigi terjadi akibat kebiasaan mengonsumsi makanan atau minuman manis, serta kebersihan gigi yang kurang dijaga. Pada anak-anak, ada beberapa makanan yang dapat memicu karies gigi, simak di sini → Waspada, 4 Makanan Ini Picu Karies Gigi pada AnakKetika mengonsumsi yang manis-manis, bakteri alami yang ada di mulut akan mengubah gula tersebut menjadi asam. Lalu, jika kamu malas atau jarang menyikt gigi, tumpukan asam pada gigi akan berubah menjadi plak berwarna putih, kuning, cokelat, atau kehitaman pada gigi, dan terjadilah kerusakan atau karies gigi.\\xa0Nah, karies gigi yang tidak segera diatasi dapat menjadi parah dan menyebabkan gigi berlubang. Gigi berlubang yang sudah parah dapat menyebabkan sakit gigi yang tidak tertahankan.\\xa0Lebih lanjut mengenai perbedaan berbagai kondisi gigi tersebut, bisa kamu simak di sini → Ini Bedanya Gigi Berlubang, Karies, dan Karang GigiItulah pembahasan mengenai karies gigi, dan hal-hal lain yang perlu kamu ketahui. Jika mengalaminya, segeralah periksakan diri ke dokter, agar lubang dan kerusakan pada gigi tidak berlanjut.Referensi:Community Dentistry and Oral Epidemiology. Diakses pada 2021. High-Fluoride Toothpaste: a Multicenter Randomized Controlled Trial In Adults.Journal of Natural Products. Diakses pada 2021. Isoflavonoids and Coumarins from Glycyrrhiza uralensis: Antibacterial Activity against Oral Pathogens and Conversion of Isoflavans into Isoflavan-Quinones during Purification.Healthline. Diakses pada 2023. How to Get Rid of Cavities.Medical News Today. Diakses pada 2023. Natural Ways To Remove Cavities At Home.Halodoc. Diakses pada 2023. Ini Bedanya Gigi Berlubang, Karies, dan Karang Gigi.Diperbarui pada 17 Mei 2023',\n",
       "  ' “Burnout merupakan kondisi ketika seseorang mengalami stress kronis yang disebabkan karena pekerjaan. Burnout dapat mempengaruhi kesehatan fisik, emosional, dan mental seseorang, karena itu sebelum ini terjadi kamu harus mengetahui kapan waktunya beristirahat.” \\nHalodoc, Jakarta – Akhir-akhir ini mungkin kamu sering mendengar istilah burnout. Atau mungkin kamu merasakan sendiri fenomena ini. Kini burnout memang menjadi istilah modern yang sering dipakai di lingkungan kerja.\\nMelansir dari WHO, burnout merupakan sindrom yang dikonseptualisasikan sebagai akibat dari stress kronis di tempat kerja. Kondisi ini ditandai dengan tiga dimensi utama yaitu, perasaan kehabisan energi atau kelelahan, perasaan negatif atau sinisme terhadap pekerjaan orang lain, dan berkurangnya efektivitas profesional.\\nBurnout dapat mempengaruhi kesehatan mentalmu dan dunia karirmu. Karena itu sebelum ini terjadi kamu harus tahu kapan kamu butuh piknik dan istirahat sejenak.\\nTanda Kamu Butuh Piknik dan Istirahat dari Pekerjaan\\nApabila kamu mengalami tanda-tanda berikut, mungkin sudah waktunya kamu butuh piknik, dan istirahat dari segala urusan pekerjaan:\\n1. Membuat kesalahan yang sepele\\nMelakukan kesalahan dalam pekerjaan memang wajar terjadi. Akan tetapi, apabila kamu melakukan kesalahan yang sepele selama berulang kali, ini bisa menjadi pertanda kamu terlalu banyak bekerja atau bahkan kelelahan. Apalagi, kalau kamu sudah lama melakukan pekerjaan tersebut. Nah, di saat inilah kamu butuh piknik dan istirahat sejenak untuk menyegarkan kembali pikiran dan tubuhmu.\\xa0\\xa0\\n2. Kamu mulai membenci rekan kerjamu sendiri\\nBurnout tidak hanya menyebabkan masalah mental pada diri sendiri, tetapi juga bisa menyebabkan masalah pada orang lain. Salah satu ciri utama burnout adalah ketika kamu mulai memiliki perasaan negatif pada pekerjaan orang lain. Apabila kamu mulai merasakan ini, mungkin artinya, kamu sudah kelelahan dan mulai melihat segala sesuatu dari perspektif yang negatif. Jika kamu membiarkan perasaan ini begitu saja, bukan tidak mungkin, kamu bisa mengalami perselisihan dengan rekan kerjamu. Karena itu, jika sudah ada tanda-tanda perasaan negatif, beristirahatlah segera dan tenangkan diri.\\n3. Mengalami gangguan tidur\\nGangguan tidur adalah salah satu hal pertama yang dirasakan ketika seseorang merasa stress atau kewalahan. Biasanya gangguan tidur terjadi karena kamu mencoba menyelesaikan pekerjaan sampai larut malam. Alhasil jam tidur menjadi terganggu, dan kamu mulai sering terbangun di tengah malam tanpa bisa tertidur kembali.\\nSeperti yang sudah diketahui, kurang tidur dapat menyebabkan berbagai masalah kesehatan seperti rentan terserang penyakit, kurang fokus, dan bahkan memicu penyakit kronis seperti gangguan jantung. Maka dari itu, supaya gangguan ini tidak terjadi terus menerus, ambilah istirahat sejenak, dan setelah itu coba atur ulang jam tidurmu seperti semula.\\n4. Perubahan kebiasaan makan\\nPerubahan kebiasaan makan juga bisa menjadi indikator bahwa kamu butuh piknik dan istirahat. Dalam beberapa kasus, kamu mungkin mulai merasa bahwa kamu makan lebih sedikit atau melewatkan waktu makan tanpa menyadarinya. Saat sedang stress atau terlalu fokus dengan pekerjaan, beberapa orang memang melupakan rasa lapar. Meski begitu, bukan berarti kondisi ini bisa kamu abaikan begitu saja.\\n5. Merasa tidak termotivasi\\nTingkat stress yang tinggi dapat mengubah aktivitas yang pernah kamu nikmati menjadi tugas monoton yang harus kamu lakukan karena kewajiban. Jika kamu merasa kehilangan minat pada pekerjaanmu, atau mengerjakan pekerjaan dengan berat hati, ini bisa menjadi tanda bahwa kamu butuh piknik dan rehat sebentar.\\xa0 Supaya tidak stress selama bekerja, yuk cari tahu cara menjaga kesehatan mental selama bekerja di sini, “Begini Cara Menjaga Kesehatan Mental saat Bekerja.”\\n6. Jatuh sakit terus-menerus\\nStress tidak hanya berdampak pada kondisi psikis tetapi juga fisik. Sering jatuh sakit mungkin juga merupakan tanda bahwa stress telah menyerang sistem kekebalan tubuh, sebab stress terus menerus dapat menurunkan kemampuan tubuh untuk melawan infeksi.\\n7. Kulit kusam\\nTidak hanya karena masalah kulit, kulit yang terlihat kusam, juga menjadi tanda bahwa kamu butuh piknik dan hiburan dari pekerjaan. Ketika kamu stress suplai darah dan oksigen menjadi terbatas. Alhasil, wajah kekurangan nutrisi, terlihat lelah dan kusam, serta kehilangan kelembabannya.\\xa0\\xa0\\xa0\\nApabila kamu mulai merasakan salah satu tanda-tanda tersebut, segera istirahatkan diri dan jangan ragu untuk berkonsultasi dengan psikolog atau psikiater melalui aplikasi Halodoc. Kamu bisa konsultasikan masalah kesehatanmu dengan via chat, video/voice call. Yuk, tunggu apa lagi download Halodoc sekarang.\\xa0\\n\\nReferensi:\\nWHO. Diakses pada 2023. Burn-out an “occupational phenomenon”: International Classification of Diseases.\\xa0\\nHealthline. Diakses pada 2023. 12 Signs You Need to Take a Break ASAP\\nHealth Shots. Diakses pada 2023.7 tell-tale signs that indicate you desperately need a break from work\\n',\n",
       "  ' “Salah satu cara untuk mengurangi gejala autisme pada anak adalah dengan melakukan terapi ABA. Terapi analisis perilaku terapan atau ABA adalah program yang bertujuan untuk mengembangkan kemampuan sosial anak dan mengurangi perilaku yang tidak diinginkan.” \\nHalodoc, Jakarta – Autisme adalah salah satu gangguan perilaku yang bisa terjadi pada seseorang karena kelainan perkembangan saraf otaknya. Mayoritas kasus autisme bisa terlihat gejalanya sejak kanak-kanak. Karena perilaku autisme muncul dalam intensitas yang beragam di tiap individu, ada berbagai cara untuk mengurangi gejala tersebut. Salah satunya dengan melakukan terapi ABA.\\nAnalisis perilaku terapan atau applied behavior analysis adalah suatu program pengajaran untuk anak dengan autisme agar bisa mengembangkan kemampuan sosial, komunikasi, dan pembelajaran. Tujuannya adalah untuk meningkatkan perilaku yang dapat membantu pembelajaran dan mengurangi perilaku yang tidak diinginkan.\\nCara Kerja Terapi ABA\\nTerapi analisis perilaku terapan terdiri dari berbagai teknik untuk memahami dan memperbaiki perilaku anak. Metode ini telah membantu anak autis sejak tahun 1960-an. Cara kerjanya adalah dengan menggunakan strategi tertentu, dan strategi ini harus terapis aplikasikan kepada anak dengan cara yang fleksibel. Tidak semua anak dengan autisme akan merespon dengan cara yang sama atau mengerti dengan kecepatan yang sama.\\nSalah satu strategi utamanya adalah penguatan positif. Ini mengacu pada ‘menghadiahkan’ perilaku baik dengan suatu penghargaan untuk meningkatkan kemungkinan perilaku tersebut terulang di kemudian ini. Strategi penguatan positif ini berdasar dari hipotesis psikologi yang menyatakan bahwa menghargai perilaku baik akan lebih efektif dalam menjaga perilaku anak daripada menghukum perilaku buruk.\\nSelain penguatan positif, terapi ABA juga berusaha memahami anak dengan autisme dengan strategi A-B-C. Antecedents atau sebab adalah tahap pertama saat terapis mencari tahu tentang apa yang terjadi sebelum suatu perilaku atau behavior muncul. Setelah itu, consequences atau konsekuensi adalah hal yang terjadi pada anak setelah ia melakukan behavior tersebut. Dengan strategi ini, harapannya anak bisa mengerti perilaku seperti apa yang seharusnya mereka lakukan.\\xa0\\nManfaat Terapi ABA untuk Anak dengan Autisme\\nTerapi analisis perilaku terapan telah terbukti memberikan manfaat yang signifikan bagi anak-anak dengan autisme. Berikut adalah beberapa manfaat terapi ABA untuk anak-anak autis:\\n1. Mengembangkan keterampilan sosial\\nAnak autis umumnya memiliki kesulitan dalam menangkap sinyal-sinyal sosial. Ini menyebabkan mereka terkadang sulit untuk membaur dengan teman sebayanya. Dengan terapi ini, mereka bisa mengembangkan keterampilan sosial yang diperlukan dalam interaksi sehari-hari. Anak bisa belajar mengenali ekspresi wajah, mengatur kontak mata, berbagi minat dengan orang lain, mengikuti petunjuk sosial, dan memahami aturan perilaku yang berlaku.\\n2. Kemampuan belajar meningkat\\nTidak hanya dalam bergaul, terkadang anak dengan autisme juga belajar lebih lambat dari anak-anak normal. Maka dari itu, terapi ABA menggunakan pendekatan yang sistematis dan terstruktur untuk mengajar anak-anak autis sejak kecil. Dengan pendekatan ini, anak harapannya bisa lebih mudah belajar dengan cara yang konvensional, seperti mengingat informasi, mengikuti instruksi guru, dan memperhatikan penjelasan.\\xa0\\n3. Komunikasi lebih mudah\\nPengidap autisme, baik di masa kanak-kanak atau saat dewasa, cenderung sulit untuk berkomunikasi seperti orang pada umumnya. Baik itu dari cara bicara, kontak mata, hingga mereka menyampaikan pesan. Terapi ABA bermanfaat untuk meningkatkan keterampilan komunikasi verbal maupun nonverbal sehingga mereka bisa berinteraksi dan berkomunikasi dengan efektif.\\n4. Mengurangi perilaku negatif\\nKebiasaan buruk tertentu seperti tantrum, perilaku agresif, atau gerakan repetitif cukup sering terjadi pada anak autis. Orang tua umumnya memiliki keinginan untuk mengurangi perilaku seperti ini karena akan sulit membuat mereka berinteraksi dengan orang sekitar. Melalui strategi seperti penguatan positif, anak bisa beradaptasi sedikit demi sedikit untuk mengatasi emosi mereka.\\nItulah yang orang tua perlu tahu tentang terapi ABA untuk anak autis. Untuk informasi lebih lanjut tentang kondisi ini, ibu atau ayah bisa mencari tahu seputar Ciri-Ciri dan Penyebab Autisme pada Anak.\\nKalau anak menunjukkan gejala autisme sejak dini, jangan ragu untuk langsung melakukan konsultasi lebih lanjut dengan hubungi dokter melalui aplikasi Halodoc. Sekarang kamu bisa berkonsultasi dengan praktis kapan saja dan dari mana saja.\\xa0\\nTunggu apa lagi? Ayo download Halodoc sekarang juga!\\n\\nReferensi:\\xa0\\nVerywell Health. Diakses pada 2023. What Is Applied Behavioral Analysis (ABA) Therapy for Autism?\\nAutism Speaks. Diakses pada 2023. Applied Behavior Analysis (ABA)\\n',\n",
       "  ' “Ada banyak herbal yang dapat membantu meredakan sakit perut bagian bawah, termasuk jahe, chamomile, kunyit, dan daun mint. Namun, sebaiknya konsultasikan dengan dokter sebelum mengonsumsi herbal untuk memastikan kesesuaian dan dosis yang tepat bagi tubuh.” \\nHalodoc, Jakarta – Sakit perut bagian bawah dapat disebabkan oleh berbagai hal seperti menstruasi, infeksi saluran kemih, gangguan pencernaan, dan lain sebagainya. Sakit perut ini dapat mengganggu aktivitas sehari-hari dan membuat kamu tidak nyaman. Namun, seiring dengan berkembangnya teknologi medis, beberapa orang memilih untuk mencoba alternatif pengobatan seperti herbal.\\xa0\\nBerbagai kondisi bisa sebabkan sakit perut pada bagian bawah. Simak informasinya pada artikel: Awas, 8 Kondisi Ini Bisa Sebabkan Sakit Perut Bagian Bawah.\\nMakanan Herbal untuk Meredakan Sakit Perut Bagian Bawah\\nBerikut ini adalah 10 herbal yang dapat membantu meredakan sakit perut bagian bawah:\\n1. Kunyit\\nKunyit mengandung kurkumin yang dapat membantu mengurangi peradangan dan meredakan nyeri pada bagian perut bawah. Kamu dapat mengonsumsinya dalam bentuk kapsul atau menambahkannya ke dalam masakan.\\n2. Jahe\\nJahe adalah salah satu herbal yang telah digunakan selama berabad-abad untuk mengatasi masalah pencernaan, termasuk sakit perut. Tumbuhan herbal dapat membantu meningkatkan peredaran darah dan meredakan kram pada perut.\\n3. Chamomile\\nChamomile adalah herbal yang biasa orang gunakan untuk meredakan nyeri pada perut bawah. Teh chamomile dapat membantu meredakan peradangan dan meningkatkan kualitas tidur.\\n4. Lemon Balm\\nLemon balm memiliki sifat anti-inflamasi dan analgesik yang dapat membantu mengurangi rasa sakit pada perut bawah. Kamu dapat mengonsumsinya dalam bentuk teh atau kapsul.\\n5. Jintan hitam\\nJintan hitam atau black cumin seed dapat membantu meredakan sakit perut karena kandungan thymoquinone-nya yang dapat mengurangi peradangan dan meredakan nyeri.\\n6. Peppermint\\nPeppermint mengandung menthol yang dapat membantu meredakan nyeri perut dan meredakan kram pada perut. Kamu dapat mengonsumsinya dalam bentuk teh atau minyak esensial.\\n7. Fennel\\nFennel dapat membantu meredakan kembung dan meredakan kram pada perut. Anda dapat mengonsumsinya dalam bentuk teh atau menambahkannya ke dalam masakan.\\n8. Sage\\nSage memiliki sifat anti-inflamasi dan analgesik yang dapat membantu meredakan rasa sakit pada perut bawah. Kamu dapat mengonsumsinya dalam bentuk teh atau kapsul.\\n9. Licorice\\nLicorice dapat membantu meredakan peradangan pada saluran pencernaan dan meredakan kram pada perut. Kamu dapat mengonsumsinya dalam bentuk teh atau kapsul.\\n10. Cinnamon\\nCinnamon dapat membantu meredakan kembung dan meredakan kram pada perut. Kamu dapat menambahkannya ke dalam masakan atau mengonsumsinya dalam bentuk kapsul.\\nNamun, perlu kamu ingat bahwa herbal tidak selalu aman untuk dikonsumsi oleh semua orang. Jika kamu memiliki kondisi medis tertentu, sebaiknya konsultasikan dengan dokter atau ahli herbal sebelum mengonsumsi herbal ini. Selain itu, herbal juga tidak boleh kamu jadikan pengganti obat medis jika sakit perut disebabkan oleh kondisi medis yang serius.\\nJika kamu ingin membeli minuman/makanan herbal untuk meredakan nyerinya, bisa memesan dengan mudah melalui Halodoc. Selain itu, jika sakit perut pada bagian bawah tetap tidak membaik, segeralah hubungi dokter. Jadi tunggu apalagi, segera download aplikasi Halodoc sekarang juga dan nikmati kemudahannya!\\n\\nReferensi:\\nVery Well Health. Diakses pada 2023. 7 Ways to Get Rid of a Stomachache Fast.\\nSt John & St Elizabeth Hospital. Diakses pada 2023. Home remedies for stomach pain and when you should go to the hospital.\\n'])"
      ]
     },
     "execution_count": 30,
     "metadata": {},
     "output_type": "execute_result"
    }
   ],
   "source": [
    "# tokenization df to list\n",
    "title = df['title'].tolist()\n",
    "content = df['content'].tolist()\n",
    "\n",
    "\n",
    "(title[:5], content[:5])"
   ]
  }
 ],
 "metadata": {
  "kernelspec": {
   "display_name": "Python 3",
   "language": "python",
   "name": "python3"
  },
  "language_info": {
   "codemirror_mode": {
    "name": "ipython",
    "version": 3
   },
   "file_extension": ".py",
   "mimetype": "text/x-python",
   "name": "python",
   "nbconvert_exporter": "python",
   "pygments_lexer": "ipython3",
   "version": "3.10.7"
  },
  "orig_nbformat": 4
 },
 "nbformat": 4,
 "nbformat_minor": 2
}
